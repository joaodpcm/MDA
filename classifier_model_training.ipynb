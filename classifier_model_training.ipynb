{
 "cells": [
  {
   "cell_type": "code",
   "execution_count": 2,
   "id": "ca3de549",
   "metadata": {
    "scrolled": true
   },
   "outputs": [
    {
     "name": "stdout",
     "output_type": "stream",
     "text": [
      "Requirement already satisfied: statsmodels in /opt/anaconda3/lib/python3.9/site-packages (0.13.2)\n",
      "Requirement already satisfied: patsy>=0.5.2 in /opt/anaconda3/lib/python3.9/site-packages (from statsmodels) (0.5.2)\n",
      "Requirement already satisfied: packaging>=21.3 in /opt/anaconda3/lib/python3.9/site-packages (from statsmodels) (21.3)\n",
      "Requirement already satisfied: pandas>=0.25 in /opt/anaconda3/lib/python3.9/site-packages (from statsmodels) (1.4.4)\n",
      "Requirement already satisfied: scipy>=1.3 in /opt/anaconda3/lib/python3.9/site-packages (from statsmodels) (1.9.1)\n",
      "Requirement already satisfied: numpy>=1.17 in /opt/anaconda3/lib/python3.9/site-packages (from statsmodels) (1.21.5)\n",
      "Requirement already satisfied: pyparsing!=3.0.5,>=2.0.2 in /opt/anaconda3/lib/python3.9/site-packages (from packaging>=21.3->statsmodels) (3.0.9)\n",
      "Requirement already satisfied: python-dateutil>=2.8.1 in /opt/anaconda3/lib/python3.9/site-packages (from pandas>=0.25->statsmodels) (2.8.2)\n",
      "Requirement already satisfied: pytz>=2020.1 in /opt/anaconda3/lib/python3.9/site-packages (from pandas>=0.25->statsmodels) (2022.1)\n",
      "Requirement already satisfied: six in /opt/anaconda3/lib/python3.9/site-packages (from patsy>=0.5.2->statsmodels) (1.16.0)\n",
      "Requirement already satisfied: missingno in /opt/anaconda3/lib/python3.9/site-packages (0.5.2)\n",
      "Requirement already satisfied: numpy in /opt/anaconda3/lib/python3.9/site-packages (from missingno) (1.21.5)\n",
      "Requirement already satisfied: matplotlib in /opt/anaconda3/lib/python3.9/site-packages (from missingno) (3.5.2)\n",
      "Requirement already satisfied: seaborn in /opt/anaconda3/lib/python3.9/site-packages (from missingno) (0.11.2)\n",
      "Requirement already satisfied: scipy in /opt/anaconda3/lib/python3.9/site-packages (from missingno) (1.9.1)\n",
      "Requirement already satisfied: pillow>=6.2.0 in /opt/anaconda3/lib/python3.9/site-packages (from matplotlib->missingno) (9.2.0)\n",
      "Requirement already satisfied: pyparsing>=2.2.1 in /opt/anaconda3/lib/python3.9/site-packages (from matplotlib->missingno) (3.0.9)\n",
      "Requirement already satisfied: python-dateutil>=2.7 in /opt/anaconda3/lib/python3.9/site-packages (from matplotlib->missingno) (2.8.2)\n",
      "Requirement already satisfied: fonttools>=4.22.0 in /opt/anaconda3/lib/python3.9/site-packages (from matplotlib->missingno) (4.25.0)\n",
      "Requirement already satisfied: kiwisolver>=1.0.1 in /opt/anaconda3/lib/python3.9/site-packages (from matplotlib->missingno) (1.4.2)\n",
      "Requirement already satisfied: packaging>=20.0 in /opt/anaconda3/lib/python3.9/site-packages (from matplotlib->missingno) (21.3)\n",
      "Requirement already satisfied: cycler>=0.10 in /opt/anaconda3/lib/python3.9/site-packages (from matplotlib->missingno) (0.11.0)\n",
      "Requirement already satisfied: pandas>=0.23 in /opt/anaconda3/lib/python3.9/site-packages (from seaborn->missingno) (1.4.4)\n",
      "Requirement already satisfied: pytz>=2020.1 in /opt/anaconda3/lib/python3.9/site-packages (from pandas>=0.23->seaborn->missingno) (2022.1)\n",
      "Requirement already satisfied: six>=1.5 in /opt/anaconda3/lib/python3.9/site-packages (from python-dateutil>=2.7->matplotlib->missingno) (1.16.0)\n",
      "Requirement already satisfied: scikit-learn in /opt/anaconda3/lib/python3.9/site-packages (1.0.2)\n",
      "Requirement already satisfied: scipy>=1.1.0 in /opt/anaconda3/lib/python3.9/site-packages (from scikit-learn) (1.9.1)\n",
      "Requirement already satisfied: threadpoolctl>=2.0.0 in /opt/anaconda3/lib/python3.9/site-packages (from scikit-learn) (2.2.0)\n",
      "Requirement already satisfied: joblib>=0.11 in /opt/anaconda3/lib/python3.9/site-packages (from scikit-learn) (1.1.0)\n",
      "Requirement already satisfied: numpy>=1.14.6 in /opt/anaconda3/lib/python3.9/site-packages (from scikit-learn) (1.21.5)\n",
      "Requirement already satisfied: xgboost in /opt/anaconda3/lib/python3.9/site-packages (1.7.5)\n",
      "Requirement already satisfied: scipy in /opt/anaconda3/lib/python3.9/site-packages (from xgboost) (1.9.1)\n",
      "Requirement already satisfied: numpy in /opt/anaconda3/lib/python3.9/site-packages (from xgboost) (1.21.5)\n"
     ]
    }
   ],
   "source": [
    "# Import libraries\n",
    "!pip install statsmodels\n",
    "!pip install missingno\n",
    "!pip install scikit-learn\n",
    "!pip install xgboost\n",
    "import numpy as np \n",
    "import seaborn as sns\n",
    "import plotly.graph_objects as go\n",
    "import pandas as pd\n",
    "import missingno as msno\n",
    "import matplotlib.pyplot as plt\n",
    "import os\n",
    "import sklearn\n",
    "from scipy import stats\n",
    "import xgboost as xgb"
   ]
  },
  {
   "cell_type": "code",
   "execution_count": 3,
   "id": "6e43c6cd",
   "metadata": {},
   "outputs": [],
   "source": [
    "df = pd.read_csv('/Users/davidfrost/Documents/modern_data_analytics/assignment/data.csv')"
   ]
  },
  {
   "cell_type": "markdown",
   "id": "a9608580",
   "metadata": {},
   "source": [
    "EDA"
   ]
  },
  {
   "cell_type": "code",
   "execution_count": 4,
   "id": "5d6dc82d",
   "metadata": {},
   "outputs": [],
   "source": [
    "from sklearn import preprocessing\n",
    "le = preprocessing.LabelEncoder()\n",
    "df['label_enc'] = le.fit_transform(df['label'])"
   ]
  },
  {
   "cell_type": "code",
   "execution_count": 5,
   "id": "f3c476d1",
   "metadata": {},
   "outputs": [
    {
     "data": {
      "text/html": [
       "<div>\n",
       "<style scoped>\n",
       "    .dataframe tbody tr th:only-of-type {\n",
       "        vertical-align: middle;\n",
       "    }\n",
       "\n",
       "    .dataframe tbody tr th {\n",
       "        vertical-align: top;\n",
       "    }\n",
       "\n",
       "    .dataframe thead th {\n",
       "        text-align: right;\n",
       "    }\n",
       "</style>\n",
       "<table border=\"1\" class=\"dataframe\">\n",
       "  <thead>\n",
       "    <tr style=\"text-align: right;\">\n",
       "      <th></th>\n",
       "      <th>id</th>\n",
       "      <th>temp</th>\n",
       "      <th>humidity</th>\n",
       "      <th>wind</th>\n",
       "      <th>rain</th>\n",
       "      <th>target</th>\n",
       "      <th>label</th>\n",
       "      <th>events_count</th>\n",
       "      <th>nameday</th>\n",
       "      <th>hour</th>\n",
       "      <th>label_enc</th>\n",
       "    </tr>\n",
       "  </thead>\n",
       "  <tbody>\n",
       "    <tr>\n",
       "      <th>0</th>\n",
       "      <td>2022-01-01 00:00:00</td>\n",
       "      <td>13.131834</td>\n",
       "      <td>89.350000</td>\n",
       "      <td>0.042000</td>\n",
       "      <td>0.000000</td>\n",
       "      <td>55.88125</td>\n",
       "      <td>Intermediate</td>\n",
       "      <td>0</td>\n",
       "      <td>5</td>\n",
       "      <td>0</td>\n",
       "      <td>1</td>\n",
       "    </tr>\n",
       "    <tr>\n",
       "      <th>1</th>\n",
       "      <td>2022-01-01 01:00:00</td>\n",
       "      <td>13.129184</td>\n",
       "      <td>88.458333</td>\n",
       "      <td>0.063333</td>\n",
       "      <td>0.000000</td>\n",
       "      <td>58.05625</td>\n",
       "      <td>High</td>\n",
       "      <td>0</td>\n",
       "      <td>5</td>\n",
       "      <td>1</td>\n",
       "      <td>0</td>\n",
       "    </tr>\n",
       "    <tr>\n",
       "      <th>2</th>\n",
       "      <td>2022-01-01 02:00:00</td>\n",
       "      <td>12.927130</td>\n",
       "      <td>88.291667</td>\n",
       "      <td>0.026667</td>\n",
       "      <td>0.000125</td>\n",
       "      <td>51.57500</td>\n",
       "      <td>Intermediate</td>\n",
       "      <td>0</td>\n",
       "      <td>5</td>\n",
       "      <td>2</td>\n",
       "      <td>1</td>\n",
       "    </tr>\n",
       "    <tr>\n",
       "      <th>3</th>\n",
       "      <td>2022-01-01 03:00:00</td>\n",
       "      <td>12.800749</td>\n",
       "      <td>88.041667</td>\n",
       "      <td>0.027083</td>\n",
       "      <td>0.000000</td>\n",
       "      <td>48.67500</td>\n",
       "      <td>Intermediate</td>\n",
       "      <td>0</td>\n",
       "      <td>5</td>\n",
       "      <td>3</td>\n",
       "      <td>1</td>\n",
       "    </tr>\n",
       "    <tr>\n",
       "      <th>4</th>\n",
       "      <td>2022-01-01 04:00:00</td>\n",
       "      <td>12.524946</td>\n",
       "      <td>87.666667</td>\n",
       "      <td>0.028333</td>\n",
       "      <td>0.000000</td>\n",
       "      <td>46.12500</td>\n",
       "      <td>Intermediate</td>\n",
       "      <td>0</td>\n",
       "      <td>5</td>\n",
       "      <td>4</td>\n",
       "      <td>1</td>\n",
       "    </tr>\n",
       "    <tr>\n",
       "      <th>5</th>\n",
       "      <td>2022-01-01 05:00:00</td>\n",
       "      <td>11.859896</td>\n",
       "      <td>88.541667</td>\n",
       "      <td>0.015417</td>\n",
       "      <td>0.000000</td>\n",
       "      <td>44.55000</td>\n",
       "      <td>Intermediate</td>\n",
       "      <td>0</td>\n",
       "      <td>5</td>\n",
       "      <td>5</td>\n",
       "      <td>1</td>\n",
       "    </tr>\n",
       "    <tr>\n",
       "      <th>6</th>\n",
       "      <td>2022-01-01 06:00:00</td>\n",
       "      <td>11.503234</td>\n",
       "      <td>88.833333</td>\n",
       "      <td>0.020000</td>\n",
       "      <td>0.000000</td>\n",
       "      <td>41.57500</td>\n",
       "      <td>Low</td>\n",
       "      <td>0</td>\n",
       "      <td>5</td>\n",
       "      <td>6</td>\n",
       "      <td>2</td>\n",
       "    </tr>\n",
       "    <tr>\n",
       "      <th>7</th>\n",
       "      <td>2022-01-01 07:00:00</td>\n",
       "      <td>11.334430</td>\n",
       "      <td>88.958333</td>\n",
       "      <td>0.037083</td>\n",
       "      <td>0.000000</td>\n",
       "      <td>41.70000</td>\n",
       "      <td>Low</td>\n",
       "      <td>0</td>\n",
       "      <td>5</td>\n",
       "      <td>7</td>\n",
       "      <td>2</td>\n",
       "    </tr>\n",
       "    <tr>\n",
       "      <th>8</th>\n",
       "      <td>2022-01-01 08:00:00</td>\n",
       "      <td>10.970783</td>\n",
       "      <td>90.000000</td>\n",
       "      <td>0.025833</td>\n",
       "      <td>0.000000</td>\n",
       "      <td>41.73125</td>\n",
       "      <td>Low</td>\n",
       "      <td>0</td>\n",
       "      <td>5</td>\n",
       "      <td>8</td>\n",
       "      <td>2</td>\n",
       "    </tr>\n",
       "    <tr>\n",
       "      <th>9</th>\n",
       "      <td>2022-01-01 09:00:00</td>\n",
       "      <td>11.365553</td>\n",
       "      <td>88.958333</td>\n",
       "      <td>0.137083</td>\n",
       "      <td>0.000000</td>\n",
       "      <td>43.00000</td>\n",
       "      <td>Low</td>\n",
       "      <td>0</td>\n",
       "      <td>5</td>\n",
       "      <td>9</td>\n",
       "      <td>2</td>\n",
       "    </tr>\n",
       "  </tbody>\n",
       "</table>\n",
       "</div>"
      ],
      "text/plain": [
       "                    id       temp   humidity      wind      rain    target  \\\n",
       "0  2022-01-01 00:00:00  13.131834  89.350000  0.042000  0.000000  55.88125   \n",
       "1  2022-01-01 01:00:00  13.129184  88.458333  0.063333  0.000000  58.05625   \n",
       "2  2022-01-01 02:00:00  12.927130  88.291667  0.026667  0.000125  51.57500   \n",
       "3  2022-01-01 03:00:00  12.800749  88.041667  0.027083  0.000000  48.67500   \n",
       "4  2022-01-01 04:00:00  12.524946  87.666667  0.028333  0.000000  46.12500   \n",
       "5  2022-01-01 05:00:00  11.859896  88.541667  0.015417  0.000000  44.55000   \n",
       "6  2022-01-01 06:00:00  11.503234  88.833333  0.020000  0.000000  41.57500   \n",
       "7  2022-01-01 07:00:00  11.334430  88.958333  0.037083  0.000000  41.70000   \n",
       "8  2022-01-01 08:00:00  10.970783  90.000000  0.025833  0.000000  41.73125   \n",
       "9  2022-01-01 09:00:00  11.365553  88.958333  0.137083  0.000000  43.00000   \n",
       "\n",
       "          label  events_count  nameday  hour  label_enc  \n",
       "0  Intermediate             0        5     0          1  \n",
       "1          High             0        5     1          0  \n",
       "2  Intermediate             0        5     2          1  \n",
       "3  Intermediate             0        5     3          1  \n",
       "4  Intermediate             0        5     4          1  \n",
       "5  Intermediate             0        5     5          1  \n",
       "6           Low             0        5     6          2  \n",
       "7           Low             0        5     7          2  \n",
       "8           Low             0        5     8          2  \n",
       "9           Low             0        5     9          2  "
      ]
     },
     "execution_count": 5,
     "metadata": {},
     "output_type": "execute_result"
    }
   ],
   "source": [
    "df.head(10)"
   ]
  },
  {
   "cell_type": "markdown",
   "id": "d7a813f9",
   "metadata": {},
   "source": [
    "Splitting data"
   ]
  },
  {
   "cell_type": "code",
   "execution_count": 79,
   "id": "7309fafd",
   "metadata": {},
   "outputs": [],
   "source": [
    "# Extracting correct features\n",
    "from sklearn.model_selection import train_test_split\n",
    "x = df[['temp', 'nameday', 'hour', 'humidity', 'rain', 'wind', 'events_count']]\n",
    "  \n",
    "y = df['label_enc']\n",
    "\n",
    "X_train, X_test, y_train, y_test = train_test_split(x, y, random_state=42, test_size=0.2)"
   ]
  },
  {
   "cell_type": "code",
   "execution_count": 94,
   "id": "95ce2919",
   "metadata": {
    "scrolled": true
   },
   "outputs": [
    {
     "data": {
      "text/plain": [
       "Pipeline(steps=[('preprocessor',\n",
       "                 ColumnTransformer(transformers=[('num',\n",
       "                                                  Pipeline(steps=[('scaler',\n",
       "                                                                   StandardScaler())]),\n",
       "                                                  ['temp', 'humidity', 'rain',\n",
       "                                                   'wind']),\n",
       "                                                 ('cat',\n",
       "                                                  Pipeline(steps=[('onehot',\n",
       "                                                                   OneHotEncoder(handle_unknown='ignore'))]),\n",
       "                                                  ['hour', 'nameday',\n",
       "                                                   'events_count'])])),\n",
       "                ('classifier',\n",
       "                 XGBClassifier(base_score=None, booster=None, callbacks=None,\n",
       "                               colsample_byl...\n",
       "                               grow_policy=None, importance_type=None,\n",
       "                               interaction_constraints=None, learning_rate=None,\n",
       "                               max_bin=None, max_cat_threshold=None,\n",
       "                               max_cat_to_onehot=None, max_delta_step=None,\n",
       "                               max_depth=None, max_leaves=None,\n",
       "                               min_child_weight=None, missing=nan,\n",
       "                               monotone_constraints=None, n_estimators=100,\n",
       "                               n_jobs=None, num_class=3, num_parallel_tree=None,\n",
       "                               objective='multi:softmax', ...))])"
      ]
     },
     "execution_count": 94,
     "metadata": {},
     "output_type": "execute_result"
    }
   ],
   "source": [
    "from sklearn.compose import ColumnTransformer\n",
    "from sklearn.pipeline import Pipeline\n",
    "from sklearn.preprocessing import StandardScaler, OneHotEncoder\n",
    "from sklearn.metrics import accuracy_score\n",
    "from sklearn.exceptions import NotFittedError\n",
    "from sklearn.inspection import permutation_importance\n",
    "from xgboost import XGBClassifier\n",
    "\n",
    "# Define numeric and categorical features\n",
    "numeric_features = ['temp', 'humidity', 'rain', 'wind']\n",
    "categorical_features = ['hour', 'nameday', 'events_count']\n",
    "\n",
    "\n",
    "# Define transformers for numeric and categorical features\n",
    "numeric_transformer = Pipeline(steps=[\n",
    "    ('scaler', StandardScaler())\n",
    "])\n",
    "\n",
    "categorical_transformer = Pipeline(steps=[\n",
    "    ('onehot', OneHotEncoder(handle_unknown='ignore'))\n",
    "])\n",
    "\n",
    "# Create preprocessor for numeric and categorical features\n",
    "preprocessor = ColumnTransformer(\n",
    "    transformers=[\n",
    "        ('num', numeric_transformer, numeric_features),\n",
    "        ('cat', categorical_transformer, categorical_features)\n",
    "    ])\n",
    "\n",
    "# Create pipeline with preprocessor and XGBoost classifier\n",
    "xgb = Pipeline(steps=[\n",
    "    ('preprocessor', preprocessor),\n",
    "    ('classifier', XGBClassifier(objective='multi:softmax', num_class=3))\n",
    "])\n",
    "# Fit the pipeline on the training data\n",
    "xgb.fit(X_train, y_train)"
   ]
  },
  {
   "cell_type": "code",
   "execution_count": 95,
   "id": "b9dfc4c5",
   "metadata": {},
   "outputs": [],
   "source": [
    "# Make predictions on the test data\n",
    "y_pred_xgb = xgb.predict(X_test)\n",
    "\n",
    "# # Fit the OneHotEncoder transformer to the categorical features\n",
    "# categorical_transformer.fit(X_train[categorical_features])\n",
    "\n",
    "# # Get feature importances and names\n",
    "# importances = rfc.named_steps['regressor'].feature_importances_\n",
    "# encoded_cat_features = categorical_transformer.named_steps['onehot'].get_feature_names_out(categorical_features)\n",
    "# all_feature_names = numeric_features + list(encoded_cat_features)\n",
    "# feature_importances = np.zeros(len(all_feature_names))\n",
    "\n",
    "# # Add the importances of the original numeric features\n",
    "# feature_importances[:len(numeric_features)] += importances[:len(numeric_features)]\n",
    "\n",
    "# # Combine the importances of the encoded categorical features into the original features\n",
    "# feature_importances = importances[:len(numeric_features)].tolist()  # Start with the numeric features\n",
    "# for i, feature_name in enumerate(categorical_features):\n",
    "#     encoded_cat_importances = [\n",
    "#         importances[j] for j, feat_name in enumerate(all_feature_names)\n",
    "#         if feat_name.startswith(feature_name + '_')\n",
    "#     ]\n",
    "#     feature_importances.append(sum(encoded_cat_importances))\n",
    "\n",
    "# # Get the names of the original features\n",
    "# original_feature_names = numeric_features + categorical_features\n",
    "\n",
    "# # Plot the feature importances\n",
    "# plt.figure(figsize=(10,8))\n",
    "# plt.barh(original_feature_names, feature_importances)\n",
    "# plt.xlabel('Feature Importance')\n",
    "# plt.ylabel('Features')\n",
    "# plt.title('Random Forest Class Feature Importances')\n",
    "# plt.show()"
   ]
  },
  {
   "cell_type": "code",
   "execution_count": 97,
   "id": "a5d5965b",
   "metadata": {},
   "outputs": [
    {
     "name": "stdout",
     "output_type": "stream",
     "text": [
      "              precision    recall  f1-score   support\n",
      "\n",
      "           0       0.46      0.14      0.21       236\n",
      "           1       0.73      0.94      0.82      1204\n",
      "           2       0.52      0.17      0.26       279\n",
      "\n",
      "    accuracy                           0.71      1719\n",
      "   macro avg       0.57      0.42      0.43      1719\n",
      "weighted avg       0.66      0.71      0.65      1719\n",
      "\n"
     ]
    }
   ],
   "source": [
    "from sklearn.metrics import classification_report\n",
    "\n",
    "# Generate predictions on the test set\n",
    "y_pred_xgb = xgb.predict(X_test)\n",
    "\n",
    "# Create a classification report\n",
    "print(classification_report(y_test, y_pred_xgb))"
   ]
  },
  {
   "cell_type": "code",
   "execution_count": 98,
   "id": "1db4367f",
   "metadata": {
    "scrolled": true
   },
   "outputs": [
    {
     "data": {
      "text/plain": [
       "1    1555\n",
       "2      93\n",
       "0      71\n",
       "dtype: int64"
      ]
     },
     "execution_count": 98,
     "metadata": {},
     "output_type": "execute_result"
    }
   ],
   "source": [
    "preds = pd.DataFrame(y_pred_xgb)\n",
    "preds.value_counts()"
   ]
  },
  {
   "cell_type": "code",
   "execution_count": 99,
   "id": "1d05a206",
   "metadata": {},
   "outputs": [
    {
     "name": "stdout",
     "output_type": "stream",
     "text": [
      "Cross-validation scores:  [0.70855148 0.72134962 0.71653085 0.7363213  0.71420256]\n",
      "Average accuracy: 0.72\n"
     ]
    }
   ],
   "source": [
    "from sklearn.model_selection import cross_val_score, KFold\n",
    "# Create a KFold object with 5 folds\n",
    "kfold = KFold(n_splits=5, shuffle=True, random_state=42)\n",
    "\n",
    "# Perform cross-validation and print the results\n",
    "cv_scores = cross_val_score(xgb, x, y, cv=kfold)\n",
    "print(\"Cross-validation scores: \", cv_scores)\n",
    "print(\"Average accuracy: {:.2f}\".format(cv_scores.mean()))"
   ]
  },
  {
   "cell_type": "code",
   "execution_count": 106,
   "id": "f6a424da",
   "metadata": {},
   "outputs": [
    {
     "name": "stdout",
     "output_type": "stream",
     "text": [
      "Best Parameters: {'classifier__learning_rate': 0.1, 'classifier__max_delta_step': 1, 'classifier__max_depth': 5, 'classifier__n_estimators': 200, 'classifier__subsample': 0.8, 'classifier__tree_method': 'hist'}\n",
      "Best Score: 0.7191910373926961\n"
     ]
    }
   ],
   "source": [
    "from sklearn.model_selection import GridSearchCV\n",
    "\n",
    "# Define the parameter grid for grid search\n",
    "param_grid = {\n",
    "    'classifier__n_estimators': [100, 200, 300],\n",
    "    'classifier__learning_rate': [0.1, 0.01, 0.001],\n",
    "    'classifier__max_depth': [3, 4, 5],\n",
    "    'classifier__subsample': [0.8, 0.9],\n",
    "    'classifier__max_delta_step': [1, 2],\n",
    "    'classifier__tree_method': ['hist']\n",
    "}\n",
    "\n",
    "# Create the GridSearchCV object\n",
    "grid_search = GridSearchCV(xgb, param_grid=param_grid, cv=3)\n",
    "\n",
    "# Fit the GridSearchCV on the training data\n",
    "grid_search.fit(X_train, y_train)\n",
    "\n",
    "# Get the best parameters and best score from the grid search\n",
    "best_params = grid_search.best_params_\n",
    "best_score = grid_search.best_score_\n",
    "\n",
    "# Print the best parameters and best score\n",
    "print(\"Best Parameters:\", best_params)\n",
    "print(\"Best Score:\", best_score)"
   ]
  },
  {
   "cell_type": "code",
   "execution_count": 108,
   "id": "5d188b7a",
   "metadata": {},
   "outputs": [
    {
     "name": "stdout",
     "output_type": "stream",
     "text": [
      "Requirement already satisfied: beautifulsoup4 in /opt/anaconda3/lib/python3.9/site-packages (4.11.1)\r\n",
      "Requirement already satisfied: soupsieve>1.2 in /opt/anaconda3/lib/python3.9/site-packages (from beautifulsoup4) (2.3.1)\r\n"
     ]
    }
   ],
   "source": [
    "!pip install beautifulsoup4\n",
    "import requests\n",
    "from bs4 import BeautifulSoup\n",
    "import pandas as pd\n",
    "from datetime import datetime\n",
    "from datetime import timedelta\n",
    "content = \"https://weather.com/weather/hourbyhour/l/c097b546627cdff2da1e276cb9b2731055718a5e7270d777a92857a9701c7870\"\n",
    "response = requests.get(content)\n",
    "soup = BeautifulSoup(response.content, 'html.parser')\n",
    "\n",
    "temp_val = soup.findAll('div', attrs={'class':'DetailsTable--field--CPpc_'})\n",
    "\n",
    "\n",
    "forecast = pd.DataFrame()\n",
    "forecast['temp'] = [round((int(temp_val[i].text[-3:-1])-32 ) *5/9, 1) for i in list(np.array(range(288))) if i%6 == 0]\n",
    "forecast['wind'] = [float(temp_val[i].text.split(' ')[1]) for i in list(np.array(range(288))) if i%6 == 1]\n",
    "forecast['wind_direction'] = [temp_val[i].text.split(' ')[0] for i in list(np.array(range(288))) if i%6 == 1]\n",
    "forecast['humidity'] = [int(temp_val[i].text[-3:-1]) for i in list(np.array(range(288))) if i%6 == 2]\n",
    "forecast['cloud_cover'] = [int(temp_val[i].text.replace('Cloud Cover', '')[:-1]) for i in list(np.array(range(288))) if i%6 == 4]\n",
    "forecast['rain'] = [int(temp_val[i].text.replace('Rain Amount', '').replace(' in', '')) for i in list(np.array(range(288))) if i%6 == 5]\n",
    "weekday = [(datetime.now()+timedelta(hours=i)).weekday() for i in range(48)]\n",
    "hour_of_day = [(datetime.now()+timedelta(hours=i)).hour for i in range(48)]\n",
    "forecast['nameday'] = weekday\n",
    "forecast['hour'] = hour_of_day\n",
    "forecast['events_count'] = '' # This value has to be included by the user. So edit this. The value now is missing, but the model running, so even if nothing is provided, it will run\n",
    "forecast['tag_category'] = '' # This value has to be included by the user. So edit this\n"
   ]
  },
  {
   "cell_type": "code",
   "execution_count": 109,
   "id": "e4ea037c",
   "metadata": {},
   "outputs": [],
   "source": [
    "# Generate predictions on the test set\n",
    "prediction_app = xgb.predict(forecast)"
   ]
  },
  {
   "cell_type": "code",
   "execution_count": 110,
   "id": "296dde3b",
   "metadata": {},
   "outputs": [
    {
     "data": {
      "text/plain": [
       "array([0, 0, 0, 0, 0, 0, 0, 0, 0, 0, 1, 1, 0, 0, 2, 2, 2, 1, 1, 0, 0, 0,\n",
       "       0, 0, 0, 0, 0, 0, 0, 0, 0, 0, 0, 0, 0, 1, 0, 0, 1, 1, 1, 0, 1, 0,\n",
       "       0, 0, 0, 0], dtype=int32)"
      ]
     },
     "execution_count": 110,
     "metadata": {},
     "output_type": "execute_result"
    }
   ],
   "source": [
    "prediction_app"
   ]
  },
  {
   "cell_type": "code",
   "execution_count": 111,
   "id": "0846dad8",
   "metadata": {},
   "outputs": [],
   "source": [
    "import pickle\n",
    "# Saving the model to a file\n",
    "filename = '/Users/davidfrost/Documents/modern_data_analytics/assignment/classifier.pkl' # add specific path\n",
    "with open(filename, 'wb') as file:\n",
    "    pickle.dump(xgb, file)"
   ]
  },
  {
   "cell_type": "markdown",
   "id": "6c220a57",
   "metadata": {},
   "source": [
    ":("
   ]
  }
 ],
 "metadata": {
  "kernelspec": {
   "display_name": "Python 3 (ipykernel)",
   "language": "python",
   "name": "python3"
  },
  "language_info": {
   "codemirror_mode": {
    "name": "ipython",
    "version": 3
   },
   "file_extension": ".py",
   "mimetype": "text/x-python",
   "name": "python",
   "nbconvert_exporter": "python",
   "pygments_lexer": "ipython3",
   "version": "3.9.13"
  }
 },
 "nbformat": 4,
 "nbformat_minor": 5
}
