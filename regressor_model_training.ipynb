{
 "cells": [
  {
   "cell_type": "code",
   "execution_count": 1,
   "id": "4216ef4f",
   "metadata": {},
   "outputs": [
    {
     "name": "stdout",
     "output_type": "stream",
     "text": [
      "Requirement already satisfied: statsmodels in /opt/anaconda3/lib/python3.9/site-packages (0.13.2)\n",
      "Requirement already satisfied: numpy>=1.17 in /opt/anaconda3/lib/python3.9/site-packages (from statsmodels) (1.21.5)\n",
      "Requirement already satisfied: packaging>=21.3 in /opt/anaconda3/lib/python3.9/site-packages (from statsmodels) (21.3)\n",
      "Requirement already satisfied: scipy>=1.3 in /opt/anaconda3/lib/python3.9/site-packages (from statsmodels) (1.9.1)\n",
      "Requirement already satisfied: patsy>=0.5.2 in /opt/anaconda3/lib/python3.9/site-packages (from statsmodels) (0.5.2)\n",
      "Requirement already satisfied: pandas>=0.25 in /opt/anaconda3/lib/python3.9/site-packages (from statsmodels) (1.4.4)\n",
      "Requirement already satisfied: pyparsing!=3.0.5,>=2.0.2 in /opt/anaconda3/lib/python3.9/site-packages (from packaging>=21.3->statsmodels) (3.0.9)\n",
      "Requirement already satisfied: python-dateutil>=2.8.1 in /opt/anaconda3/lib/python3.9/site-packages (from pandas>=0.25->statsmodels) (2.8.2)\n",
      "Requirement already satisfied: pytz>=2020.1 in /opt/anaconda3/lib/python3.9/site-packages (from pandas>=0.25->statsmodels) (2022.1)\n",
      "Requirement already satisfied: six in /opt/anaconda3/lib/python3.9/site-packages (from patsy>=0.5.2->statsmodels) (1.16.0)\n",
      "Requirement already satisfied: missingno in /opt/anaconda3/lib/python3.9/site-packages (0.5.2)\n",
      "Requirement already satisfied: seaborn in /opt/anaconda3/lib/python3.9/site-packages (from missingno) (0.11.2)\n",
      "Requirement already satisfied: numpy in /opt/anaconda3/lib/python3.9/site-packages (from missingno) (1.21.5)\n",
      "Requirement already satisfied: matplotlib in /opt/anaconda3/lib/python3.9/site-packages (from missingno) (3.5.2)\n",
      "Requirement already satisfied: scipy in /opt/anaconda3/lib/python3.9/site-packages (from missingno) (1.9.1)\n",
      "Requirement already satisfied: kiwisolver>=1.0.1 in /opt/anaconda3/lib/python3.9/site-packages (from matplotlib->missingno) (1.4.2)\n",
      "Requirement already satisfied: cycler>=0.10 in /opt/anaconda3/lib/python3.9/site-packages (from matplotlib->missingno) (0.11.0)\n",
      "Requirement already satisfied: pyparsing>=2.2.1 in /opt/anaconda3/lib/python3.9/site-packages (from matplotlib->missingno) (3.0.9)\n",
      "Requirement already satisfied: python-dateutil>=2.7 in /opt/anaconda3/lib/python3.9/site-packages (from matplotlib->missingno) (2.8.2)\n",
      "Requirement already satisfied: pillow>=6.2.0 in /opt/anaconda3/lib/python3.9/site-packages (from matplotlib->missingno) (9.2.0)\n",
      "Requirement already satisfied: fonttools>=4.22.0 in /opt/anaconda3/lib/python3.9/site-packages (from matplotlib->missingno) (4.25.0)\n",
      "Requirement already satisfied: packaging>=20.0 in /opt/anaconda3/lib/python3.9/site-packages (from matplotlib->missingno) (21.3)\n",
      "Requirement already satisfied: pandas>=0.23 in /opt/anaconda3/lib/python3.9/site-packages (from seaborn->missingno) (1.4.4)\n",
      "Requirement already satisfied: pytz>=2020.1 in /opt/anaconda3/lib/python3.9/site-packages (from pandas>=0.23->seaborn->missingno) (2022.1)\n",
      "Requirement already satisfied: six>=1.5 in /opt/anaconda3/lib/python3.9/site-packages (from python-dateutil>=2.7->matplotlib->missingno) (1.16.0)\n",
      "Requirement already satisfied: scikit-learn in /opt/anaconda3/lib/python3.9/site-packages (1.0.2)\n",
      "Requirement already satisfied: threadpoolctl>=2.0.0 in /opt/anaconda3/lib/python3.9/site-packages (from scikit-learn) (2.2.0)\n",
      "Requirement already satisfied: joblib>=0.11 in /opt/anaconda3/lib/python3.9/site-packages (from scikit-learn) (1.1.0)\n",
      "Requirement already satisfied: scipy>=1.1.0 in /opt/anaconda3/lib/python3.9/site-packages (from scikit-learn) (1.9.1)\n",
      "Requirement already satisfied: numpy>=1.14.6 in /opt/anaconda3/lib/python3.9/site-packages (from scikit-learn) (1.21.5)\n"
     ]
    }
   ],
   "source": [
    "# Import libraries\n",
    "!pip install statsmodels\n",
    "!pip install missingno\n",
    "!pip install scikit-learn\n",
    "import numpy as np \n",
    "import seaborn as sns\n",
    "import plotly.graph_objects as go\n",
    "import pandas as pd\n",
    "import missingno as msno\n",
    "import matplotlib.pyplot as plt\n",
    "import os\n",
    "import sklearn\n",
    "from scipy import stats"
   ]
  },
  {
   "cell_type": "code",
   "execution_count": 4,
   "id": "92e4a1bd",
   "metadata": {},
   "outputs": [],
   "source": [
    "df = pd.read_csv('/Users/davidfrost/Documents/modern_data_analytics/assignment/data.csv')"
   ]
  },
  {
   "cell_type": "markdown",
   "id": "fee7f042",
   "metadata": {},
   "source": [
    "EDA"
   ]
  },
  {
   "cell_type": "code",
   "execution_count": 20,
   "id": "9a8fb5cb",
   "metadata": {},
   "outputs": [
    {
     "data": {
      "text/html": [
       "<div>\n",
       "<style scoped>\n",
       "    .dataframe tbody tr th:only-of-type {\n",
       "        vertical-align: middle;\n",
       "    }\n",
       "\n",
       "    .dataframe tbody tr th {\n",
       "        vertical-align: top;\n",
       "    }\n",
       "\n",
       "    .dataframe thead th {\n",
       "        text-align: right;\n",
       "    }\n",
       "</style>\n",
       "<table border=\"1\" class=\"dataframe\">\n",
       "  <thead>\n",
       "    <tr style=\"text-align: right;\">\n",
       "      <th></th>\n",
       "      <th>temp</th>\n",
       "      <th>humidity</th>\n",
       "      <th>wind</th>\n",
       "      <th>rain</th>\n",
       "      <th>target</th>\n",
       "      <th>events_count</th>\n",
       "      <th>nameday</th>\n",
       "      <th>hour</th>\n",
       "    </tr>\n",
       "  </thead>\n",
       "  <tbody>\n",
       "    <tr>\n",
       "      <th>count</th>\n",
       "      <td>8592.000000</td>\n",
       "      <td>8592.000000</td>\n",
       "      <td>8592.000000</td>\n",
       "      <td>8592.000000</td>\n",
       "      <td>8592.000000</td>\n",
       "      <td>8592.000000</td>\n",
       "      <td>8592.000000</td>\n",
       "      <td>8592.000000</td>\n",
       "    </tr>\n",
       "    <tr>\n",
       "      <th>mean</th>\n",
       "      <td>12.801228</td>\n",
       "      <td>74.004323</td>\n",
       "      <td>0.247489</td>\n",
       "      <td>0.000089</td>\n",
       "      <td>54.865553</td>\n",
       "      <td>0.744879</td>\n",
       "      <td>3.007682</td>\n",
       "      <td>11.491504</td>\n",
       "    </tr>\n",
       "    <tr>\n",
       "      <th>std</th>\n",
       "      <td>7.170031</td>\n",
       "      <td>18.147165</td>\n",
       "      <td>0.340784</td>\n",
       "      <td>0.000526</td>\n",
       "      <td>6.481056</td>\n",
       "      <td>1.400682</td>\n",
       "      <td>2.002138</td>\n",
       "      <td>6.927257</td>\n",
       "    </tr>\n",
       "    <tr>\n",
       "      <th>min</th>\n",
       "      <td>-6.625976</td>\n",
       "      <td>14.875000</td>\n",
       "      <td>0.000000</td>\n",
       "      <td>0.000000</td>\n",
       "      <td>35.825000</td>\n",
       "      <td>0.000000</td>\n",
       "      <td>0.000000</td>\n",
       "      <td>0.000000</td>\n",
       "    </tr>\n",
       "    <tr>\n",
       "      <th>25%</th>\n",
       "      <td>7.604880</td>\n",
       "      <td>61.125000</td>\n",
       "      <td>0.017083</td>\n",
       "      <td>0.000000</td>\n",
       "      <td>51.575000</td>\n",
       "      <td>0.000000</td>\n",
       "      <td>1.000000</td>\n",
       "      <td>5.000000</td>\n",
       "    </tr>\n",
       "    <tr>\n",
       "      <th>50%</th>\n",
       "      <td>12.604052</td>\n",
       "      <td>78.333333</td>\n",
       "      <td>0.121667</td>\n",
       "      <td>0.000000</td>\n",
       "      <td>56.983333</td>\n",
       "      <td>0.000000</td>\n",
       "      <td>3.000000</td>\n",
       "      <td>11.000000</td>\n",
       "    </tr>\n",
       "    <tr>\n",
       "      <th>75%</th>\n",
       "      <td>17.816606</td>\n",
       "      <td>89.166667</td>\n",
       "      <td>0.342500</td>\n",
       "      <td>0.000000</td>\n",
       "      <td>59.433333</td>\n",
       "      <td>1.000000</td>\n",
       "      <td>5.000000</td>\n",
       "      <td>17.000000</td>\n",
       "    </tr>\n",
       "    <tr>\n",
       "      <th>max</th>\n",
       "      <td>38.502476</td>\n",
       "      <td>98.750000</td>\n",
       "      <td>3.444167</td>\n",
       "      <td>0.017333</td>\n",
       "      <td>69.066667</td>\n",
       "      <td>16.000000</td>\n",
       "      <td>6.000000</td>\n",
       "      <td>23.000000</td>\n",
       "    </tr>\n",
       "  </tbody>\n",
       "</table>\n",
       "</div>"
      ],
      "text/plain": [
       "              temp     humidity         wind         rain       target  \\\n",
       "count  8592.000000  8592.000000  8592.000000  8592.000000  8592.000000   \n",
       "mean     12.801228    74.004323     0.247489     0.000089    54.865553   \n",
       "std       7.170031    18.147165     0.340784     0.000526     6.481056   \n",
       "min      -6.625976    14.875000     0.000000     0.000000    35.825000   \n",
       "25%       7.604880    61.125000     0.017083     0.000000    51.575000   \n",
       "50%      12.604052    78.333333     0.121667     0.000000    56.983333   \n",
       "75%      17.816606    89.166667     0.342500     0.000000    59.433333   \n",
       "max      38.502476    98.750000     3.444167     0.017333    69.066667   \n",
       "\n",
       "       events_count      nameday         hour  \n",
       "count   8592.000000  8592.000000  8592.000000  \n",
       "mean       0.744879     3.007682    11.491504  \n",
       "std        1.400682     2.002138     6.927257  \n",
       "min        0.000000     0.000000     0.000000  \n",
       "25%        0.000000     1.000000     5.000000  \n",
       "50%        0.000000     3.000000    11.000000  \n",
       "75%        1.000000     5.000000    17.000000  \n",
       "max       16.000000     6.000000    23.000000  "
      ]
     },
     "execution_count": 20,
     "metadata": {},
     "output_type": "execute_result"
    }
   ],
   "source": [
    "df.describe()"
   ]
  },
  {
   "cell_type": "code",
   "execution_count": 5,
   "id": "afe9d284",
   "metadata": {},
   "outputs": [],
   "source": [
    "# Extracting correct features\n",
    "from sklearn.model_selection import train_test_split\n",
    "x = df[['temp', 'nameday', 'hour', 'humidity', 'rain', 'wind', 'events_count']]\n",
    "  \n",
    "y = df['target']\n",
    "\n",
    "X_train, X_test, y_train, y_test = train_test_split(x, y, random_state=42, test_size=0.2)"
   ]
  },
  {
   "cell_type": "code",
   "execution_count": 7,
   "id": "cb1dc6f4",
   "metadata": {},
   "outputs": [
    {
     "data": {
      "image/png": "[encoded data removed]",
      "text/plain": [
       "<Figure size 640x480 with 1 Axes>"
      ]
     },
     "metadata": {},
     "output_type": "display_data"
    }
   ],
   "source": [
    "from sklearn.inspection import permutation_importance\n",
    "from sklearn.compose import ColumnTransformer\n",
    "from sklearn.pipeline import Pipeline\n",
    "from sklearn.preprocessing import StandardScaler, OneHotEncoder\n",
    "from sklearn.ensemble import HistGradientBoostingRegressor\n",
    "from sklearn.model_selection import LeaveOneGroupOut\n",
    "from sklearn.exceptions import NotFittedError\n",
    "\n",
    "# Define numeric and categorical features\n",
    "numeric_features = ['temp', 'humidity', 'rain', 'wind']\n",
    "categorical_features = ['hour', 'nameday', 'events_count']\n",
    "\n",
    "if 'target' in numeric_features:\n",
    "    numeric_features.remove('target')\n",
    "\n",
    "# Define transformers for numeric and categorical features\n",
    "numeric_transformer = Pipeline(steps=[\n",
    "    ('scaler', StandardScaler())\n",
    "])\n",
    "\n",
    "categorical_transformer = Pipeline(steps=[\n",
    "    ('onehot', OneHotEncoder(handle_unknown='ignore', sparse=False))\n",
    "])\n",
    "\n",
    "# Create preprocessor for numeric and categorical features\n",
    "preprocessor = ColumnTransformer(\n",
    "    transformers=[\n",
    "        ('num', numeric_transformer, numeric_features),\n",
    "        ('cat', categorical_transformer, categorical_features)\n",
    "    ],\n",
    "    sparse_threshold=0\n",
    ")\n",
    "\n",
    "# Create pipeline with preprocessor and HistGradientBoostingRegressor\n",
    "hgr = Pipeline(steps=[\n",
    "    ('preprocessor', preprocessor),\n",
    "    ('regressor', HistGradientBoostingRegressor(max_leaf_nodes=30))\n",
    "])\n",
    "\n",
    "# # Define groups for LeaveOneGroupOut cross-validation\n",
    "# groups = X_train['hour']  # Assuming 'hour' is used for grouping\n",
    "\n",
    "# # Fit the pipeline on the training data using LeaveOneGroupOut cross-validation\n",
    "# for train_index, test_index in LeaveOneGroupOut().split(X_train, y_train, groups):\n",
    "#     hgr.fit(X_train.iloc[train_index], y_train.iloc[train_index])\n",
    "\n",
    "hgr.fit(X_train,y_train)"
   ]
  },
  {
   "cell_type": "code",
   "execution_count": 42,
   "id": "85cd5f45",
   "metadata": {},
   "outputs": [
    {
     "data": {
      "image/png": "[encoded data removed]",
      "text/plain": [
       "<Figure size 640x480 with 1 Axes>"
      ]
     },
     "metadata": {},
     "output_type": "display_data"
    }
   ],
   "source": [
    "# Make predictions on the test data\n",
    "hgr_predictions = hgr.predict(X_test)\n",
    "\n",
    "# Get the permutation importances\n",
    "try:\n",
    "    result = permutation_importance(hgr, X_test, y_test, n_repeats=10, random_state=42)\n",
    "except NotFittedError:\n",
    "    # Handle the case where the model is not fitted\n",
    "    result = None\n",
    "\n",
    "if result is not None:\n",
    "    sorted_idx = result.importances_mean.argsort()\n",
    "\n",
    "    # Plot the feature importances\n",
    "    fig, ax = plt.subplots()\n",
    "    ax.boxplot(result.importances[sorted_idx].T,\n",
    "               vert=False, labels=X_test.columns[sorted_idx])\n",
    "    ax.set_title(\"Permutation Importances (test set)\")\n",
    "    fig.tight_layout()\n",
    "    plt.show()\n",
    "else:\n",
    "    print(\"Model not fitted.\")"
   ]
  },
  {
   "cell_type": "code",
   "execution_count": 43,
   "id": "d21d41cc",
   "metadata": {},
   "outputs": [],
   "source": [
    "from sklearn.metrics import mean_squared_error, mean_absolute_error, r2_score\n",
    "\n",
    "def score_estimator(estimator, X_test, y_test):\n",
    "    \"\"\"Score an estimator on the test set.\"\"\"\n",
    "    y_pred = np.round(estimator.predict(X_test))\n",
    "\n",
    "    print(\"MSE: %.3f\" % mean_squared_error(y_test, y_pred))\n",
    "    print(\"MAE: %.3f\" % mean_absolute_error(y_test, y_pred))\n",
    "    print(\"RMSE: %.3f\" % np.sqrt(mean_squared_error(y_test, y_pred)))\n",
    "    print(\"R2: %.3f\" % r2_score(y_test, y_pred))"
   ]
  },
  {
   "cell_type": "code",
   "execution_count": 45,
   "id": "fc16ba78",
   "metadata": {},
   "outputs": [
    {
     "name": "stdout",
     "output_type": "stream",
     "text": [
      "HGBR evaluation:\n",
      "MSE: 10.719\n",
      "MAE: 2.384\n",
      "RMSE: 3.274\n",
      "R2: 0.739\n"
     ]
    }
   ],
   "source": [
    "print(\"HGBR evaluation:\")\n",
    "score_estimator(hgr, X_test, y_test)"
   ]
  },
  {
   "cell_type": "code",
   "execution_count": 71,
   "id": "da928b93",
   "metadata": {},
   "outputs": [
    {
     "data": {
      "text/plain": [
       "GridSearchCV(estimator=Pipeline(steps=[('preprocessor',\n",
       "                                        ColumnTransformer(sparse_threshold=0,\n",
       "                                                          transformers=[('num',\n",
       "                                                                         Pipeline(steps=[('scaler',\n",
       "                                                                                          StandardScaler())]),\n",
       "                                                                         ['temp',\n",
       "                                                                          'humidity',\n",
       "                                                                          'rain',\n",
       "                                                                          'wind']),\n",
       "                                                                        ('cat',\n",
       "                                                                         Pipeline(steps=[('onehot',\n",
       "                                                                                          OneHotEncoder(handle_unknown='ignore'))]),\n",
       "                                                                         ['hour',\n",
       "                                                                          'nameday',\n",
       "                                                                          'events_count'])])),\n",
       "                                       ('model',\n",
       "                                        HistGradientBoostingRegressor())]),\n",
       "             param_grid={'model__l2_regularization': [0.3, 0.1, 0.01],\n",
       "                         'model__learning_rate': [0.2, 0.3, 0.1],\n",
       "                         'model__max_depth': [100, 200, 300]},\n",
       "             return_train_score=True, scoring='r2')"
      ]
     },
     "execution_count": 71,
     "metadata": {},
     "output_type": "execute_result"
    }
   ],
   "source": [
    "from sklearn.model_selection import GridSearchCV\n",
    "from sklearn.experimental import enable_hist_gradient_boosting\n",
    "\n",
    "# Define numeric and categorical features\n",
    "numeric_features = ['temp', 'humidity', 'rain', 'wind']\n",
    "categoric_features = ['hour', 'nameday', 'events_count']\n",
    "\n",
    "if 'target' in numeric_features:\n",
    "    numeric_features.remove('target')\n",
    "\n",
    "numeric_transformer = Pipeline(steps=[\n",
    "    ('scaler', StandardScaler())\n",
    "])\n",
    "\n",
    "categoric_transformer = Pipeline(steps=[\n",
    "    ('onehot', OneHotEncoder(handle_unknown='ignore'))\n",
    "])\n",
    "\n",
    "preprocessor = ColumnTransformer(\n",
    "    transformers=[\n",
    "        ('num', numeric_transformer, numeric_features),\n",
    "        ('cat', categoric_transformer, categoric_features)\n",
    "    ],\n",
    "    sparse_threshold=0\n",
    ")\n",
    "\n",
    "model = HistGradientBoostingRegressor()\n",
    "\n",
    "# Define the hyperparameter grid\n",
    "hyperparameter_grid = {\n",
    "    'model__learning_rate': [0.2, 0.3, 0.1],\n",
    "    'model__max_depth': [100, 200, 300],\n",
    "    'model__l2_regularization': [0.3, 0.1, 0.01]\n",
    "}\n",
    "\n",
    "pipeline = Pipeline(steps=[\n",
    "    ('preprocessor', preprocessor),\n",
    "    ('model', model)\n",
    "])\n",
    "\n",
    "grid_cv = GridSearchCV(estimator=pipeline,\n",
    "                       param_grid=hyperparameter_grid,\n",
    "                       scoring='r2',\n",
    "                       return_train_score=True)\n",
    "\n",
    "grid_cv.fit(X_train, y_train)"
   ]
  },
  {
   "cell_type": "code",
   "execution_count": 72,
   "id": "2d920690",
   "metadata": {},
   "outputs": [
    {
     "name": "stdout",
     "output_type": "stream",
     "text": [
      "Best Hyperparameters:\n",
      "model__l2_regularization: 0.1\n",
      "model__learning_rate: 0.2\n",
      "model__max_depth: 100\n"
     ]
    }
   ],
   "source": [
    "# Getting the best model\n",
    "best_model = grid_cv.best_estimator_\n",
    "\n",
    "# Getting the best parameters\n",
    "best_params = grid_cv.best_params_\n",
    "print(\"Best Hyperparameters:\")\n",
    "for param, value in best_params.items():\n",
    "    print(f\"{param}: {value}\")"
   ]
  },
  {
   "cell_type": "code",
   "execution_count": 73,
   "id": "9dbc89eb",
   "metadata": {},
   "outputs": [],
   "source": [
    "# Make predictions using the best model\n",
    "best_predictions = best_model.predict(X_test)"
   ]
  },
  {
   "cell_type": "code",
   "execution_count": 74,
   "id": "cb693ddd",
   "metadata": {},
   "outputs": [
    {
     "name": "stdout",
     "output_type": "stream",
     "text": [
      "Best parametrization evaluation:\n",
      "MSE: 10.408\n",
      "MAE: 2.336\n",
      "RMSE: 3.226\n",
      "R2: 0.746\n"
     ]
    }
   ],
   "source": [
    "print(\"Best parametrization evaluation:\")\n",
    "score_estimator(best_model, X_test, y_test)"
   ]
  },
  {
   "cell_type": "code",
   "execution_count": 75,
   "id": "c53cbbac",
   "metadata": {},
   "outputs": [
    {
     "data": {
      "image/png": "[encoded data removed]",
      "text/plain": [
       "<Figure size 640x480 with 1 Axes>"
      ]
     },
     "metadata": {},
     "output_type": "display_data"
    }
   ],
   "source": [
    "# Plot the comparison of predicted and actual\n",
    "plt.figure()\n",
    "plt.title('Comparison of predictions and observed data')\n",
    "plt.plot([20, 80], [20, 80], color='darkred', linestyle='--')\n",
    "plt.scatter(y_test, best_predictions, label='best_model')\n",
    "plt.scatter(y_test, hgr_predictions, label='HistGradientBoostRegressor')\n",
    "plt.xlabel('Observed')\n",
    "plt.ylabel('Predicted')\n",
    "plt.xlim(20, 80)\n",
    "plt.ylim(20, 80)\n",
    "plt.legend()\n",
    "plt.show()"
   ]
  },
  {
   "cell_type": "code",
   "execution_count": 76,
   "id": "1680ca4c",
   "metadata": {},
   "outputs": [
    {
     "name": "stdout",
     "output_type": "stream",
     "text": [
      "Requirement already satisfied: beautifulsoup4 in /opt/anaconda3/lib/python3.9/site-packages (4.11.1)\n",
      "Requirement already satisfied: soupsieve>1.2 in /opt/anaconda3/lib/python3.9/site-packages (from beautifulsoup4) (2.3.1)\n"
     ]
    }
   ],
   "source": [
    "!pip install beautifulsoup4\n",
    "import requests\n",
    "from bs4 import BeautifulSoup\n",
    "import pandas as pd\n",
    "from datetime import datetime\n",
    "from datetime import timedelta\n",
    "content = \"https://weather.com/weather/hourbyhour/l/c097b546627cdff2da1e276cb9b2731055718a5e7270d777a92857a9701c7870\"\n",
    "response = requests.get(content)\n",
    "soup = BeautifulSoup(response.content, 'html.parser')\n",
    "\n",
    "temp_val = soup.findAll('div', attrs={'class':'DetailsTable--field--CPpc_'})\n",
    "\n",
    "\n",
    "forecast = pd.DataFrame()\n",
    "forecast['temp'] = [round((int(temp_val[i].text[-3:-1])-32 ) *5/9, 1) for i in list(np.array(range(288))) if i%6 == 0]\n",
    "forecast['wind'] = [float(temp_val[i].text.split(' ')[1]) for i in list(np.array(range(288))) if i%6 == 1]\n",
    "forecast['wind_direction'] = [temp_val[i].text.split(' ')[0] for i in list(np.array(range(288))) if i%6 == 1]\n",
    "forecast['humidity'] = [int(temp_val[i].text[-3:-1]) for i in list(np.array(range(288))) if i%6 == 2]\n",
    "forecast['cloud_cover'] = [int(temp_val[i].text.replace('Cloud Cover', '')[:-1]) for i in list(np.array(range(288))) if i%6 == 4]\n",
    "forecast['rain'] = [int(temp_val[i].text.replace('Rain Amount', '').replace(' in', '')) for i in list(np.array(range(288))) if i%6 == 5]\n",
    "weekday = [(datetime.now()+timedelta(hours=i)).weekday() for i in range(48)]\n",
    "hour_of_day = [(datetime.now()+timedelta(hours=i)).hour for i in range(48)]\n",
    "forecast['nameday'] = weekday\n",
    "forecast['hour'] = hour_of_day\n",
    "forecast['events_count'] = '' # This value has to be included by the user. So edit this. The value now is missing, but the model running, so even if nothing is provided, it will run\n",
    "forecast['tag_category'] = '' # This value has to be included by the user. So edit this"
   ]
  },
  {
   "cell_type": "code",
   "execution_count": 77,
   "id": "bcf8195d",
   "metadata": {},
   "outputs": [],
   "source": [
    "# Generate predictions on the test set\n",
    "prediction_app = best_model.predict(forecast)"
   ]
  },
  {
   "cell_type": "code",
   "execution_count": 78,
   "id": "6b94169b",
   "metadata": {},
   "outputs": [],
   "source": [
    "import pickle\n",
    "# Saving the model to a file\n",
    "filename = '/Users/davidfrost/Documents/modern_data_analytics/assignment/regressor.pkl' # add specific path\n",
    "with open(filename, 'wb') as file:\n",
    "    pickle.dump(best_model, file)"
   ]
  },
  {
   "cell_type": "markdown",
   "id": "49abe1fd",
   "metadata": {},
   "source": [
    ":)"
   ]
  }
 ],
 "metadata": {
  "kernelspec": {
   "display_name": "Python 3 (ipykernel)",
   "language": "python",
   "name": "python3"
  },
  "language_info": {
   "codemirror_mode": {
    "name": "ipython",
    "version": 3
   },
   "file_extension": ".py",
   "mimetype": "text/x-python",
   "name": "python",
   "nbconvert_exporter": "python",
   "pygments_lexer": "ipython3",
   "version": "3.9.13"
  }
 },
 "nbformat": 4,
 "nbformat_minor": 5
}
