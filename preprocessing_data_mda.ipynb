{
  "nbformat": 4,
  "nbformat_minor": 0,
  "metadata": {
    "colab": {
      "provenance": [],
      "authorship_tag": "ABX9TyOs4pcmSQy3+bRGLQb9NceG",
      "include_colab_link": true
    },
    "kernelspec": {
      "name": "python3",
      "display_name": "Python 3"
    },
    "language_info": {
      "name": "python"
    }
  },
  "cells": [
    {
      "cell_type": "markdown",
      "metadata": {
        "id": "view-in-github",
        "colab_type": "text"
      },
      "source": [
        "<a href=\"https://colab.research.google.com/github/joaodpcm/MDA/blob/data_exploration_david/preprocessing_data_mda.ipynb\" target=\"_parent\"><img src=\"https://colab.research.google.com/assets/colab-badge.svg\" alt=\"Open In Colab\"/></a>"
      ]
    },
    {
      "cell_type": "markdown",
      "source": [
        "**Data Exploration**\n",
        "\n",
        "---\n",
        "\n",
        "\n",
        "\n",
        "\n"
      ],
      "metadata": {
        "id": "zSF0saT-Vg_b"
      }
    },
    {
      "cell_type": "markdown",
      "source": [
        "# Importing Packages\n"
      ],
      "metadata": {
        "id": "pY1nyUChVJBz"
      }
    },
    {
      "cell_type": "code",
      "source": [
        "# Importing packages \n",
        "import pandas as pd\n",
        "import numpy as np\n",
        "import seaborn as sn\n",
        "import os"
      ],
      "metadata": {
        "id": "qXZK-vbpVIto"
      },
      "execution_count": 6,
      "outputs": []
    },
    {
      "cell_type": "markdown",
      "source": [
        "# Clone repository"
      ],
      "metadata": {
        "id": "nHj8X3g1cRqg"
      }
    },
    {
      "cell_type": "code",
      "source": [
        "# Repository path\n",
        "repo_path = 'https://github.com/joaodpcm/MDAgit'\n",
        "#Accessing GitHub repository\n",
        "!git clone <https://github.com/joaodpcm/MDAgit>"
      ],
      "metadata": {
        "colab": {
          "base_uri": "https://localhost:8080/"
        },
        "id": "mR9PDaWscT_q",
        "outputId": "a621e2f0-494b-4365-c84f-e17153ece917"
      },
      "execution_count": 16,
      "outputs": [
        {
          "output_type": "stream",
          "name": "stdout",
          "text": [
            "/bin/bash: -c: line 0: syntax error near unexpected token `newline'\n",
            "/bin/bash: -c: line 0: `git clone <https://github.com/joaodpcm/MDAgit>'\n"
          ]
        }
      ]
    },
    {
      "cell_type": "markdown",
      "source": [
        "# Loading data"
      ],
      "metadata": {
        "id": "YID7X-C7Vfn4"
      }
    },
    {
      "cell_type": "code",
      "source": [],
      "metadata": {
        "id": "38KhCJjITTyA"
      },
      "execution_count": 17,
      "outputs": []
    },
    {
      "cell_type": "code",
      "source": [],
      "metadata": {
        "id": "MVijRJXcePtg"
      },
      "execution_count": null,
      "outputs": []
    }
  ]
}