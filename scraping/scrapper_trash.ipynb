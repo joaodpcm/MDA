{
 "cells": [
  {
   "cell_type": "code",
   "execution_count": 196,
   "metadata": {},
   "outputs": [],
   "source": [
    "import numpy as np\n",
    "import re\n",
    "from bs4 import BeautifulSoup\n",
    "import pandas as pd\n",
    "import requests\n",
    "import scipy.interpolate as sp"
   ]
  },
  {
   "cell_type": "code",
   "execution_count": 199,
   "metadata": {},
   "outputs": [],
   "source": [
    "content = \"https://weather.com/weather/tenday/l/8c6b0e55d5cf8568f60d839eaf3fa128975a8daf414f334c76ea19e9e1e1d3b0\"\n",
    "response = requests.get(content)\n",
    "soup = BeautifulSoup(response.content, 'html.parser')"
   ]
  },
  {
   "cell_type": "code",
   "execution_count": 203,
   "metadata": {},
   "outputs": [],
   "source": [
    "temp_val = soup.findAll('div', class_ ='DailyForecast--DisclosureList--nosQS')\n",
    "next13 = temp_val[0].text.split('|')[-26:]\n",
    "temp = [float(re.findall(r'\\d+', next13[i].split('.')[0])[0]) for i in range(0, len(next13))]\n",
    "humid = [float(re.findall(r'\\d+', next13[i].split('.')[3])[0]) for i in range(0, len(next13))]\n",
    "\n",
    "hour, hours = np.arange(12, 27*12, 12), np.arange(12, 27*12, 1)\n",
    "t = sp.interp1d(hour, temp, kind='linear', fill_value = 'extrapolate')\n",
    "h = sp.interp1d(hour, humid, kind='linear', fill_value = 'extrapolate')\n",
    "temperature, humidity = t(hours), h(hours)\n",
    "\n",
    "forecast = pd.DataFrame()\n",
    "forecast['hours'] = hours\n",
    "forecast['temperature'] = temperature\n",
    "forecast['humidity'] = humidity\n",
    "forecast['wind'] = np.concatenate([float(re.findall(r'\\d+', next13[i].split('.')[0])[2])*np.ones(12) for i in range(0, len(next13))])\n",
    "forecast['rain'] = np.concatenate([float(re.findall(r'\\d+', next13[i].split('.')[0])[1])*np.ones(12) for i in range(0, len(next13))])\n"
   ]
  },
  {
   "cell_type": "code",
   "execution_count": null,
   "metadata": {},
   "outputs": [],
   "source": []
  }
 ],
 "metadata": {
  "kernelspec": {
   "display_name": "moddata",
   "language": "python",
   "name": "python3"
  },
  "language_info": {
   "codemirror_mode": {
    "name": "ipython",
    "version": 3
   },
   "file_extension": ".py",
   "mimetype": "text/x-python",
   "name": "python",
   "nbconvert_exporter": "python",
   "pygments_lexer": "ipython3",
   "version": "3.8.16"
  },
  "orig_nbformat": 4
 },
 "nbformat": 4,
 "nbformat_minor": 2
}
