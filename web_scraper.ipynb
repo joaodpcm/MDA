{
 "cells": [
  {
   "cell_type": "code",
   "execution_count": null,
   "id": "8c14b477",
   "metadata": {},
   "outputs": [],
   "source": [
    "import requests\n",
    "from bs4 import BeautifulSoup\n",
    "import pandas as pd\n",
    "import numpy as np\n",
    "from datetime import datetime\n",
    "from zoneinfo import ZoneInfo\n",
    "import re"
   ]
  },
  {
   "cell_type": "markdown",
   "id": "5d197a41",
   "metadata": {},
   "source": [
    "# 48 hours"
   ]
  },
  {
   "cell_type": "code",
   "execution_count": null,
   "id": "0b3f3ecd",
   "metadata": {},
   "outputs": [],
   "source": [
    "# Send a GET request to the website\n",
    "url_48 = \"https://weather.com/weather/hourbyhour/l/c097b546627cdff2da1e276cb9b2731055718a5e7270d777a92857a9701c7870\" \n",
    "response_48 = requests.get(url_48)\n",
    "\n",
    "# Create a BeautifulSoup object from the response content\n",
    "soup_48 = BeautifulSoup(response_48.content, \"html.parser\")"
   ]
  },
  {
   "cell_type": "code",
   "execution_count": null,
   "id": "1d88fc48",
   "metadata": {},
   "outputs": [],
   "source": [
    "temp_val = soup_48.findAll('div', attrs={'class':'DetailsTable--field--CPpc_'})"
   ]
  },
  {
   "cell_type": "code",
   "execution_count": null,
   "id": "57229ea2",
   "metadata": {},
   "outputs": [],
   "source": [
    "forecast = pd.DataFrame()\n",
    "forecast['hour'] = np.linspace(1, 48, 48)\n",
    "forecast['temp'] = [round((int(temp_val[i].text.replace('Feels Like', '').replace('°', ''))-32 ) *5/9, 1) for i in list(np.array(range(288))) if i%6 == 0]\n",
    "forecast['wind_speed'] = [round(float(temp_val[i].text.split(' ')[1])*1.60934, 1) for i in list(np.array(range(288))) if i%6 == 1]\n",
    "forecast['wind_direction'] = [temp_val[i].text.split(' ')[0] for i in list(np.array(range(288))) if i%6 == 1]\n",
    "forecast['humidity'] = [int(temp_val[i].text.replace('Humidity', '')[:-1]) for i in list(np.array(range(288))) if i%6 == 2]\n",
    "forecast['cloud_cover'] = [int(temp_val[i].text.replace('Cloud Cover', '')[:-1]) for i in list(np.array(range(288))) if i%6 == 4]\n",
    "forecast['rain'] = [int(temp_val[i].text.replace('Rain Amount', '').replace(' in', '')) for i in list(np.array(range(288))) if i%6 == 5]"
   ]
  },
  {
   "cell_type": "code",
   "execution_count": null,
   "id": "7f0304c0",
   "metadata": {},
   "outputs": [],
   "source": [
    "forecast"
   ]
  },
  {
   "cell_type": "markdown",
   "id": "ff1e4ae5",
   "metadata": {},
   "source": [
    "# 10 days"
   ]
  },
  {
   "cell_type": "code",
   "execution_count": null,
   "id": "9daae2ff",
   "metadata": {},
   "outputs": [],
   "source": [
    "# Send a GET request to the website\n",
    "url_10 = \"https://weather.com/weather/tenday/l/c097b546627cdff2da1e276cb9b2731055718a5e7270d777a92857a9701c7870\"\n",
    "response_10 = requests.get(url_10)\n",
    "\n",
    "# Create a BeautifulSoup object from the response content\n",
    "soup_10 = BeautifulSoup(response_10.content, \"html.parser\")"
   ]
  },
  {
   "cell_type": "code",
   "execution_count": null,
   "id": "bbc7a026",
   "metadata": {},
   "outputs": [],
   "source": [
    "humidity_10days = soup_10.findAll('div', attrs={'class':'DetailsTable--field--CPpc_'})\n",
    "conditions_10days = soup_10.findAll('div', attrs={'class':'DailyContent--ConditionSummary--2gdfo'})\n",
    "content_10days = soup_10.findAll('div', attrs={'class':'DailyContent--DailyContent--1yRkH'})"
   ]
  },
  {
   "cell_type": "code",
   "execution_count": null,
   "id": "5da6aa84",
   "metadata": {},
   "outputs": [],
   "source": [
    "# now = datetime.now(tz=ZoneInfo(\"Europe/Brussels\"))\n",
    "\n",
    "tendays_df = pd.DataFrame()\n",
    "tendays_df['day'] = [content_10days[i].text[:6] for i in range(len(content_10days))]\n",
    "if len(tendays_df)%2 == 0:\n",
    "    tendays_df['Part of day'] = ['Day', 'Night'] * 14\n",
    "if len(tendays_df)%2 == 1:\n",
    "    tendays_df['Part of day'] = ['Night'] + ['Day', 'Night'] * 14\n",
    "tendays_df['temp'] = [round((int(conditions_10days[i].text.split('°')[0]) - 32)*5/9, 1) for i in range(len(conditions_10days))]\n",
    "tendays_df['wind_speed'] = [round(int(conditions_10days[i].text.split('%')[1].split(' ')[1])*1.60934, 1) for i in range(len(conditions_10days))]\n",
    "tendays_df['wind_direction'] = [conditions_10days[i].text.split('%')[1].split(' ')[0] for i in range(len(conditions_10days))]\n",
    "tendays_df['humidity'] = [int(humidity_10days[i].text.replace('Humidity', '')[:-1]) for i in range(len(humidity_10days)) if i%4 == 0]\n",
    "\n",
    "tendays_df"
   ]
  },
  {
   "cell_type": "code",
   "execution_count": null,
   "id": "c4d793ca",
   "metadata": {},
   "outputs": [],
   "source": []
  }
 ],
 "metadata": {
  "kernelspec": {
   "display_name": "moderndata",
   "language": "python",
   "name": "moderndata"
  },
  "language_info": {
   "codemirror_mode": {
    "name": "ipython",
    "version": 3
   },
   "file_extension": ".py",
   "mimetype": "text/x-python",
   "name": "python",
   "nbconvert_exporter": "python",
   "pygments_lexer": "ipython3",
   "version": "3.11.3"
  }
 },
 "nbformat": 4,
 "nbformat_minor": 5
}
