{
  "cells": [
    {
      "cell_type": "markdown",
      "metadata": {
        "colab_type": "text",
        "id": "view-in-github"
      },
      "source": [
        "<a href=\"https://colab.research.google.com/github/joaodpcm/MDA/blob/preprocessing_data_david/classifier_model_mda.ipynb\" target=\"_parent\"><img src=\"https://colab.research.google.com/assets/colab-badge.svg\" alt=\"Open In Colab\"/></a>"
      ]
    },
    {
      "cell_type": "markdown",
      "metadata": {
        "id": "O8l0ZzEWfORv"
      },
      "source": [
        "# Importing Packages\n"
      ]
    },
    {
      "cell_type": "code",
      "execution_count": 2,
      "metadata": {
        "colab": {
          "base_uri": "https://localhost:8080/",
          "height": 1000
        },
        "id": "pxPDmCZx_RAc",
        "outputId": "68d17976-535a-4c9a-8e93-7ee33fb59bf2"
      },
      "outputs": [],
      "source": [
        "# Import libraries\n",
        "'''!pip install pandas-profiling\n",
        "!pip install ydata-profiling\n",
        "!pip install geopy\n",
        "!pip install autoviz\n",
        "!pip install matplotlib\n",
        "!pip install -U textblob\n",
        "!pip install statsmodels\n",
        "!pip install missingno\n",
        "!python -m textblob.download_corpora\n",
        "!pip install missingpy\n",
        "!pip install scikit-learn\n",
        "!pip install sklearn'''\n",
        "import numpy as np \n",
        "import seaborn as sns\n",
        "import plotly.graph_objects as go\n",
        "import pandas as pd\n",
        "import missingno as msno\n",
        "import matplotlib.pyplot as plt\n",
        "import os\n",
        "import sklearn"
      ]
    },
    {
      "cell_type": "markdown",
      "metadata": {
        "id": "nHj8X3g1cRqg"
      },
      "source": [
        "# Clone repository"
      ]
    },
    {
      "cell_type": "code",
      "execution_count": 2,
      "metadata": {
        "colab": {
          "base_uri": "https://localhost:8080/"
        },
        "id": "mR9PDaWscT_q",
        "outputId": "3d11cd8d-bb7c-4a3a-dd2b-4781fc3c8216"
      },
      "outputs": [
        {
          "name": "stdout",
          "output_type": "stream",
          "text": [
            "/bin/bash: -c: line 0: syntax error near unexpected token `newline'\n",
            "/bin/bash: -c: line 0: `git clone <https://github.com/joaodpcm/MDAgit>'\n"
          ]
        }
      ],
      "source": [
        "#Accessing GitHub repository\n",
        "!git clone <https://github.com/joaodpcm/MDAgit>"
      ]
    },
    {
      "cell_type": "code",
      "execution_count": 3,
      "metadata": {
        "colab": {
          "base_uri": "https://localhost:8080/"
        },
        "id": "PYcWaK6dnuRX",
        "outputId": "5eec45e7-c9c2-444a-f134-36532aea5005"
      },
      "outputs": [],
      "source": [
        "# Setting package for drive\n",
        "'''!pip install pyDrive\n",
        "from google.colab import files'''\n",
        "# Set path to the directory containing the meta dataset\n",
        "#%pip install openpyxl\n",
        "path_copy_meteo = \"meteo_data/data_final_meteo.csv\"\n",
        "df_meteo = pd.read_csv(path_copy_meteo)\n",
        "path_copy_noise = \"noise_data/events_noise2.xlsx\"\n",
        "df_noise = pd.read_excel(path_copy_noise)"
      ]
    },
    {
      "cell_type": "code",
      "execution_count": 4,
      "metadata": {},
      "outputs": [
        {
          "data": {
            "text/html": [
              "<div>\n",
              "<style scoped>\n",
              "    .dataframe tbody tr th:only-of-type {\n",
              "        vertical-align: middle;\n",
              "    }\n",
              "\n",
              "    .dataframe tbody tr th {\n",
              "        vertical-align: top;\n",
              "    }\n",
              "\n",
              "    .dataframe thead th {\n",
              "        text-align: right;\n",
              "    }\n",
              "</style>\n",
              "<table border=\"1\" class=\"dataframe\">\n",
              "  <thead>\n",
              "    <tr style=\"text-align: right;\">\n",
              "      <th></th>\n",
              "      <th>startTime</th>\n",
              "      <th>id</th>\n",
              "      <th>title</th>\n",
              "      <th>endTime</th>\n",
              "      <th>url</th>\n",
              "      <th>tags</th>\n",
              "      <th>address</th>\n",
              "      <th>name</th>\n",
              "      <th>latitude</th>\n",
              "      <th>longitude</th>\n",
              "      <th>city</th>\n",
              "      <th>noise_level</th>\n",
              "      <th>comp</th>\n",
              "      <th>event_yes</th>\n",
              "    </tr>\n",
              "  </thead>\n",
              "  <tbody>\n",
              "    <tr>\n",
              "      <th>0</th>\n",
              "      <td>2022-01-01 00:00:00</td>\n",
              "      <td>NaN</td>\n",
              "      <td>NaN</td>\n",
              "      <td>NaN</td>\n",
              "      <td>NaN</td>\n",
              "      <td>NaN</td>\n",
              "      <td>NaN</td>\n",
              "      <td>NaN</td>\n",
              "      <td>NaN</td>\n",
              "      <td>NaN</td>\n",
              "      <td>NaN</td>\n",
              "      <td>55.88125</td>\n",
              "      <td>Intermediate</td>\n",
              "      <td>0</td>\n",
              "    </tr>\n",
              "    <tr>\n",
              "      <th>1</th>\n",
              "      <td>2022-01-01 01:00:00</td>\n",
              "      <td>NaN</td>\n",
              "      <td>NaN</td>\n",
              "      <td>NaN</td>\n",
              "      <td>NaN</td>\n",
              "      <td>NaN</td>\n",
              "      <td>NaN</td>\n",
              "      <td>NaN</td>\n",
              "      <td>NaN</td>\n",
              "      <td>NaN</td>\n",
              "      <td>NaN</td>\n",
              "      <td>58.05625</td>\n",
              "      <td>High</td>\n",
              "      <td>0</td>\n",
              "    </tr>\n",
              "    <tr>\n",
              "      <th>2</th>\n",
              "      <td>2022-01-01 02:00:00</td>\n",
              "      <td>NaN</td>\n",
              "      <td>NaN</td>\n",
              "      <td>NaN</td>\n",
              "      <td>NaN</td>\n",
              "      <td>NaN</td>\n",
              "      <td>NaN</td>\n",
              "      <td>NaN</td>\n",
              "      <td>NaN</td>\n",
              "      <td>NaN</td>\n",
              "      <td>NaN</td>\n",
              "      <td>51.57500</td>\n",
              "      <td>Intermediate</td>\n",
              "      <td>0</td>\n",
              "    </tr>\n",
              "    <tr>\n",
              "      <th>3</th>\n",
              "      <td>2022-01-01 03:00:00</td>\n",
              "      <td>NaN</td>\n",
              "      <td>NaN</td>\n",
              "      <td>NaN</td>\n",
              "      <td>NaN</td>\n",
              "      <td>NaN</td>\n",
              "      <td>NaN</td>\n",
              "      <td>NaN</td>\n",
              "      <td>NaN</td>\n",
              "      <td>NaN</td>\n",
              "      <td>NaN</td>\n",
              "      <td>48.67500</td>\n",
              "      <td>Intermediate</td>\n",
              "      <td>0</td>\n",
              "    </tr>\n",
              "    <tr>\n",
              "      <th>4</th>\n",
              "      <td>2022-01-01 04:00:00</td>\n",
              "      <td>NaN</td>\n",
              "      <td>NaN</td>\n",
              "      <td>NaN</td>\n",
              "      <td>NaN</td>\n",
              "      <td>NaN</td>\n",
              "      <td>NaN</td>\n",
              "      <td>NaN</td>\n",
              "      <td>NaN</td>\n",
              "      <td>NaN</td>\n",
              "      <td>NaN</td>\n",
              "      <td>46.12500</td>\n",
              "      <td>Intermediate</td>\n",
              "      <td>0</td>\n",
              "    </tr>\n",
              "  </tbody>\n",
              "</table>\n",
              "</div>"
            ],
            "text/plain": [
              "             startTime  id title endTime  url tags address name  latitude   \n",
              "0  2022-01-01 00:00:00 NaN   NaN     NaN  NaN  NaN     NaN  NaN       NaN  \\\n",
              "1  2022-01-01 01:00:00 NaN   NaN     NaN  NaN  NaN     NaN  NaN       NaN   \n",
              "2  2022-01-01 02:00:00 NaN   NaN     NaN  NaN  NaN     NaN  NaN       NaN   \n",
              "3  2022-01-01 03:00:00 NaN   NaN     NaN  NaN  NaN     NaN  NaN       NaN   \n",
              "4  2022-01-01 04:00:00 NaN   NaN     NaN  NaN  NaN     NaN  NaN       NaN   \n",
              "\n",
              "   longitude city  noise_level          comp  event_yes  \n",
              "0        NaN  NaN     55.88125  Intermediate          0  \n",
              "1        NaN  NaN     58.05625          High          0  \n",
              "2        NaN  NaN     51.57500  Intermediate          0  \n",
              "3        NaN  NaN     48.67500  Intermediate          0  \n",
              "4        NaN  NaN     46.12500  Intermediate          0  "
            ]
          },
          "execution_count": 4,
          "metadata": {},
          "output_type": "execute_result"
        }
      ],
      "source": [
        "df_noise.head()"
      ]
    },
    {
      "cell_type": "markdown",
      "metadata": {
        "id": "u-EOg-7Q9OFO"
      },
      "source": [
        "# Data Consistency"
      ]
    },
    {
      "cell_type": "code",
      "execution_count": 6,
      "metadata": {
        "id": "hcR5Zb4y9OFO"
      },
      "outputs": [],
      "source": [
        "df_noise = df_noise.rename(columns={\"startTime\": \"DATEUTC\", \"comp\": \"target\"})"
      ]
    },
    {
      "cell_type": "code",
      "execution_count": 7,
      "metadata": {
        "id": "3EsS1erV9OFO"
      },
      "outputs": [],
      "source": [
        "df = df_meteo.merge(df_noise, how='inner', on='DATEUTC')"
      ]
    },
    {
      "cell_type": "code",
      "execution_count": 8,
      "metadata": {
        "id": "VTwtYQNg9OFO"
      },
      "outputs": [],
      "source": [
        "df['DATEUTC'] = pd.to_datetime(df['DATEUTC'])"
      ]
    },
    {
      "cell_type": "code",
      "execution_count": 9,
      "metadata": {
        "id": "vpljjy3V9OFO"
      },
      "outputs": [],
      "source": [
        "df['nameday'] = df['DATEUTC'].dt.dayofweek"
      ]
    },
    {
      "cell_type": "code",
      "execution_count": 10,
      "metadata": {
        "id": "z5ifwFW49OFO"
      },
      "outputs": [],
      "source": [
        "df['hour'] = df['DATEUTC'].dt.hour"
      ]
    },
    {
      "cell_type": "code",
      "execution_count": 11,
      "metadata": {
        "id": "JPQVru2O9OFO"
      },
      "outputs": [],
      "source": [
        "df = df.rename(columns={'LC_WINDSPEED': \"wind\", 'LC_TEMP_QCL3': 'temp','LC_RAININ':'rain','LC_HUMIDITY':'humidity'})"
      ]
    },
    {
      "cell_type": "code",
      "execution_count": 12,
      "metadata": {
        "id": "S2CnbiUItLLT"
      },
      "outputs": [],
      "source": [
        "df = df.dropna(subset=['target'])"
      ]
    },
    {
      "cell_type": "code",
      "execution_count": 13,
      "metadata": {
        "colab": {
          "base_uri": "https://localhost:8080/"
        },
        "id": "yIECqeodAZpk",
        "outputId": "8473f8d5-ae3c-48c0-9cae-38d5fa481cce"
      },
      "outputs": [
        {
          "name": "stdout",
          "output_type": "stream",
          "text": [
            "<class 'pandas.core.frame.DataFrame'>\n",
            "Index: 8674 entries, 0 to 8678\n",
            "Data columns (total 21 columns):\n",
            " #   Column        Non-Null Count  Dtype         \n",
            "---  ------        --------------  -----         \n",
            " 0   DATEUTC       8674 non-null   datetime64[ns]\n",
            " 1   temp          8674 non-null   float64       \n",
            " 2   humidity      8674 non-null   float64       \n",
            " 3   wind          8674 non-null   float64       \n",
            " 4   rain          8674 non-null   float64       \n",
            " 5   LC_DAILYRAIN  8674 non-null   float64       \n",
            " 6   id            301 non-null    float64       \n",
            " 7   title         301 non-null    object        \n",
            " 8   endTime       301 non-null    object        \n",
            " 9   url           297 non-null    object        \n",
            " 10  tags          284 non-null    object        \n",
            " 11  address       301 non-null    object        \n",
            " 12  name          283 non-null    object        \n",
            " 13  latitude      121 non-null    float64       \n",
            " 14  longitude     121 non-null    float64       \n",
            " 15  city          301 non-null    object        \n",
            " 16  noise_level   8674 non-null   float64       \n",
            " 17  target        8674 non-null   object        \n",
            " 18  event_yes     8674 non-null   int64         \n",
            " 19  nameday       8674 non-null   int32         \n",
            " 20  hour          8674 non-null   int32         \n",
            "dtypes: datetime64[ns](1), float64(9), int32(2), int64(1), object(8)\n",
            "memory usage: 1.4+ MB\n"
          ]
        }
      ],
      "source": [
        "df.info()"
      ]
    },
    {
      "cell_type": "markdown",
      "metadata": {
        "id": "lvR17WA5qBEF"
      },
      "source": [
        "\n",
        "# Splitting data\n"
      ]
    },
    {
      "cell_type": "code",
      "execution_count": 14,
      "metadata": {
        "id": "SiIeT-FnqE37"
      },
      "outputs": [],
      "source": [
        "# Extracting correct features\n",
        "from sklearn.model_selection import train_test_split\n",
        "x = df[['temp', 'nameday', 'hour', 'humidity', 'rain', 'wind', 'event_yes']]\n",
        "  \n",
        "y = df['target']\n",
        "\n",
        "# # Extracting correct features\n",
        "# from sklearn.model_selection import train_test_split\n",
        "# x = df[['LC_TEMP_QCL3', 'LC_HUMIDITY', 'LC_WINDSPEED', 'LC_RAININ',\n",
        "#        'LC_DAILYRAIN', 'nameday']]\n",
        "  \n",
        "# y = df['target']\\\n",
        "\n",
        "# Splitting data into train data and validation data \n",
        "X_train, X_test, y_train, y_test = train_test_split(x, y, random_state=42)"
      ]
    },
    {
      "cell_type": "markdown",
      "metadata": {
        "id": "LVSnNMD6IdR0"
      },
      "source": [
        "## Random Forest"
      ]
    },
    {
      "cell_type": "code",
      "execution_count": 15,
      "metadata": {
        "colab": {
          "base_uri": "https://localhost:8080/",
          "height": 718
        },
        "id": "5EDbQp48IfFP",
        "outputId": "273d48fb-55fa-4307-f8ad-7ad9c85098e1"
      },
      "outputs": [
        {
          "data": {
            "image/png": "[encoded data removed]",
            "text/plain": [
              "<Figure size 1000x800 with 1 Axes>"
            ]
          },
          "metadata": {},
          "output_type": "display_data"
        }
      ],
      "source": [
        "from sklearn.compose import ColumnTransformer\n",
        "from sklearn.pipeline import Pipeline\n",
        "from sklearn.preprocessing import StandardScaler, OneHotEncoder\n",
        "from sklearn.ensemble import RandomForestClassifier\n",
        "from sklearn.metrics import accuracy_score\n",
        "from sklearn.exceptions import NotFittedError\n",
        "from sklearn.inspection import permutation_importance\n",
        "\n",
        "\n",
        "# Define numeric and categorical features\n",
        "numeric_features = ['temp', 'humidity', 'rain', 'wind']\n",
        "categorical_features = ['hour', 'nameday', 'event_yes']\n",
        "\n",
        "if 'target' in numeric_features:\n",
        "    numeric_features.remove('target')\n",
        "\n",
        "# Define transformers for numeric and categorical features\n",
        "numeric_transformer = Pipeline(steps=[\n",
        "    ('scaler', StandardScaler())\n",
        "])\n",
        "\n",
        "categorical_transformer = Pipeline(steps=[\n",
        "    ('onehot', OneHotEncoder(handle_unknown='ignore'))\n",
        "])\n",
        "\n",
        "# Create preprocessor for numeric and categorical features\n",
        "preprocessor = ColumnTransformer(\n",
        "    transformers=[\n",
        "        ('num', numeric_transformer, numeric_features),\n",
        "        ('cat', categorical_transformer, categorical_features)\n",
        "    ])\n",
        "\n",
        "# Create pipeline with preprocessor and random forest regressor\n",
        "rfc = Pipeline(steps=[\n",
        "    ('preprocessor', preprocessor),\n",
        "    ('regressor', RandomForestClassifier(n_estimators=300, random_state=42))\n",
        "])\n",
        "\n",
        "# Fit the pipeline on the training data\n",
        "rfc.fit(X_train, y_train)\n",
        "\n",
        "# Make predictions on the test data\n",
        "y_pred_rfc = rfc.predict(X_test)\n",
        "\n",
        "# Fit the OneHotEncoder transformer to the categorical features\n",
        "categorical_transformer.fit(X_train[categorical_features])\n",
        "\n",
        "# Get feature importances and names\n",
        "importances = rfc.named_steps['regressor'].feature_importances_\n",
        "encoded_cat_features = categorical_transformer.named_steps['onehot'].get_feature_names_out(categorical_features)\n",
        "all_feature_names = numeric_features + list(encoded_cat_features)\n",
        "feature_importances = np.zeros(len(all_feature_names))\n",
        "\n",
        "# Add the importances of the original numeric features\n",
        "feature_importances[:len(numeric_features)] += importances[:len(numeric_features)]\n",
        "\n",
        "# Combine the importances of the encoded categorical features into the original features\n",
        "feature_importances = importances[:len(numeric_features)].tolist()  # Start with the numeric features\n",
        "for i, feature_name in enumerate(categorical_features):\n",
        "    encoded_cat_importances = [\n",
        "        importances[j] for j, feat_name in enumerate(all_feature_names)\n",
        "        if feat_name.startswith(feature_name + '_')\n",
        "    ]\n",
        "    feature_importances.append(sum(encoded_cat_importances))\n",
        "\n",
        "# Get the names of the original features\n",
        "original_feature_names = numeric_features + categorical_features\n",
        "\n",
        "# Plot the feature importances\n",
        "plt.figure(figsize=(10,8))\n",
        "plt.barh(original_feature_names, feature_importances)\n",
        "plt.xlabel('Feature Importance')\n",
        "plt.ylabel('Features')\n",
        "plt.title('Random Forest Class Feature Importances')\n",
        "plt.show()"
      ]
    },
    {
      "cell_type": "code",
      "execution_count": 16,
      "metadata": {
        "colab": {
          "base_uri": "https://localhost:8080/"
        },
        "id": "XhPHywL7b_IK",
        "outputId": "f68c0aea-e4ab-405c-9d7e-61c273911523"
      },
      "outputs": [
        {
          "name": "stdout",
          "output_type": "stream",
          "text": [
            "              precision    recall  f1-score   support\n",
            "\n",
            "        High       0.48      0.09      0.15       316\n",
            "Intermediate       0.71      0.97      0.82      1509\n",
            "         Low       0.60      0.11      0.19       344\n",
            "\n",
            "    accuracy                           0.70      2169\n",
            "   macro avg       0.60      0.39      0.39      2169\n",
            "weighted avg       0.66      0.70      0.62      2169\n",
            "\n"
          ]
        }
      ],
      "source": [
        "from sklearn.metrics import classification_report\n",
        "\n",
        "# Generate predictions on the test set\n",
        "y_pred_rfc = rfc.predict(X_test)\n",
        "\n",
        "# Create a classification report\n",
        "print(classification_report(y_test, y_pred_rfc))"
      ]
    },
    {
      "cell_type": "code",
      "execution_count": null,
      "metadata": {
        "id": "E8fU6iOpA7B0"
      },
      "outputs": [],
      "source": []
    },
    {
      "cell_type": "markdown",
      "metadata": {
        "id": "-8zC9bi8A7O_"
      },
      "source": [
        "# Trial on realtime data\n",
        "\n"
      ]
    },
    {
      "cell_type": "code",
      "execution_count": 67,
      "metadata": {
        "id": "K6enh00dA7PA"
      },
      "outputs": [],
      "source": [
        "# df = pd.read_csv(\"routes.csv\")\n",
        "os.chdir(\"/content/drive/MyDrive/modern_data_analysis\")"
      ]
    },
    {
      "cell_type": "code",
      "execution_count": 3,
      "metadata": {
        "colab": {
          "base_uri": "https://localhost:8080/"
        },
        "id": "9QpTWb8yA7PA",
        "outputId": "a42f3a7c-3ebd-45e2-e482-a72a4a641a7f"
      },
      "outputs": [],
      "source": [
        "import requests\n",
        "from bs4 import BeautifulSoup\n",
        "import pandas as pd\n",
        "from datetime import datetime\n",
        "from datetime import timedelta\n",
        "import numpy as np\n",
        "content = \"https://weather.com/weather/hourbyhour/l/c097b546627cdff2da1e276cb9b2731055718a5e7270d777a92857a9701c7870\"\n",
        "response = requests.get(content)\n",
        "soup = BeautifulSoup(response.content, 'html.parser')\n",
        "\n",
        "temp_val = soup.findAll('div', attrs={'class':'DetailsTable--field--CPpc_'})\n",
        "\n",
        "\n",
        "forecast = pd.DataFrame()\n",
        "forecast['temp'] = [round((int(temp_val[i].text[-3:-1])-32 ) *5/9, 1) for i in list(np.array(range(288))) if i%6 == 0]\n",
        "forecast['wind'] = [float(temp_val[i].text.split(' ')[1]) for i in list(np.array(range(288))) if i%6 == 1]\n",
        "forecast['wind_direction'] = [temp_val[i].text.split(' ')[0] for i in list(np.array(range(288))) if i%6 == 1]\n",
        "forecast['humidity'] = [int(temp_val[i].text[-3:-1]) for i in list(np.array(range(288))) if i%6 == 2]\n",
        "forecast['cloud_cover'] = [int(temp_val[i].text.replace('Cloud Cover', '')[:-1]) for i in list(np.array(range(288))) if i%6 == 4]\n",
        "forecast['rain'] = [int(temp_val[i].text.replace('Rain Amount', '').replace(' in', '')) for i in list(np.array(range(288))) if i%6 == 5]\n",
        "weekday = [(datetime.now()+timedelta(hours=i)).weekday() for i in range(48)]\n",
        "hour_of_day = [(datetime.now()+timedelta(hours=i)).hour for i in range(48)]\n",
        "forecast['nameday'] = weekday\n",
        "forecast['hour'] = hour_of_day\n",
        "forecast['event_yes'] = '' # This value has to be included by the user. So edit this. The value now is missing, but the model running, so even if nothing is provided, it will run\n",
        "forecast['tag_category'] = '' # This value has to be included by the user. So edit this\n"
      ]
    },
    {
      "cell_type": "code",
      "execution_count": 4,
      "metadata": {
        "id": "45-kvMkfA7PA"
      },
      "outputs": [],
      "source": [
        "# Generate predictions on the test set\n",
        "prediction_app = rfc.predict(forecast)"
      ]
    },
    {
      "cell_type": "code",
      "execution_count": 5,
      "metadata": {
        "colab": {
          "base_uri": "https://localhost:8080/"
        },
        "id": "ZPwiE9PS8k8L",
        "outputId": "d954d6bb-e0f4-4e4f-adfc-4f97d6dd3c0e"
      },
      "outputs": [
        {
          "data": {
            "text/plain": [
              "array(['Intermediate', 'Intermediate', 'High', 'High', 'High', 'High',\n",
              "       'Intermediate', 'Intermediate', 'Intermediate', 'High',\n",
              "       'Intermediate', 'Intermediate', 'Intermediate', 'Intermediate',\n",
              "       'Intermediate', 'Intermediate', 'Intermediate', 'Intermediate',\n",
              "       'Intermediate', 'Intermediate', 'Intermediate', 'Intermediate',\n",
              "       'Intermediate', 'Intermediate', 'Intermediate', 'Intermediate',\n",
              "       'Intermediate', 'Intermediate', 'High', 'High', 'High', 'High',\n",
              "       'High', 'High', 'High', 'High', 'High', 'High', 'High', 'High',\n",
              "       'High', 'High', 'High', 'High', 'High', 'Intermediate', 'High',\n",
              "       'High'], dtype=object)"
            ]
          },
          "execution_count": 5,
          "metadata": {},
          "output_type": "execute_result"
        }
      ],
      "source": [
        "prediction_app"
      ]
    },
    {
      "attachments": {},
      "cell_type": "markdown",
      "metadata": {},
      "source": [
        "# Saving the trained model"
      ]
    },
    {
      "cell_type": "code",
      "execution_count": 1,
      "metadata": {},
      "outputs": [],
      "source": [
        "import plotly.graph_objects as go\n",
        "import pickle\n",
        "with open('classifier_trained_model.pkl', 'rb') as f:\n",
        "    rfc = pickle.load(f)"
      ]
    },
    {
      "cell_type": "code",
      "execution_count": 21,
      "metadata": {},
      "outputs": [],
      "source": [
        "with open('classifier_trained_model.pkl', 'wb') as f:\n",
        "    pickle.dump(rfc, f)"
      ]
    },
    {
      "cell_type": "code",
      "execution_count": 6,
      "metadata": {},
      "outputs": [],
      "source": [
        "colors = {\"Low\": \"green\", \"Intermediate\": \"yellow\", \"High\": \"red\"}\n"
      ]
    }
  ],
  "metadata": {
    "colab": {
      "authorship_tag": "ABX9TyPasa3RdbIjOvbHrFhaR3hw",
      "include_colab_link": true,
      "provenance": [],
      "toc_visible": true
    },
    "kernelspec": {
      "display_name": "Python 3",
      "name": "python3"
    },
    "language_info": {
      "codemirror_mode": {
        "name": "ipython",
        "version": 3
      },
      "file_extension": ".py",
      "mimetype": "text/x-python",
      "name": "python",
      "nbconvert_exporter": "python",
      "pygments_lexer": "ipython3",
      "version": "3.9.5"
    }
  },
  "nbformat": 4,
  "nbformat_minor": 0
}
