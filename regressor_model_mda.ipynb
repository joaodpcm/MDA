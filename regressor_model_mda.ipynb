{
  "cells": [
    {
      "cell_type": "markdown",
      "metadata": {
        "colab_type": "text",
        "id": "view-in-github"
      },
      "source": [
        "<a href=\"https://colab.research.google.com/github/joaodpcm/MDA/blob/preprocessing_data_david/regressor_model_mda.ipynb\" target=\"_parent\"><img src=\"https://colab.research.google.com/assets/colab-badge.svg\" alt=\"Open In Colab\"/></a>"
      ]
    },
    {
      "cell_type": "markdown",
      "metadata": {
        "id": "O8l0ZzEWfORv"
      },
      "source": [
        "# Importing Packages\n"
      ]
    },
    {
      "cell_type": "code",
      "execution_count": 1,
      "metadata": {
        "colab": {
          "base_uri": "https://localhost:8080/",
          "height": 1000
        },
        "id": "pxPDmCZx_RAc",
        "outputId": "b6bd4200-0a34-4b55-ca10-3c773b6b5633"
      },
      "outputs": [],
      "source": [
        "# Import libraries\n",
        "'''!pip install pandas-profiling\n",
        "!pip install ydata-profiling\n",
        "!pip install geopy\n",
        "!pip install autoviz\n",
        "!pip install matplotlib\n",
        "!pip install -U textblob\n",
        "!pip install statsmodels\n",
        "!pip install missingno\n",
        "!python -m textblob.download_corpora\n",
        "!pip install missingpy\n",
        "!pip install scikit-learn\n",
        "!pip install sklearn'''\n",
        "import numpy as np \n",
        "import seaborn as sns\n",
        "import plotly.graph_objects as go\n",
        "import pandas as pd\n",
        "import missingno as msno\n",
        "import matplotlib.pyplot as plt\n",
        "import os\n",
        "import sklearn"
      ]
    },
    {
      "cell_type": "markdown",
      "metadata": {
        "id": "nHj8X3g1cRqg"
      },
      "source": [
        "# Clone repository"
      ]
    },
    {
      "cell_type": "code",
      "execution_count": 3,
      "metadata": {
        "colab": {
          "base_uri": "https://localhost:8080/"
        },
        "id": "mR9PDaWscT_q",
        "outputId": "0346e6d2-7a3d-49eb-987b-628b1967706c"
      },
      "outputs": [
        {
          "name": "stdout",
          "output_type": "stream",
          "text": [
            "/bin/bash: -c: line 0: syntax error near unexpected token `newline'\n",
            "/bin/bash: -c: line 0: `git clone <https://github.com/joaodpcm/MDAgit>'\n"
          ]
        }
      ],
      "source": [
        "#Accessing GitHub repository\n",
        "!git clone <https://github.com/joaodpcm/MDAgit>"
      ]
    },
    {
      "cell_type": "code",
      "execution_count": 2,
      "metadata": {
        "colab": {
          "base_uri": "https://localhost:8080/"
        },
        "id": "PYcWaK6dnuRX",
        "outputId": "81c6c19f-c3f6-4b8d-f750-ac48e3b4ebb9"
      },
      "outputs": [],
      "source": [
        "# Set path to the directory containing the meta dataset\n",
        "path_copy_meteo = \"meteo_data/data_final_meteo.csv\"\n",
        "df_meteo = pd.read_csv(path_copy_meteo)\n",
        "path_copy_noise = \"noise_data/events_noise2.xlsx\"\n",
        "df_noise = pd.read_excel(path_copy_noise)"
      ]
    },
    {
      "cell_type": "code",
      "execution_count": 3,
      "metadata": {
        "id": "ByBX2kjrBY7K"
      },
      "outputs": [],
      "source": [
        "df_noise = df_noise.rename(columns={\"startTime\": \"DATEUTC\", \"noise_level\": \"target\"})"
      ]
    },
    {
      "cell_type": "code",
      "execution_count": 4,
      "metadata": {
        "colab": {
          "base_uri": "https://localhost:8080/"
        },
        "id": "6D3JlFXV6Cez",
        "outputId": "fe3babb6-3eec-4487-c8fe-6a7da82f6b91"
      },
      "outputs": [
        {
          "name": "stdout",
          "output_type": "stream",
          "text": [
            "<class 'pandas.core.frame.DataFrame'>\n",
            "RangeIndex: 8777 entries, 0 to 8776\n",
            "Data columns (total 14 columns):\n",
            " #   Column     Non-Null Count  Dtype  \n",
            "---  ------     --------------  -----  \n",
            " 0   DATEUTC    8777 non-null   object \n",
            " 1   id         404 non-null    float64\n",
            " 2   title      404 non-null    object \n",
            " 3   endTime    404 non-null    object \n",
            " 4   url        399 non-null    object \n",
            " 5   tags       383 non-null    object \n",
            " 6   address    404 non-null    object \n",
            " 7   name       382 non-null    object \n",
            " 8   latitude   154 non-null    float64\n",
            " 9   longitude  154 non-null    float64\n",
            " 10  city       404 non-null    object \n",
            " 11  target     8674 non-null   float64\n",
            " 12  comp       8674 non-null   object \n",
            " 13  event_yes  8777 non-null   int64  \n",
            "dtypes: float64(4), int64(1), object(9)\n",
            "memory usage: 960.1+ KB\n"
          ]
        }
      ],
      "source": [
        "df_noise.info()"
      ]
    },
    {
      "cell_type": "code",
      "execution_count": 5,
      "metadata": {
        "id": "0T2fdFJyoiRm"
      },
      "outputs": [],
      "source": [
        "df = df_meteo.merge(df_noise, how='inner', on='DATEUTC')"
      ]
    },
    {
      "cell_type": "code",
      "execution_count": 6,
      "metadata": {
        "id": "5pfqQEDWGELw"
      },
      "outputs": [],
      "source": [
        "df['DATEUTC'] = pd.to_datetime(df['DATEUTC'])"
      ]
    },
    {
      "cell_type": "code",
      "execution_count": 7,
      "metadata": {
        "id": "6D7VzbHwF0Jt"
      },
      "outputs": [],
      "source": [
        "df['nameday'] = df['DATEUTC'].dt.dayofweek"
      ]
    },
    {
      "cell_type": "code",
      "execution_count": 8,
      "metadata": {
        "id": "OtTAauYb2P-a"
      },
      "outputs": [],
      "source": [
        "df['hour'] = df['DATEUTC'].dt.hour"
      ]
    },
    {
      "cell_type": "code",
      "execution_count": 9,
      "metadata": {
        "id": "H13ZXKa7pa2r"
      },
      "outputs": [],
      "source": [
        "df = df.rename(columns={'LC_WINDSPEED': \"wind\", 'LC_TEMP_QCL3': 'temp','LC_RAININ':'rain','LC_HUMIDITY':'humidity'})"
      ]
    },
    {
      "cell_type": "code",
      "execution_count": 10,
      "metadata": {
        "id": "S2CnbiUItLLT"
      },
      "outputs": [],
      "source": [
        "df = df.dropna(subset=['target'])"
      ]
    },
    {
      "cell_type": "code",
      "execution_count": 11,
      "metadata": {
        "colab": {
          "base_uri": "https://localhost:8080/"
        },
        "id": "-uXGqx05uNx0",
        "outputId": "73db6666-b253-4bd7-8102-c6220c1522bb"
      },
      "outputs": [
        {
          "name": "stdout",
          "output_type": "stream",
          "text": [
            "0 missing values within the dataset.\n"
          ]
        }
      ],
      "source": [
        "# Renaming missing values\n",
        "df = df.replace('', np.NaN)\n",
        "# Renaming missing values\n",
        "df = df.replace('', np.NaN)\n",
        "# Getting the total missing values\n",
        "print(\"{} missing values within the dataset.\".format(df['target'].isna().sum().sum())) "
      ]
    },
    {
      "cell_type": "markdown",
      "metadata": {
        "id": "lvR17WA5qBEF"
      },
      "source": [
        "\n",
        "# Splitting data\n"
      ]
    },
    {
      "cell_type": "code",
      "execution_count": 12,
      "metadata": {
        "id": "SiIeT-FnqE37"
      },
      "outputs": [],
      "source": [
        "# Extracting correct features\n",
        "from sklearn.model_selection import train_test_split\n",
        "x = df[['temp', 'nameday', 'hour', 'humidity', 'rain', 'wind', 'event_yes']]\n",
        "  \n",
        "y = df['target']\n",
        "\n",
        "# # Extracting correct features\n",
        "# from sklearn.model_selection import train_test_split\n",
        "# x = df[['LC_TEMP_QCL3', 'LC_HUMIDITY', 'LC_WINDSPEED', 'LC_RAININ',\n",
        "#        'LC_DAILYRAIN', 'nameday']]\n",
        "  \n",
        "# y = df['target']\n",
        "\n",
        "# Splitting data into train data and validation data \n",
        "X_train, X_test, y_train, y_test = train_test_split(x, y, random_state=42)"
      ]
    },
    {
      "cell_type": "markdown",
      "metadata": {
        "id": "LVSnNMD6IdR0"
      },
      "source": [
        "## Random Forest"
      ]
    },
    {
      "cell_type": "code",
      "execution_count": 13,
      "metadata": {
        "colab": {
          "base_uri": "https://localhost:8080/",
          "height": 1000
        },
        "id": "5EDbQp48IfFP",
        "outputId": "acf1f29f-678c-479c-981f-236ce309c681"
      },
      "outputs": [
        {
          "name": "stderr",
          "output_type": "stream",
          "text": [
            "c:\\Users\\joaod\\anaconda3\\envs\\MDA\\lib\\site-packages\\sklearn\\preprocessing\\_encoders.py:868: FutureWarning: `sparse` was renamed to `sparse_output` in version 1.2 and will be removed in 1.4. `sparse_output` is ignored unless you leave `sparse` to its default value.\n",
            "  warnings.warn(\n",
            "c:\\Users\\joaod\\anaconda3\\envs\\MDA\\lib\\site-packages\\sklearn\\preprocessing\\_encoders.py:868: FutureWarning: `sparse` was renamed to `sparse_output` in version 1.2 and will be removed in 1.4. `sparse_output` is ignored unless you leave `sparse` to its default value.\n",
            "  warnings.warn(\n",
            "c:\\Users\\joaod\\anaconda3\\envs\\MDA\\lib\\site-packages\\sklearn\\preprocessing\\_encoders.py:868: FutureWarning: `sparse` was renamed to `sparse_output` in version 1.2 and will be removed in 1.4. `sparse_output` is ignored unless you leave `sparse` to its default value.\n",
            "  warnings.warn(\n",
            "c:\\Users\\joaod\\anaconda3\\envs\\MDA\\lib\\site-packages\\sklearn\\preprocessing\\_encoders.py:868: FutureWarning: `sparse` was renamed to `sparse_output` in version 1.2 and will be removed in 1.4. `sparse_output` is ignored unless you leave `sparse` to its default value.\n",
            "  warnings.warn(\n",
            "c:\\Users\\joaod\\anaconda3\\envs\\MDA\\lib\\site-packages\\sklearn\\preprocessing\\_encoders.py:868: FutureWarning: `sparse` was renamed to `sparse_output` in version 1.2 and will be removed in 1.4. `sparse_output` is ignored unless you leave `sparse` to its default value.\n",
            "  warnings.warn(\n",
            "c:\\Users\\joaod\\anaconda3\\envs\\MDA\\lib\\site-packages\\sklearn\\preprocessing\\_encoders.py:868: FutureWarning: `sparse` was renamed to `sparse_output` in version 1.2 and will be removed in 1.4. `sparse_output` is ignored unless you leave `sparse` to its default value.\n",
            "  warnings.warn(\n",
            "c:\\Users\\joaod\\anaconda3\\envs\\MDA\\lib\\site-packages\\sklearn\\preprocessing\\_encoders.py:868: FutureWarning: `sparse` was renamed to `sparse_output` in version 1.2 and will be removed in 1.4. `sparse_output` is ignored unless you leave `sparse` to its default value.\n",
            "  warnings.warn(\n",
            "c:\\Users\\joaod\\anaconda3\\envs\\MDA\\lib\\site-packages\\sklearn\\preprocessing\\_encoders.py:868: FutureWarning: `sparse` was renamed to `sparse_output` in version 1.2 and will be removed in 1.4. `sparse_output` is ignored unless you leave `sparse` to its default value.\n",
            "  warnings.warn(\n",
            "c:\\Users\\joaod\\anaconda3\\envs\\MDA\\lib\\site-packages\\sklearn\\preprocessing\\_encoders.py:868: FutureWarning: `sparse` was renamed to `sparse_output` in version 1.2 and will be removed in 1.4. `sparse_output` is ignored unless you leave `sparse` to its default value.\n",
            "  warnings.warn(\n",
            "c:\\Users\\joaod\\anaconda3\\envs\\MDA\\lib\\site-packages\\sklearn\\preprocessing\\_encoders.py:868: FutureWarning: `sparse` was renamed to `sparse_output` in version 1.2 and will be removed in 1.4. `sparse_output` is ignored unless you leave `sparse` to its default value.\n",
            "  warnings.warn(\n",
            "c:\\Users\\joaod\\anaconda3\\envs\\MDA\\lib\\site-packages\\sklearn\\preprocessing\\_encoders.py:868: FutureWarning: `sparse` was renamed to `sparse_output` in version 1.2 and will be removed in 1.4. `sparse_output` is ignored unless you leave `sparse` to its default value.\n",
            "  warnings.warn(\n",
            "c:\\Users\\joaod\\anaconda3\\envs\\MDA\\lib\\site-packages\\sklearn\\preprocessing\\_encoders.py:868: FutureWarning: `sparse` was renamed to `sparse_output` in version 1.2 and will be removed in 1.4. `sparse_output` is ignored unless you leave `sparse` to its default value.\n",
            "  warnings.warn(\n",
            "c:\\Users\\joaod\\anaconda3\\envs\\MDA\\lib\\site-packages\\sklearn\\preprocessing\\_encoders.py:868: FutureWarning: `sparse` was renamed to `sparse_output` in version 1.2 and will be removed in 1.4. `sparse_output` is ignored unless you leave `sparse` to its default value.\n",
            "  warnings.warn(\n",
            "c:\\Users\\joaod\\anaconda3\\envs\\MDA\\lib\\site-packages\\sklearn\\preprocessing\\_encoders.py:868: FutureWarning: `sparse` was renamed to `sparse_output` in version 1.2 and will be removed in 1.4. `sparse_output` is ignored unless you leave `sparse` to its default value.\n",
            "  warnings.warn(\n",
            "c:\\Users\\joaod\\anaconda3\\envs\\MDA\\lib\\site-packages\\sklearn\\preprocessing\\_encoders.py:868: FutureWarning: `sparse` was renamed to `sparse_output` in version 1.2 and will be removed in 1.4. `sparse_output` is ignored unless you leave `sparse` to its default value.\n",
            "  warnings.warn(\n",
            "c:\\Users\\joaod\\anaconda3\\envs\\MDA\\lib\\site-packages\\sklearn\\preprocessing\\_encoders.py:868: FutureWarning: `sparse` was renamed to `sparse_output` in version 1.2 and will be removed in 1.4. `sparse_output` is ignored unless you leave `sparse` to its default value.\n",
            "  warnings.warn(\n",
            "c:\\Users\\joaod\\anaconda3\\envs\\MDA\\lib\\site-packages\\sklearn\\preprocessing\\_encoders.py:868: FutureWarning: `sparse` was renamed to `sparse_output` in version 1.2 and will be removed in 1.4. `sparse_output` is ignored unless you leave `sparse` to its default value.\n",
            "  warnings.warn(\n",
            "c:\\Users\\joaod\\anaconda3\\envs\\MDA\\lib\\site-packages\\sklearn\\preprocessing\\_encoders.py:868: FutureWarning: `sparse` was renamed to `sparse_output` in version 1.2 and will be removed in 1.4. `sparse_output` is ignored unless you leave `sparse` to its default value.\n",
            "  warnings.warn(\n",
            "c:\\Users\\joaod\\anaconda3\\envs\\MDA\\lib\\site-packages\\sklearn\\preprocessing\\_encoders.py:868: FutureWarning: `sparse` was renamed to `sparse_output` in version 1.2 and will be removed in 1.4. `sparse_output` is ignored unless you leave `sparse` to its default value.\n",
            "  warnings.warn(\n",
            "c:\\Users\\joaod\\anaconda3\\envs\\MDA\\lib\\site-packages\\sklearn\\preprocessing\\_encoders.py:868: FutureWarning: `sparse` was renamed to `sparse_output` in version 1.2 and will be removed in 1.4. `sparse_output` is ignored unless you leave `sparse` to its default value.\n",
            "  warnings.warn(\n",
            "c:\\Users\\joaod\\anaconda3\\envs\\MDA\\lib\\site-packages\\sklearn\\preprocessing\\_encoders.py:868: FutureWarning: `sparse` was renamed to `sparse_output` in version 1.2 and will be removed in 1.4. `sparse_output` is ignored unless you leave `sparse` to its default value.\n",
            "  warnings.warn(\n",
            "c:\\Users\\joaod\\anaconda3\\envs\\MDA\\lib\\site-packages\\sklearn\\preprocessing\\_encoders.py:868: FutureWarning: `sparse` was renamed to `sparse_output` in version 1.2 and will be removed in 1.4. `sparse_output` is ignored unless you leave `sparse` to its default value.\n",
            "  warnings.warn(\n",
            "c:\\Users\\joaod\\anaconda3\\envs\\MDA\\lib\\site-packages\\sklearn\\preprocessing\\_encoders.py:868: FutureWarning: `sparse` was renamed to `sparse_output` in version 1.2 and will be removed in 1.4. `sparse_output` is ignored unless you leave `sparse` to its default value.\n",
            "  warnings.warn(\n",
            "c:\\Users\\joaod\\anaconda3\\envs\\MDA\\lib\\site-packages\\sklearn\\preprocessing\\_encoders.py:868: FutureWarning: `sparse` was renamed to `sparse_output` in version 1.2 and will be removed in 1.4. `sparse_output` is ignored unless you leave `sparse` to its default value.\n",
            "  warnings.warn(\n"
          ]
        },
        {
          "data": {
            "image/png": "[encoded data removed]",
            "text/plain": [
              "<Figure size 640x480 with 1 Axes>"
            ]
          },
          "metadata": {},
          "output_type": "display_data"
        }
      ],
      "source": [
        "from sklearn.inspection import permutation_importance\n",
        "from sklearn.compose import ColumnTransformer\n",
        "from sklearn.pipeline import Pipeline\n",
        "from sklearn.preprocessing import StandardScaler, OneHotEncoder\n",
        "from sklearn.ensemble import HistGradientBoostingRegressor\n",
        "from sklearn.model_selection import LeaveOneGroupOut\n",
        "from sklearn.exceptions import NotFittedError\n",
        "\n",
        "# Define numeric and categorical features\n",
        "numeric_features = ['temp', 'humidity', 'rain', 'wind']\n",
        "categorical_features = ['hour', 'nameday', 'event_yes']\n",
        "\n",
        "if 'target' in numeric_features:\n",
        "    numeric_features.remove('target')\n",
        "\n",
        "# Define transformers for numeric and categorical features\n",
        "numeric_transformer = Pipeline(steps=[\n",
        "    ('scaler', StandardScaler())\n",
        "])\n",
        "\n",
        "categorical_transformer = Pipeline(steps=[\n",
        "    ('onehot', OneHotEncoder(handle_unknown='ignore', sparse=False))\n",
        "])\n",
        "\n",
        "# Create preprocessor for numeric and categorical features\n",
        "preprocessor = ColumnTransformer(\n",
        "    transformers=[\n",
        "        ('num', numeric_transformer, numeric_features),\n",
        "        ('cat', categorical_transformer, categorical_features)\n",
        "    ],\n",
        "    sparse_threshold=0\n",
        ")\n",
        "\n",
        "# Create pipeline with preprocessor and HistGradientBoostingRegressor\n",
        "hgr = Pipeline(steps=[\n",
        "    ('preprocessor', preprocessor),\n",
        "    ('regressor', HistGradientBoostingRegressor(max_leaf_nodes=30))\n",
        "])\n",
        "\n",
        "# Define groups for LeaveOneGroupOut cross-validation\n",
        "groups = X_train['hour']  # Assuming 'hour' is used for grouping\n",
        "\n",
        "# Fit the pipeline on the training data using LeaveOneGroupOut cross-validation\n",
        "for train_index, test_index in LeaveOneGroupOut().split(X_train, y_train, groups):\n",
        "    hgr.fit(X_train.iloc[train_index], y_train.iloc[train_index])\n",
        "\n",
        "# Make predictions on the test data\n",
        "y_pred_hgr = hgr.predict(X_test)\n",
        "\n",
        "# Get the permutation importances\n",
        "try:\n",
        "    result = permutation_importance(hgr, X_test, y_test, n_repeats=10, random_state=42)\n",
        "except NotFittedError:\n",
        "    # Handle the case where the model is not fitted\n",
        "    result = None\n",
        "\n",
        "if result is not None:\n",
        "    sorted_idx = result.importances_mean.argsort()\n",
        "\n",
        "    # Plot the feature importances\n",
        "    fig, ax = plt.subplots()\n",
        "    ax.boxplot(result.importances[sorted_idx].T,\n",
        "               vert=False, labels=X_test.columns[sorted_idx])\n",
        "    ax.set_title(\"Permutation Importances (test set)\")\n",
        "    fig.tight_layout()\n",
        "    plt.show()\n",
        "else:\n",
        "    print(\"Model not fitted.\")\n",
        "\n",
        "# from sklearn.inspection import permutation_importance\n",
        "# from sklearn.compose import ColumnTransformer\n",
        "# from sklearn.pipeline import Pipeline\n",
        "# from sklearn.preprocessing import StandardScaler, OneHotEncoder\n",
        "# from sklearn.ensemble import HistGradientBoostingRegressor\n",
        "# from sklearn.inspection import permutation_importance\n",
        "# from sklearn.exceptions import NotFittedError\n",
        "\n",
        "\n",
        "# # Define numeric and categorical features\n",
        "# numeric_features = ['temp', 'humidity', 'rain', 'wind']\n",
        "# categorical_features = ['hour', 'nameday']\n",
        "\n",
        "# if 'target' in numeric_features:\n",
        "#     numeric_features.remove('target')\n",
        "# # Define transformers for numeric and categorical features\n",
        "# numeric_transformer = Pipeline(steps=[\n",
        "#     ('scaler', StandardScaler())\n",
        "# ])\n",
        "\n",
        "# categorical_transformer = Pipeline(steps=[\n",
        "#     ('onehot', OneHotEncoder(handle_unknown='ignore', sparse=False))\n",
        "# ])\n",
        "\n",
        "# # Create preprocessor for numeric and categorical features\n",
        "# preprocessor = ColumnTransformer(\n",
        "#     transformers=[\n",
        "#         ('num', numeric_transformer, numeric_features),\n",
        "#         ('cat', categorical_transformer, categorical_features)\n",
        "#     ],\n",
        "#     sparse_threshold=0\n",
        "# )\n",
        "\n",
        "# # Create pipeline with preprocessor and HistGradientBoostingRegressor\n",
        "# hgr = Pipeline(steps=[\n",
        "#     ('preprocessor', preprocessor),\n",
        "#     ('regressor', HistGradientBoostingRegressor(max_leaf_nodes=30))\n",
        "# ])\n",
        "\n",
        "# # Fit the pipeline on the training data\n",
        "# hgr.fit(X_train, y_train)\n",
        "\n",
        "# # Make predictions on the test data\n",
        "# y_pred_hgr = hgr.predict(X_test)\n",
        "\n",
        "# # Get the permutation importances\n",
        "# try:\n",
        "#     result = permutation_importance(hgr, X_test, y_test, n_repeats=10, random_state=42)\n",
        "# except NotFittedError:\n",
        "#     # Handle the case where the model is not fitted\n",
        "#     result = None\n",
        "\n",
        "# if result is not None:\n",
        "#     sorted_idx = result.importances_mean.argsort()\n",
        "\n",
        "#     # Plot the feature importances\n",
        "#     fig, ax = plt.subplots()\n",
        "#     ax.boxplot(result.importances[sorted_idx].T,\n",
        "#                vert=False, labels=X_test.columns[sorted_idx])\n",
        "#     ax.set_title(\"Permutation Importances (test set)\")\n",
        "#     fig.tight_layout()\n",
        "#     plt.show()\n",
        "# else:\n",
        "#     print(\"Model not fitted.\")"
      ]
    },
    {
      "cell_type": "code",
      "execution_count": 51,
      "metadata": {
        "id": "tEfHLybyCFMZ"
      },
      "outputs": [],
      "source": [
        "# Plot for Random Forest"
      ]
    },
    {
      "cell_type": "code",
      "execution_count": 14,
      "metadata": {
        "id": "XhPHywL7b_IK"
      },
      "outputs": [],
      "source": [
        "import numpy as np\n",
        "from sklearn.metrics import mean_squared_error, mean_absolute_error, mean_poisson_deviance, mean_squared_log_error\n",
        "\n",
        "def score_estimator(estimator, X_test, y_test):\n",
        "    \"\"\"Score an estimator on the test set.\"\"\"\n",
        "    y_pred = np.round(estimator.predict(X_test))\n",
        "\n",
        "    print(\n",
        "        \"MSE: %.3f\"\n",
        "        % mean_squared_error(\n",
        "            y_test, y_pred\n",
        "        )\n",
        "    )\n",
        "    print(\n",
        "        \"MAE: %.3f\"\n",
        "        % mean_absolute_error(\n",
        "            y_test, y_pred\n",
        "        )\n",
        "    )\n",
        "\n",
        "    # Ignore non-positive predictions, as they are invalid for\n",
        "    # the Poisson deviance.\n",
        "    mask = y_pred > 0\n",
        "    if (~mask).any():\n",
        "        n_masked, n_samples = (~mask).sum(), mask.shape[0]\n",
        "        print(\n",
        "            \"WARNING: Estimator yields invalid, non-positive predictions \"\n",
        "            f\" for {n_masked} samples out of {n_samples}. These predictions \"\n",
        "            \"are ignored when computing the Poisson deviance.\"\n",
        "        )\n",
        "\n",
        "    print(\n",
        "        \"RMSE: %.3f\"\n",
        "        % np.sqrt(mean_squared_error(\n",
        "            y_test[mask],\n",
        "            y_pred[mask]\n",
        "        ))\n",
        "    )"
      ]
    },
    {
      "cell_type": "code",
      "execution_count": 15,
      "metadata": {
        "colab": {
          "base_uri": "https://localhost:8080/"
        },
        "id": "-7W3dYq86ooO",
        "outputId": "a14855ef-7f95-4cea-ad3e-e24853793fc4"
      },
      "outputs": [
        {
          "name": "stdout",
          "output_type": "stream",
          "text": [
            "HGBR evaluation:\n",
            "MSE: 12.156\n",
            "MAE: 2.535\n",
            "RMSE: 3.487\n"
          ]
        }
      ],
      "source": [
        "print(\"HGBR evaluation:\")\n",
        "score_estimator(hgr, X_test, y_test)"
      ]
    },
    {
      "cell_type": "markdown",
      "metadata": {
        "id": "7M-M-Se0fCZM"
      },
      "source": [
        "# Trial on realtime data\n",
        "\n"
      ]
    },
    {
      "cell_type": "code",
      "execution_count": 16,
      "metadata": {
        "id": "1KYF0JiAqxMD"
      },
      "outputs": [
        {
          "ename": "FileNotFoundError",
          "evalue": "[WinError 3] O sistema não pode encontrar o caminho especificado: '/content/drive/MyDrive/modern_data_analysis'",
          "output_type": "error",
          "traceback": [
            "\u001b[1;31m---------------------------------------------------------------------------\u001b[0m",
            "\u001b[1;31mFileNotFoundError\u001b[0m                         Traceback (most recent call last)",
            "Cell \u001b[1;32mIn[16], line 2\u001b[0m\n\u001b[0;32m      1\u001b[0m \u001b[39m# df = pd.read_csv(\"routes.csv\")\u001b[39;00m\n\u001b[1;32m----> 2\u001b[0m os\u001b[39m.\u001b[39;49mchdir(\u001b[39m\"\u001b[39;49m\u001b[39m/content/drive/MyDrive/modern_data_analysis\u001b[39;49m\u001b[39m\"\u001b[39;49m)\n",
            "\u001b[1;31mFileNotFoundError\u001b[0m: [WinError 3] O sistema não pode encontrar o caminho especificado: '/content/drive/MyDrive/modern_data_analysis'"
          ]
        }
      ],
      "source": [
        "# df = pd.read_csv(\"routes.csv\")\n",
        "os.chdir(\"/content/drive/MyDrive/modern_data_analysis\")"
      ]
    },
    {
      "cell_type": "code",
      "execution_count": 17,
      "metadata": {
        "colab": {
          "base_uri": "https://localhost:8080/"
        },
        "id": "kXmmrKZBspYt",
        "outputId": "4ca6ca23-ac31-4369-c3df-10f115af8f13"
      },
      "outputs": [
        {
          "name": "stdout",
          "output_type": "stream",
          "text": [
            "Requirement already satisfied: beautifulsoup4 in c:\\users\\joaod\\anaconda3\\envs\\mda\\lib\\site-packages (4.12.2)\n",
            "Requirement already satisfied: soupsieve>1.2 in c:\\users\\joaod\\anaconda3\\envs\\mda\\lib\\site-packages (from beautifulsoup4) (2.4.1)\n"
          ]
        }
      ],
      "source": [
        "!pip install beautifulsoup4\n",
        "import requests\n",
        "from bs4 import BeautifulSoup\n",
        "import pandas as pd\n",
        "from datetime import datetime\n",
        "from datetime import timedelta\n",
        "content = \"https://weather.com/weather/hourbyhour/l/c097b546627cdff2da1e276cb9b2731055718a5e7270d777a92857a9701c7870\"\n",
        "response = requests.get(content)\n",
        "soup = BeautifulSoup(response.content, 'html.parser')\n",
        "\n",
        "temp_val = soup.findAll('div', attrs={'class':'DetailsTable--field--CPpc_'})\n",
        "\n",
        "\n",
        "forecast = pd.DataFrame()\n",
        "forecast['temp'] = [round((int(temp_val[i].text[-3:-1])-32 ) *5/9, 1) for i in list(np.array(range(288))) if i%6 == 0]\n",
        "forecast['wind'] = [float(temp_val[i].text.split(' ')[1]) for i in list(np.array(range(288))) if i%6 == 1]\n",
        "forecast['wind_direction'] = [temp_val[i].text.split(' ')[0] for i in list(np.array(range(288))) if i%6 == 1]\n",
        "forecast['humidity'] = [int(temp_val[i].text[-3:-1]) for i in list(np.array(range(288))) if i%6 == 2]\n",
        "forecast['cloud_cover'] = [int(temp_val[i].text.replace('Cloud Cover', '')[:-1]) for i in list(np.array(range(288))) if i%6 == 4]\n",
        "forecast['rain'] = [int(temp_val[i].text.replace('Rain Amount', '').replace(' in', '')) for i in list(np.array(range(288))) if i%6 == 5]\n",
        "weekday = [(datetime.now()+timedelta(hours=i)).weekday() for i in range(48)]\n",
        "hour_of_day = [(datetime.now()+timedelta(hours=i)).hour for i in range(48)]\n",
        "forecast['nameday'] = weekday\n",
        "forecast['hour'] = hour_of_day\n",
        "forecast['event_yes'] = '' # This value has to be included by the user. So edit this. The value now is missing, but the model running, so even if nothing is provided, it will run\n",
        "forecast['tag_category'] = '' # This value has to be included by the user. So edit this\n"
      ]
    },
    {
      "cell_type": "code",
      "execution_count": 18,
      "metadata": {
        "id": "UZkEEp_i7aWE"
      },
      "outputs": [],
      "source": [
        "# Generate predictions on the test set\n",
        "prediction_app = hgr.predict(forecast)"
      ]
    },
    {
      "cell_type": "code",
      "execution_count": 19,
      "metadata": {
        "colab": {
          "base_uri": "https://localhost:8080/"
        },
        "id": "ZPwiE9PS8k8L",
        "outputId": "4452612c-5e46-47c7-bc34-542402075fdc"
      },
      "outputs": [
        {
          "data": {
            "text/plain": [
              "array([58.85165756, 57.55641347, 60.13715829, 55.6747241 , 53.79370177,\n",
              "       50.37241955, 45.54868808, 47.21671259, 46.42524115, 53.02611512,\n",
              "       60.26729649, 61.4866527 , 61.40085282, 61.25223007, 60.83389542,\n",
              "       60.77765394, 60.10550047, 60.07508015, 59.24769333, 58.93210592,\n",
              "       59.24769333, 60.36214448, 60.16006833, 60.10246247, 59.20943996,\n",
              "       58.1413039 , 61.49323287, 54.26690199, 52.92065825, 49.40116982,\n",
              "       46.50763901, 47.0180202 , 46.11468884, 50.86706045, 57.19391483,\n",
              "       57.5519884 , 58.57251041, 58.68195044, 58.82287866, 58.6001607 ,\n",
              "       58.10483338, 58.47021074, 57.80182619, 56.94553367, 57.40603779,\n",
              "       58.64577665, 58.22215046, 58.54796482])"
            ]
          },
          "execution_count": 19,
          "metadata": {},
          "output_type": "execute_result"
        }
      ],
      "source": [
        "prediction_app"
      ]
    },
    {
      "attachments": {},
      "cell_type": "markdown",
      "metadata": {},
      "source": [
        "# Saving pre trained model"
      ]
    },
    {
      "cell_type": "code",
      "execution_count": 20,
      "metadata": {},
      "outputs": [],
      "source": [
        "import pickle"
      ]
    },
    {
      "cell_type": "code",
      "execution_count": null,
      "metadata": {},
      "outputs": [],
      "source": [
        "with open('Regressor_trained_model.pkl', 'wb') as f:\n",
        "    pickle.dump(hgr, f)"
      ]
    }
  ],
  "metadata": {
    "colab": {
      "authorship_tag": "ABX9TyOqppCnMHJth/IqW6T5U4V+",
      "include_colab_link": true,
      "provenance": [],
      "toc_visible": true
    },
    "kernelspec": {
      "display_name": "Python 3",
      "name": "python3"
    },
    "language_info": {
      "codemirror_mode": {
        "name": "ipython",
        "version": 3
      },
      "file_extension": ".py",
      "mimetype": "text/x-python",
      "name": "python",
      "nbconvert_exporter": "python",
      "pygments_lexer": "ipython3",
      "version": "3.9.5"
    }
  },
  "nbformat": 4,
  "nbformat_minor": 0
}
