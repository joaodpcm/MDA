{
 "cells": [
  {
   "cell_type": "code",
   "execution_count": 1,
   "metadata": {},
   "outputs": [],
   "source": [
    "import pandas as pd"
   ]
  },
  {
   "cell_type": "code",
   "execution_count": 4,
   "metadata": {},
   "outputs": [],
   "source": [
    "#getting hourly avarage for noise\n",
    "\n",
    "noise= pd.read_csv('noise_data/noise_data_complete.csv')\n"
   ]
  },
  {
   "cell_type": "code",
   "execution_count": 6,
   "metadata": {},
   "outputs": [
    {
     "name": "stdout",
     "output_type": "stream",
     "text": [
      "<class 'pandas.core.frame.DataFrame'>\n",
      "RangeIndex: 8593 entries, 0 to 8592\n",
      "Data columns (total 3 columns):\n",
      " #   Column            Non-Null Count  Dtype  \n",
      "---  ------            --------------  -----  \n",
      " 0   result_timestamp  8593 non-null   object \n",
      " 1   noise_level       8593 non-null   float64\n",
      " 2   comp              8593 non-null   object \n",
      "dtypes: float64(1), object(2)\n",
      "memory usage: 201.5+ KB\n"
     ]
    },
    {
     "data": {
      "text/html": [
       "<div>\n",
       "<style scoped>\n",
       "    .dataframe tbody tr th:only-of-type {\n",
       "        vertical-align: middle;\n",
       "    }\n",
       "\n",
       "    .dataframe tbody tr th {\n",
       "        vertical-align: top;\n",
       "    }\n",
       "\n",
       "    .dataframe thead th {\n",
       "        text-align: right;\n",
       "    }\n",
       "</style>\n",
       "<table border=\"1\" class=\"dataframe\">\n",
       "  <thead>\n",
       "    <tr style=\"text-align: right;\">\n",
       "      <th></th>\n",
       "      <th>result_timestamp</th>\n",
       "      <th>noise_level</th>\n",
       "      <th>comp</th>\n",
       "    </tr>\n",
       "  </thead>\n",
       "  <tbody>\n",
       "    <tr>\n",
       "      <th>0</th>\n",
       "      <td>2022-01-01 00:00:00</td>\n",
       "      <td>55.88125</td>\n",
       "      <td>Intermediate</td>\n",
       "    </tr>\n",
       "    <tr>\n",
       "      <th>1</th>\n",
       "      <td>2022-01-01 01:00:00</td>\n",
       "      <td>58.05625</td>\n",
       "      <td>High</td>\n",
       "    </tr>\n",
       "    <tr>\n",
       "      <th>2</th>\n",
       "      <td>2022-01-01 02:00:00</td>\n",
       "      <td>51.57500</td>\n",
       "      <td>Intermediate</td>\n",
       "    </tr>\n",
       "    <tr>\n",
       "      <th>3</th>\n",
       "      <td>2022-01-01 03:00:00</td>\n",
       "      <td>48.67500</td>\n",
       "      <td>Intermediate</td>\n",
       "    </tr>\n",
       "    <tr>\n",
       "      <th>4</th>\n",
       "      <td>2022-01-01 04:00:00</td>\n",
       "      <td>46.12500</td>\n",
       "      <td>Intermediate</td>\n",
       "    </tr>\n",
       "  </tbody>\n",
       "</table>\n",
       "</div>"
      ],
      "text/plain": [
       "      result_timestamp  noise_level          comp\n",
       "0  2022-01-01 00:00:00     55.88125  Intermediate\n",
       "1  2022-01-01 01:00:00     58.05625          High\n",
       "2  2022-01-01 02:00:00     51.57500  Intermediate\n",
       "3  2022-01-01 03:00:00     48.67500  Intermediate\n",
       "4  2022-01-01 04:00:00     46.12500  Intermediate"
      ]
     },
     "execution_count": 6,
     "metadata": {},
     "output_type": "execute_result"
    }
   ],
   "source": [
    "noise.info()\n",
    "noise.head()"
   ]
  },
  {
   "cell_type": "code",
   "execution_count": 9,
   "metadata": {},
   "outputs": [],
   "source": [
    "noise['result_timestamp'] = pd.to_datetime(noise['result_timestamp'])\n",
    "\n",
    "# Extract the day of the week (0 = Monday, 6 = Sunday)\n",
    "noise['DayOfWeek'] = noise['result_timestamp'].dt.dayofweek"
   ]
  },
  {
   "cell_type": "code",
   "execution_count": 10,
   "metadata": {},
   "outputs": [
    {
     "data": {
      "text/html": [
       "<div>\n",
       "<style scoped>\n",
       "    .dataframe tbody tr th:only-of-type {\n",
       "        vertical-align: middle;\n",
       "    }\n",
       "\n",
       "    .dataframe tbody tr th {\n",
       "        vertical-align: top;\n",
       "    }\n",
       "\n",
       "    .dataframe thead th {\n",
       "        text-align: right;\n",
       "    }\n",
       "</style>\n",
       "<table border=\"1\" class=\"dataframe\">\n",
       "  <thead>\n",
       "    <tr style=\"text-align: right;\">\n",
       "      <th></th>\n",
       "      <th>result_timestamp</th>\n",
       "      <th>noise_level</th>\n",
       "      <th>comp</th>\n",
       "      <th>DayOfWeek</th>\n",
       "    </tr>\n",
       "  </thead>\n",
       "  <tbody>\n",
       "    <tr>\n",
       "      <th>0</th>\n",
       "      <td>2022-01-01 00:00:00</td>\n",
       "      <td>55.88125</td>\n",
       "      <td>Intermediate</td>\n",
       "      <td>5</td>\n",
       "    </tr>\n",
       "    <tr>\n",
       "      <th>1</th>\n",
       "      <td>2022-01-01 01:00:00</td>\n",
       "      <td>58.05625</td>\n",
       "      <td>High</td>\n",
       "      <td>5</td>\n",
       "    </tr>\n",
       "    <tr>\n",
       "      <th>2</th>\n",
       "      <td>2022-01-01 02:00:00</td>\n",
       "      <td>51.57500</td>\n",
       "      <td>Intermediate</td>\n",
       "      <td>5</td>\n",
       "    </tr>\n",
       "    <tr>\n",
       "      <th>3</th>\n",
       "      <td>2022-01-01 03:00:00</td>\n",
       "      <td>48.67500</td>\n",
       "      <td>Intermediate</td>\n",
       "      <td>5</td>\n",
       "    </tr>\n",
       "    <tr>\n",
       "      <th>4</th>\n",
       "      <td>2022-01-01 04:00:00</td>\n",
       "      <td>46.12500</td>\n",
       "      <td>Intermediate</td>\n",
       "      <td>5</td>\n",
       "    </tr>\n",
       "  </tbody>\n",
       "</table>\n",
       "</div>"
      ],
      "text/plain": [
       "     result_timestamp  noise_level          comp  DayOfWeek\n",
       "0 2022-01-01 00:00:00     55.88125  Intermediate          5\n",
       "1 2022-01-01 01:00:00     58.05625          High          5\n",
       "2 2022-01-01 02:00:00     51.57500  Intermediate          5\n",
       "3 2022-01-01 03:00:00     48.67500  Intermediate          5\n",
       "4 2022-01-01 04:00:00     46.12500  Intermediate          5"
      ]
     },
     "execution_count": 10,
     "metadata": {},
     "output_type": "execute_result"
    }
   ],
   "source": [
    "noise.head()"
   ]
  },
  {
   "cell_type": "code",
   "execution_count": 14,
   "metadata": {},
   "outputs": [
    {
     "name": "stdout",
     "output_type": "stream",
     "text": [
      "     DayOfWeek  HourOfDay  AverageNoise\n",
      "0            0          0     48.654779\n",
      "1            0          1     45.111201\n",
      "2            0          2     42.809967\n",
      "3            0          3     41.655523\n",
      "4            0          4     41.753627\n",
      "..         ...        ...           ...\n",
      "163          6         19     58.750359\n",
      "164          6         20     58.612157\n",
      "165          6         21     57.614714\n",
      "166          6         22     55.675384\n",
      "167          6         23     52.711250\n",
      "\n",
      "[168 rows x 3 columns]\n"
     ]
    }
   ],
   "source": [
    "# Group by the hour of the week (day of the week and hour of the day)\n",
    "df_hourly_avg = noise.groupby(['DayOfWeek', noise['result_timestamp'].dt.hour])['noise_level'].mean().reset_index()\n",
    "# Rename the columns for clarity\n",
    "df_hourly_avg.columns = ['DayOfWeek', 'HourOfDay', 'AverageNoise']\n",
    "\n",
    "# Preview the resulting dataset\n",
    "print(df_hourly_avg)"
   ]
  },
  {
   "cell_type": "code",
   "execution_count": 15,
   "metadata": {},
   "outputs": [],
   "source": [
    "df_hourly_avg.to_csv('hourly_acg_noise.csv')"
   ]
  },
  {
   "cell_type": "code",
   "execution_count": 16,
   "metadata": {},
   "outputs": [
    {
     "name": "stdout",
     "output_type": "stream",
     "text": [
      "Collecting seleniumNote: you may need to restart the kernel to use updated packages.\n",
      "\n",
      "  Using cached selenium-4.9.1-py3-none-any.whl (6.6 MB)\n",
      "Collecting trio-websocket~=0.9\n",
      "  Using cached trio_websocket-0.10.2-py3-none-any.whl (17 kB)\n",
      "Requirement already satisfied: certifi>=2021.10.8 in c:\\users\\joaod\\anaconda3\\envs\\mda\\lib\\site-packages (from selenium) (2022.12.7)\n",
      "Requirement already satisfied: urllib3[socks]<3,>=1.26 in c:\\users\\joaod\\anaconda3\\envs\\mda\\lib\\site-packages (from selenium) (2.0.2)\n",
      "Collecting trio~=0.17\n",
      "  Using cached trio-0.22.0-py3-none-any.whl (384 kB)\n",
      "Collecting sortedcontainers\n",
      "  Using cached sortedcontainers-2.4.0-py2.py3-none-any.whl (29 kB)\n",
      "Requirement already satisfied: attrs>=19.2.0 in c:\\users\\joaod\\anaconda3\\envs\\mda\\lib\\site-packages (from trio~=0.17->selenium) (23.1.0)\n",
      "Collecting sniffio\n",
      "  Using cached sniffio-1.3.0-py3-none-any.whl (10 kB)\n",
      "Collecting exceptiongroup>=1.0.0rc9\n",
      "  Using cached exceptiongroup-1.1.1-py3-none-any.whl (14 kB)\n",
      "Collecting async-generator>=1.9\n",
      "  Using cached async_generator-1.10-py3-none-any.whl (18 kB)\n",
      "Collecting cffi>=1.14\n",
      "  Downloading cffi-1.15.1-cp39-cp39-win_amd64.whl (179 kB)\n",
      "     -------------------------------------- 179.1/179.1 kB 1.1 MB/s eta 0:00:00\n",
      "Requirement already satisfied: idna in c:\\users\\joaod\\anaconda3\\envs\\mda\\lib\\site-packages (from trio~=0.17->selenium) (3.4)\n",
      "Collecting outcome\n",
      "  Using cached outcome-1.2.0-py2.py3-none-any.whl (9.7 kB)\n",
      "Collecting wsproto>=0.14\n",
      "  Using cached wsproto-1.2.0-py3-none-any.whl (24 kB)\n",
      "Collecting pysocks!=1.5.7,<2.0,>=1.5.6\n",
      "  Using cached PySocks-1.7.1-py3-none-any.whl (16 kB)\n",
      "Collecting pycparser\n",
      "  Downloading pycparser-2.21-py2.py3-none-any.whl (118 kB)\n",
      "     ------------------------------------ 118.7/118.7 kB 695.2 kB/s eta 0:00:00\n",
      "Collecting h11<1,>=0.9.0\n",
      "  Using cached h11-0.14.0-py3-none-any.whl (58 kB)\n",
      "Installing collected packages: sortedcontainers, sniffio, pysocks, pycparser, outcome, h11, exceptiongroup, async-generator, wsproto, cffi, trio, trio-websocket, selenium\n",
      "Successfully installed async-generator-1.10 cffi-1.15.1 exceptiongroup-1.1.1 h11-0.14.0 outcome-1.2.0 pycparser-2.21 pysocks-1.7.1 selenium-4.9.1 sniffio-1.3.0 sortedcontainers-2.4.0 trio-0.22.0 trio-websocket-0.10.2 wsproto-1.2.0\n"
     ]
    }
   ],
   "source": [
    "#importing packages\n",
    "import streamlit as st\n",
    "import pandas as pd\n",
    "import datetime\n",
    "from selenium import webdriver\n",
    "from bs4 import BeautifulSoup\n",
    "import plotly.graph_objects as go\n",
    "import matplotlib.pyplot as plt\n",
    "import pickle\n",
    "from datetime import datetime\n",
    "from datetime import timedelta\n",
    "import requests\n",
    "import numpy as np"
   ]
  },
  {
   "cell_type": "code",
   "execution_count": 18,
   "metadata": {},
   "outputs": [
    {
     "ename": "UnpicklingError",
     "evalue": "invalid load key, '4'.",
     "output_type": "error",
     "traceback": [
      "\u001b[1;31m---------------------------------------------------------------------------\u001b[0m",
      "\u001b[1;31mUnpicklingError\u001b[0m                           Traceback (most recent call last)",
      "Cell \u001b[1;32mIn[18], line 13\u001b[0m\n\u001b[0;32m     10\u001b[0m     f\u001b[39m.\u001b[39mwrite(response_class\u001b[39m.\u001b[39mcontent)\n\u001b[0;32m     12\u001b[0m \u001b[39mwith\u001b[39;00m \u001b[39mopen\u001b[39m(\u001b[39m'\u001b[39m\u001b[39mclassifier_trained_model.pkl\u001b[39m\u001b[39m'\u001b[39m, \u001b[39m'\u001b[39m\u001b[39mrb\u001b[39m\u001b[39m'\u001b[39m) \u001b[39mas\u001b[39;00m f:\n\u001b[1;32m---> 13\u001b[0m     rfc \u001b[39m=\u001b[39m pickle\u001b[39m.\u001b[39;49mload(f)\n\u001b[0;32m     15\u001b[0m \u001b[39mwith\u001b[39;00m \u001b[39mopen\u001b[39m(\u001b[39m'\u001b[39m\u001b[39mRegressor_trained_model.pkl\u001b[39m\u001b[39m'\u001b[39m,\u001b[39m'\u001b[39m\u001b[39mwb\u001b[39m\u001b[39m'\u001b[39m) \u001b[39mas\u001b[39;00m f:\n\u001b[0;32m     16\u001b[0m     f\u001b[39m.\u001b[39mwrite(response_reg\u001b[39m.\u001b[39mcontent)\n",
      "\u001b[1;31mUnpicklingError\u001b[0m: invalid load key, '4'."
     ]
    }
   ],
   "source": [
    "#importing models\n",
    "\n",
    "url_class = 'https://raw.githubusercontent.com/joaodpcm/MDA/main/classifier_trained_model.pkl'\n",
    "response_class = requests.get(url_class)\n",
    "\n",
    "url_reg= 'https://raw.githubusercontent.com/joaodpcm/MDA/main/Regressor_trained_model.pkl'\n",
    "response_reg= requests.get(url_reg)\n",
    "\n",
    "with open('classifier_trained_model.pkl', 'wb') as f:\n",
    "    f.write(response_class.content)\n",
    "\n",
    "with open('classifier_trained_model.pkl', 'rb') as f:\n",
    "    rfc = pickle.load(f)\n",
    "\n",
    "with open('Regressor_trained_model.pkl','wb') as f:\n",
    "    f.write(response_reg.content)\n",
    "\n",
    "with open('Regressor_trained_model.pkl', 'rb') as f:\n",
    "    hgr = pickle.load(f)"
   ]
  },
  {
   "cell_type": "code",
   "execution_count": 31,
   "metadata": {},
   "outputs": [
    {
     "ename": "AttributeError",
     "evalue": "module 'datetime' has no attribute 'version'",
     "output_type": "error",
     "traceback": [
      "\u001b[1;31m---------------------------------------------------------------------------\u001b[0m",
      "\u001b[1;31mAttributeError\u001b[0m                            Traceback (most recent call last)",
      "Cell \u001b[1;32mIn[31], line 2\u001b[0m\n\u001b[0;32m      1\u001b[0m \u001b[39mimport\u001b[39;00m \u001b[39mdatetime\u001b[39;00m\n\u001b[1;32m----> 2\u001b[0m \u001b[39mprint\u001b[39m(datetime\u001b[39m.\u001b[39;49mversion)\n",
      "\u001b[1;31mAttributeError\u001b[0m: module 'datetime' has no attribute 'version'"
     ]
    }
   ],
   "source": [
    "import datetime\n",
    "print(datetime.version)"
   ]
  },
  {
   "cell_type": "code",
   "execution_count": 22,
   "metadata": {},
   "outputs": [
    {
     "ename": "UnpicklingError",
     "evalue": "invalid load key, '4'.",
     "output_type": "error",
     "traceback": [
      "\u001b[1;31m---------------------------------------------------------------------------\u001b[0m",
      "\u001b[1;31mUnpicklingError\u001b[0m                           Traceback (most recent call last)",
      "Cell \u001b[1;32mIn[22], line 2\u001b[0m\n\u001b[0;32m      1\u001b[0m \u001b[39mwith\u001b[39;00m \u001b[39mopen\u001b[39m(\u001b[39m'\u001b[39m\u001b[39mclassifier_trained_model.pkl\u001b[39m\u001b[39m'\u001b[39m, \u001b[39m'\u001b[39m\u001b[39mrb\u001b[39m\u001b[39m'\u001b[39m) \u001b[39mas\u001b[39;00m f:\n\u001b[1;32m----> 2\u001b[0m     rfc \u001b[39m=\u001b[39m pickle\u001b[39m.\u001b[39;49mload(f)\n\u001b[0;32m      4\u001b[0m \u001b[39mwith\u001b[39;00m \u001b[39mopen\u001b[39m(\u001b[39m'\u001b[39m\u001b[39mRegressor_trained_model.pkl\u001b[39m\u001b[39m'\u001b[39m, \u001b[39m'\u001b[39m\u001b[39mrb\u001b[39m\u001b[39m'\u001b[39m) \u001b[39mas\u001b[39;00m f:\n\u001b[0;32m      5\u001b[0m     hgr \u001b[39m=\u001b[39m pickle\u001b[39m.\u001b[39mload(f)\n",
      "\u001b[1;31mUnpicklingError\u001b[0m: invalid load key, '4'."
     ]
    }
   ],
   "source": [
    "with open('classifier_trained_model.pkl', 'rb') as f:\n",
    "    rfc = pickle.load(f)\n",
    "\n",
    "with open('Regressor_trained_model.pkl', 'rb') as f:\n",
    "    hgr = pickle.load(f)"
   ]
  },
  {
   "cell_type": "code",
   "execution_count": null,
   "metadata": {},
   "outputs": [],
   "source": [
    "#importing avarage of the noise\n",
    "df_hourly_avg=pd.read_csv('noise_data/hourly_acg_noise.csv')\n",
    "\n",
    "# Retrieve the current date and time\n",
    "current_time = datetime.now()\n",
    "\n",
    "# Create a range of dates and times for the next 48 hours\n",
    "time_range = pd.date_range(start=current_time, periods=48, freq='H')\n",
    "# Filter the dataset for the next 48 hours\n",
    "filtered_data = df_hourly_avg[\n",
    "    (df_hourly_avg['DayOfWeek'] == current_time.weekday()) &\n",
    "    (df_hourly_avg['HourOfDay'].isin(time_range.hour))\n",
    "]\n",
    "\n",
    "events=pd.read_csv('shaped_filter_tags_city2_EXAM.csv')\n",
    "events['Time'] = pd.to_datetime(events['Time'])\n",
    "events_48 = events[events['Time'].isin(time_range)]\n",
    "\n",
    "\n"
   ]
  },
  {
   "cell_type": "code",
   "execution_count": null,
   "metadata": {},
   "outputs": [],
   "source": [
    "#loading unseen data\n",
    "content = \"https://weather.com/weather/hourbyhour/l/c097b546627cdff2da1e276cb9b2731055718a5e7270d777a92857a9701c7870\"\n",
    "response = requests.get(content)\n",
    "soup = BeautifulSoup(response.content, 'html.parser')\n",
    "\n",
    "temp_val = soup.findAll('div', attrs={'class':'DetailsTable--field--CPpc_'})\n",
    "\n",
    "\n",
    "forecast = pd.DataFrame()\n",
    "forecast['temp'] = [round((int(temp_val[i].text[-3:-1])-32 ) *5/9, 1) for i in list(np.array(range(288))) if i%6 == 0]\n",
    "forecast['wind'] = [float(temp_val[i].text.split(' ')[1]) for i in list(np.array(range(288))) if i%6 == 1]\n",
    "forecast['wind_direction'] = [temp_val[i].text.split(' ')[0] for i in list(np.array(range(288))) if i%6 == 1]\n",
    "forecast['humidity'] = [int(temp_val[i].text[-3:-1]) for i in list(np.array(range(288))) if i%6 == 2]\n",
    "forecast['cloud_cover'] = [int(temp_val[i].text.replace('Cloud Cover', '')[:-1]) for i in list(np.array(range(288))) if i%6 == 4]\n",
    "forecast['rain'] = [int(temp_val[i].text.replace('Rain Amount', '').replace(' in', '')) for i in list(np.array(range(288))) if i%6 == 5]\n",
    "weekday = [(datetime.now()+timedelta(hours=i)).weekday() for i in range(48)]\n",
    "hour_of_day = [(datetime.now()+timedelta(hours=i)).hour for i in range(48)]\n",
    "forecast['nameday'] = weekday\n",
    "forecast['hour'] = hour_of_day\n",
    "forecast['event_yes'] = False # This value has to be included by the user. So edit this. The value now is missing, but the model running, so even if nothing is provided, it will run\n",
    "forecast['tag_category'] = 'No event' # This value has to be included by the user. So edit this\n",
    "forecast['# of events'] = events_48['Events']\n",
    "\n"
   ]
  },
  {
   "cell_type": "code",
   "execution_count": null,
   "metadata": {},
   "outputs": [],
   "source": [
    "#making prediction on unseen data\n",
    "prediction_reg = hgr.predict(forecast)\n",
    "\n",
    "prediction_class = rfc.predict(forecast)\n"
   ]
  },
  {
   "cell_type": "code",
   "execution_count": null,
   "metadata": {},
   "outputs": [],
   "source": [
    "\n",
    "#making a graph for the classifier\n",
    "colors = {\"Low\": \"green\", \"Intermediate\": \"yellow\", \"High\": \"red\"}\n",
    "category_order = [\"Low\", \"Intermediate\", \"High\"]\n",
    "fig_class = go.Figure(data=[go.Bar(x=forecast['hour'],\n",
    "                            y=prediction_class,\n",
    "                            marker=dict(color=[colors[level] for level in prediction_class]),\n",
    "                            customdata=prediction_class,\n",
    "                            hovertemplate=\"Hour: %{x}<br>Noise Level: %{customdata}<extra></extra>\")])\n",
    "fig_class.update_xaxes(title_text=\"Hours\")\n",
    "fig_class.update_yaxes(title_text=\"Noise Level\", categoryorder=\"array\", categoryarray=category_order)\n",
    "fig_class.update_layout(title_text=\"Relative Noise Levels in the Next 48 Hours\")\n"
   ]
  },
  {
   "cell_type": "code",
   "execution_count": null,
   "metadata": {},
   "outputs": [],
   "source": [
    "\n",
    "#making a graph for the regressor\n",
    "fig_reg = go.Figure()\n",
    "fig_reg.add_trace(data=go.Scatter(x=forecast['hour'], y=prediction_reg, name='Noise Forecast'))\n",
    "fig_reg.add_trace(go.Scatter(x=time_range, y=filtered_data['AverageNoise'], mode='lines', name='Average Noise',line=dict(dash='dash')))\n",
    "\n",
    "fig_reg.update_xaxes(title_text=\"Hours\")\n",
    "fig_reg.update_yaxes(title_text=\"dB\")\n",
    "fig_reg.update_layout(title_text=\"Noise Forecast vs Avarage for the next 48 hours\")\n"
   ]
  },
  {
   "cell_type": "code",
   "execution_count": null,
   "metadata": {},
   "outputs": [],
   "source": [
    "\n",
    "#App\n",
    "st.title(\"Noise forecast\")\n",
    "\n",
    "# Create a table with checkboxes for each hour\n",
    "st.header(\"Are there any events on the next two days?\")\n",
    "selected_hours = st.multiselect('Select hours for the event', forecast['hour'], default=[])\n",
    "# Update the 'Event' column based on the selected hours\n",
    "forecast.loc[forecast['hour'].isin(selected_hours), 'Event'] = True\n",
    "#Update tag\n",
    "for hour in selected_hours:\n",
    "    event_type = st.selectbox(f'Select event type for {hour}',['Party', 'Sports', 'Cultural', 'Pub Crawl'])\n",
    "    forecast.loc[forecast['hour']==hour, 'tag_category']=event_type\n",
    "\n",
    "st.header(\"Noise levels for the next 2 days\")\n",
    "st.plotly_chart(fig_class)\n",
    "st.markdown(\"This graph shows a categorical prediction for the noise level for the next 48 hours relative to the usual noise levels on these hours. \"\n",
    "            '<span style=\"color:red\">The red bars indicate hours that will be louder than usual.</span>'  \n",
    "            '<span style=\"color:yellow\">The yellow bars indicate hours that will be like the usual.</span>'\n",
    "             '<span style=\"color:green\">The green bars indicate hours that will be calmer than usual.</span>',unsafe_allow_html=True)\n",
    "st.plotly_chart(fig_reg)\n",
    "st.markdown('This graph shows the absolute levels of noise expected for the next 48 hours in the continuous line, and the avarage of these hours in the dotted line')"
   ]
  },
  {
   "cell_type": "code",
   "execution_count": 1,
   "metadata": {},
   "outputs": [
    {
     "name": "stdout",
     "output_type": "stream",
     "text": [
      "Requirement already satisfied: scikit-learn==1.0.2 in c:\\users\\joaod\\anaconda3\\envs\\mda\\lib\\site-packages (1.0.2)\n",
      "Requirement already satisfied: joblib>=0.11 in c:\\users\\joaod\\anaconda3\\envs\\mda\\lib\\site-packages (from scikit-learn==1.0.2) (1.2.0)\n",
      "Requirement already satisfied: scipy>=1.1.0 in c:\\users\\joaod\\anaconda3\\envs\\mda\\lib\\site-packages (from scikit-learn==1.0.2) (1.10.1)\n",
      "Requirement already satisfied: threadpoolctl>=2.0.0 in c:\\users\\joaod\\anaconda3\\envs\\mda\\lib\\site-packages (from scikit-learn==1.0.2) (3.1.0)\n",
      "Requirement already satisfied: numpy>=1.14.6 in c:\\users\\joaod\\anaconda3\\envs\\mda\\lib\\site-packages (from scikit-learn==1.0.2) (1.24.3)\n",
      "Note: you may need to restart the kernel to use updated packages.\n",
      "1.0.2\n"
     ]
    },
    {
     "name": "stderr",
     "output_type": "stream",
     "text": [
      "c:\\Users\\joaod\\anaconda3\\envs\\MDA\\lib\\site-packages\\sklearn\\experimental\\enable_hist_gradient_boosting.py:16: UserWarning: Since version 1.0, it is not needed to import enable_hist_gradient_boosting anymore. HistGradientBoostingClassifier and HistGradientBoostingRegressor are now stable and can be normally imported from sklearn.ensemble.\n",
      "  warnings.warn(\n"
     ]
    }
   ],
   "source": [
    "%pip install scikit-learn==1.0.2\n",
    "import streamlit as st\n",
    "import pandas as pd\n",
    "import datetime\n",
    "from selenium import webdriver\n",
    "from bs4 import BeautifulSoup\n",
    "import plotly.graph_objects as go\n",
    "import matplotlib.pyplot as plt\n",
    "import pickle\n",
    "from datetime import datetime\n",
    "from datetime import timedelta\n",
    "import sklearn\n",
    "from sklearn.compose import ColumnTransformer\n",
    "from sklearn.preprocessing import OneHotEncoder\n",
    "from sklearn.preprocessing import StandardScaler\n",
    "from sklearn.pipeline import Pipeline\n",
    "from sklearn.ensemble import RandomForestClassifier\n",
    "from sklearn.metrics import accuracy_score\n",
    "from sklearn.exceptions import NotFittedError\n",
    "from sklearn.inspection import permutation_importance\n",
    "import requests\n",
    "import numpy as np\n",
    "import itertools as it\n",
    "from plotly.subplots import make_subplots\n",
    "import base64\n",
    "from sklearn.compose import ColumnTransformer\n",
    "from sklearn.pipeline import Pipeline\n",
    "from sklearn.preprocessing import StandardScaler, OneHotEncoder\n",
    "from sklearn.ensemble import HistGradientBoostingRegressor\n",
    "from sklearn.model_selection import LeaveOneGroupOut\n",
    "from sklearn.model_selection import train_test_split\n",
    "from sklearn.compose import ColumnTransformer\n",
    "from sklearn.pipeline import Pipeline\n",
    "from sklearn.preprocessing import StandardScaler, OneHotEncoder\n",
    "from sklearn.metrics import accuracy_score\n",
    "from sklearn.exceptions import NotFittedError\n",
    "from sklearn.inspection import permutation_importance\n",
    "from xgboost import XGBClassifier\n",
    "from sklearn.metrics import classification_report\n",
    "from sklearn.model_selection import cross_val_score, KFold\n",
    "from sklearn.model_selection import GridSearchCV\n",
    "from sklearn.inspection import permutation_importance\n",
    "from sklearn.compose import ColumnTransformer\n",
    "from sklearn.pipeline import Pipeline\n",
    "from sklearn.preprocessing import StandardScaler, OneHotEncoder\n",
    "from sklearn.ensemble import HistGradientBoostingRegressor\n",
    "from sklearn.model_selection import LeaveOneGroupOut\n",
    "from sklearn.exceptions import NotFittedError\n",
    "from sklearn.metrics import mean_squared_error, mean_absolute_error, r2_score\n",
    "from sklearn.model_selection import GridSearchCV\n",
    "from sklearn.experimental import enable_hist_gradient_boosting\n",
    "\n",
    "\n",
    "print(sklearn.__version__)"
   ]
  },
  {
   "cell_type": "code",
   "execution_count": 2,
   "metadata": {},
   "outputs": [],
   "source": [
    "\n",
    "#importing models\n",
    "url_class = 'https://api.github.com/repos/joaodpcm/MDA/contents/classifier.pkl'\n",
    "response_class = requests.get(url_class)\n",
    "data_class = response_class.json()\n",
    "content_class = data_class['content']\n",
    "decoded_content_class = base64.b64decode(content_class)\n",
    "\n",
    "rfc = pickle.loads(decoded_content_class)\n",
    "\n",
    "url_reg = 'https://api.github.com/repos/joaodpcm/MDA/contents/regressor.pkl'\n",
    "response_reg = requests.get(url_reg)\n",
    "data_reg = response_reg.json()\n",
    "content_reg = data_reg['content']\n",
    "decoded_content_reg = base64.b64decode(content_reg)\n",
    "\n",
    "hgr = pickle.loads(decoded_content_reg)\n",
    "\n"
   ]
  },
  {
   "cell_type": "code",
   "execution_count": 3,
   "metadata": {},
   "outputs": [],
   "source": [
    "#importing avarage of the noise\n",
    "\n",
    "url_hourly_avg = 'https://raw.githubusercontent.com/joaodpcm/MDA/master/hourly_acg_noise.csv'\n",
    "\n",
    "df_hourly_avg=pd.read_csv(url_hourly_avg)\n",
    "\n",
    "# Retrieve the current date and time\n",
    "current_time = datetime.now()\n",
    "\n",
    "# # Create a range of dates and times for the next 48 hours\n",
    "# time_range = pd.date_range(start=current_time, periods=48, freq='H')\n",
    "# # Filter the dataset for the next 48 hours\n",
    "# filtered_data = df_hourly_avg[\n",
    "#     (df_hourly_avg['DayOfWeek'] == current_time.weekday()) &\n",
    "#     (df_hourly_avg['HourOfDay'].isin(time_range.hour))\n",
    "# ]\n",
    "\n",
    "\n",
    "# Create a range of dates and times for the next 48 hours\n",
    "time_range = [current_time + timedelta(hours=x) for x in range(48)]\n",
    "time_range_df = pd.DataFrame()\n",
    "time_range_df['time'] = time_range\n",
    "time_range_df['avg'] = np.zeros(48)\n",
    "for i in range(len(time_range)):\n",
    "    time_range_df.loc[i, 'avg'] = df_hourly_avg[\n",
    "    (df_hourly_avg['DayOfWeek'] == time_range_df.loc[i, 'time'].dayofweek) &\n",
    "    (df_hourly_avg['HourOfDay'] == time_range_df.loc[i, 'time'].hour)\n",
    "].AverageNoise.values[0]"
   ]
  },
  {
   "cell_type": "code",
   "execution_count": 4,
   "metadata": {},
   "outputs": [
    {
     "data": {
      "text/html": [
       "<div>\n",
       "<style scoped>\n",
       "    .dataframe tbody tr th:only-of-type {\n",
       "        vertical-align: middle;\n",
       "    }\n",
       "\n",
       "    .dataframe tbody tr th {\n",
       "        vertical-align: top;\n",
       "    }\n",
       "\n",
       "    .dataframe thead th {\n",
       "        text-align: right;\n",
       "    }\n",
       "</style>\n",
       "<table border=\"1\" class=\"dataframe\">\n",
       "  <thead>\n",
       "    <tr style=\"text-align: right;\">\n",
       "      <th></th>\n",
       "      <th>Unnamed: 0</th>\n",
       "      <th>DayOfWeek</th>\n",
       "      <th>HourOfDay</th>\n",
       "      <th>AverageNoise</th>\n",
       "    </tr>\n",
       "  </thead>\n",
       "  <tbody>\n",
       "    <tr>\n",
       "      <th>0</th>\n",
       "      <td>0</td>\n",
       "      <td>0</td>\n",
       "      <td>0</td>\n",
       "      <td>48.654779</td>\n",
       "    </tr>\n",
       "    <tr>\n",
       "      <th>1</th>\n",
       "      <td>1</td>\n",
       "      <td>0</td>\n",
       "      <td>1</td>\n",
       "      <td>45.111201</td>\n",
       "    </tr>\n",
       "    <tr>\n",
       "      <th>2</th>\n",
       "      <td>2</td>\n",
       "      <td>0</td>\n",
       "      <td>2</td>\n",
       "      <td>42.809967</td>\n",
       "    </tr>\n",
       "    <tr>\n",
       "      <th>3</th>\n",
       "      <td>3</td>\n",
       "      <td>0</td>\n",
       "      <td>3</td>\n",
       "      <td>41.655523</td>\n",
       "    </tr>\n",
       "    <tr>\n",
       "      <th>4</th>\n",
       "      <td>4</td>\n",
       "      <td>0</td>\n",
       "      <td>4</td>\n",
       "      <td>41.753627</td>\n",
       "    </tr>\n",
       "  </tbody>\n",
       "</table>\n",
       "</div>"
      ],
      "text/plain": [
       "   Unnamed: 0  DayOfWeek  HourOfDay  AverageNoise\n",
       "0           0          0          0     48.654779\n",
       "1           1          0          1     45.111201\n",
       "2           2          0          2     42.809967\n",
       "3           3          0          3     41.655523\n",
       "4           4          0          4     41.753627"
      ]
     },
     "execution_count": 4,
     "metadata": {},
     "output_type": "execute_result"
    }
   ],
   "source": [
    "df_hourly_avg.head()"
   ]
  },
  {
   "cell_type": "code",
   "execution_count": 5,
   "metadata": {},
   "outputs": [
    {
     "data": {
      "text/html": [
       "<div>\n",
       "<style scoped>\n",
       "    .dataframe tbody tr th:only-of-type {\n",
       "        vertical-align: middle;\n",
       "    }\n",
       "\n",
       "    .dataframe tbody tr th {\n",
       "        vertical-align: top;\n",
       "    }\n",
       "\n",
       "    .dataframe thead th {\n",
       "        text-align: right;\n",
       "    }\n",
       "</style>\n",
       "<table border=\"1\" class=\"dataframe\">\n",
       "  <thead>\n",
       "    <tr style=\"text-align: right;\">\n",
       "      <th></th>\n",
       "      <th>Time</th>\n",
       "      <th>Events</th>\n",
       "    </tr>\n",
       "  </thead>\n",
       "  <tbody>\n",
       "    <tr>\n",
       "      <th>0</th>\n",
       "      <td>2023-01-01 00:00:00</td>\n",
       "      <td>0</td>\n",
       "    </tr>\n",
       "    <tr>\n",
       "      <th>1</th>\n",
       "      <td>2023-01-01 01:00:00</td>\n",
       "      <td>0</td>\n",
       "    </tr>\n",
       "    <tr>\n",
       "      <th>2</th>\n",
       "      <td>2023-01-01 02:00:00</td>\n",
       "      <td>0</td>\n",
       "    </tr>\n",
       "    <tr>\n",
       "      <th>3</th>\n",
       "      <td>2023-01-01 03:00:00</td>\n",
       "      <td>0</td>\n",
       "    </tr>\n",
       "    <tr>\n",
       "      <th>4</th>\n",
       "      <td>2023-01-01 04:00:00</td>\n",
       "      <td>0</td>\n",
       "    </tr>\n",
       "  </tbody>\n",
       "</table>\n",
       "</div>"
      ],
      "text/plain": [
       "                  Time  Events\n",
       "0  2023-01-01 00:00:00       0\n",
       "1  2023-01-01 01:00:00       0\n",
       "2  2023-01-01 02:00:00       0\n",
       "3  2023-01-01 03:00:00       0\n",
       "4  2023-01-01 04:00:00       0"
      ]
     },
     "execution_count": 5,
     "metadata": {},
     "output_type": "execute_result"
    }
   ],
   "source": [
    "#getting data for amount of events\n",
    "events_url = 'https://raw.githubusercontent.com/joaodpcm/MDA/master/shaped_filter_tags_city2_EXAM.csv'\n",
    "events=pd.read_csv(events_url,sep='\\t')\n",
    "events.head()\n"
   ]
  },
  {
   "cell_type": "code",
   "execution_count": 6,
   "metadata": {},
   "outputs": [],
   "source": [
    "events['Time'] = pd.to_datetime(events['Time'])\n",
    "events_48 = events[events['Time'].isin(time_range)]"
   ]
  },
  {
   "cell_type": "code",
   "execution_count": 11,
   "metadata": {},
   "outputs": [],
   "source": [
    "#loading unseen data\n",
    "content = \"https://weather.com/weather/hourbyhour/l/c097b546627cdff2da1e276cb9b2731055718a5e7270d777a92857a9701c7870\"\n",
    "response = requests.get(content)\n",
    "soup = BeautifulSoup(response.content, 'html.parser')\n",
    "\n",
    "temp_val = soup.findAll('div', attrs={'class':'DetailsTable--field--CPpc_'})\n",
    "\n",
    "\n",
    "forecast = pd.DataFrame()\n",
    "forecast['temp'] = [round((int(temp_val[i].text[-3:-1])-32 ) *5/9, 1) for i in list(np.array(range(288))) if i%6 == 0]\n",
    "forecast['wind'] = [float(temp_val[i].text.split(' ')[1]) for i in list(np.array(range(288))) if i%6 == 1]\n",
    "forecast['wind_direction'] = [temp_val[i].text.split(' ')[0] for i in list(np.array(range(288))) if i%6 == 1]\n",
    "forecast['humidity'] = [int(temp_val[i].text[-3:-1]) for i in list(np.array(range(288))) if i%6 == 2]\n",
    "forecast['cloud_cover'] = [int(temp_val[i].text.replace('Cloud Cover', '')[:-1]) for i in list(np.array(range(288))) if i%6 == 4]\n",
    "forecast['rain'] = [int(temp_val[i].text.replace('Rain Amount', '').replace(' in', '')) for i in list(np.array(range(288))) if i%6 == 5]\n",
    "weekday = [(datetime.now()+timedelta(hours=i)).weekday() for i in range(48)]\n",
    "hour_of_day = [(datetime.now()+timedelta(hours=i)).hour for i in range(48)]\n",
    "forecast['nameday'] = weekday\n",
    "forecast['hour'] = hour_of_day\n",
    "forecast['event_yes'] = False # This value has to be included by the user. So edit this. The value now is missing, but the model running, so even if nothing is provided, it will run\n",
    "forecast['tag_category'] = 'No event' # This value has to be included by the user. So edit this\n",
    "forecast['events_count'] = events_48['Events']\n",
    "\n"
   ]
  },
  {
   "cell_type": "code",
   "execution_count": 9,
   "metadata": {},
   "outputs": [
    {
     "name": "stdout",
     "output_type": "stream",
     "text": [
      "Requirement already satisfied: torch in c:\\users\\joaod\\anaconda3\\envs\\mda\\lib\\site-packages (2.0.1)\n",
      "Requirement already satisfied: jinja2 in c:\\users\\joaod\\anaconda3\\envs\\mda\\lib\\site-packages (from torch) (3.1.2)\n",
      "Requirement already satisfied: typing-extensions in c:\\users\\joaod\\anaconda3\\envs\\mda\\lib\\site-packages (from torch) (4.5.0)\n",
      "Requirement already satisfied: networkx in c:\\users\\joaod\\anaconda3\\envs\\mda\\lib\\site-packages (from torch) (3.1)\n",
      "Requirement already satisfied: filelock in c:\\users\\joaod\\anaconda3\\envs\\mda\\lib\\site-packages (from torch) (3.12.0)\n",
      "Requirement already satisfied: sympy in c:\\users\\joaod\\anaconda3\\envs\\mda\\lib\\site-packages (from torch) (1.12)\n",
      "Requirement already satisfied: MarkupSafe>=2.0 in c:\\users\\joaod\\anaconda3\\envs\\mda\\lib\\site-packages (from jinja2->torch) (2.1.2)\n",
      "Requirement already satisfied: mpmath>=0.19 in c:\\users\\joaod\\anaconda3\\envs\\mda\\lib\\site-packages (from sympy->torch) (1.3.0)\n",
      "Note: you may need to restart the kernel to use updated packages.\n",
      "Pipeline(steps=[('preprocessor',\n",
      "                 ColumnTransformer(sparse_threshold=0,\n",
      "                                   transformers=[('num',\n",
      "                                                  Pipeline(steps=[('scaler',\n",
      "                                                                   StandardScaler())]),\n",
      "                                                  ['temp', 'humidity', 'rain',\n",
      "                                                   'wind']),\n",
      "                                                 ('cat',\n",
      "                                                  Pipeline(steps=[('onehot',\n",
      "                                                                   OneHotEncoder(handle_unknown='ignore'))]),\n",
      "                                                  ['hour', 'nameday',\n",
      "                                                   'events_count'])])),\n",
      "                ('model',\n",
      "                 HistGradientBoostingRegressor(l2_regularization=0.1,\n",
      "                                               learning_rate=0.2,\n",
      "                                               max_depth=100))])\n"
     ]
    }
   ],
   "source": [
    "%pip install torch\n",
    "import torch\n",
    "print(hgr) "
   ]
  },
  {
   "cell_type": "code",
   "execution_count": 12,
   "metadata": {},
   "outputs": [],
   "source": [
    "prediction_class = rfc.predict(forecast)"
   ]
  },
  {
   "cell_type": "code",
   "execution_count": 13,
   "metadata": {},
   "outputs": [],
   "source": [
    "#making prediction on unseen data\n",
    "prediction_reg = hgr.predict(forecast)\n",
    "\n",
    "prediction_class = rfc.predict(forecast)\n"
   ]
  },
  {
   "cell_type": "code",
   "execution_count": 26,
   "metadata": {},
   "outputs": [
    {
     "name": "stdout",
     "output_type": "stream",
     "text": [
      "[1 0 1 0 1 0 0 0 0 0 0 0 0 0 0 0 0 0 1 1 0 2 0 0 0 0 1 0 0 0 0 0 0 0 0 0 0\n",
      " 0 0 0 0 0 1 1 0 1 0 0]\n"
     ]
    }
   ],
   "source": [
    "print(prediction_class)"
   ]
  },
  {
   "cell_type": "code",
   "execution_count": 42,
   "metadata": {},
   "outputs": [
    {
     "data": {
      "application/vnd.plotly.v1+json": {
       "config": {
        "plotlyServerURL": "https://plot.ly"
       },
       "data": [
        {
         "customdata": [
          1,
          0,
          1,
          0,
          1,
          0,
          0,
          0,
          0,
          0,
          0,
          0,
          0,
          0,
          0,
          0,
          0,
          0,
          1,
          1,
          0,
          2,
          0,
          0,
          0,
          0,
          1,
          0,
          0,
          0,
          0,
          0,
          0,
          0,
          0,
          0,
          0,
          0,
          0,
          0,
          0,
          0,
          1,
          1,
          0,
          1,
          0,
          0
         ],
         "hovertemplate": "Hour: %{x}<br>Noise Level: %{customdata}<extra></extra>",
         "marker": {
          "color": [
           "yellow",
           "green",
           "yellow",
           "green",
           "yellow",
           "green",
           "green",
           "green",
           "green",
           "green",
           "green",
           "green",
           "green",
           "green",
           "green",
           "green",
           "green",
           "green",
           "yellow",
           "yellow",
           "green",
           "red",
           "green",
           "green",
           "green",
           "green",
           "yellow",
           "green",
           "green",
           "green",
           "green",
           "green",
           "green",
           "green",
           "green",
           "green",
           "green",
           "green",
           "green",
           "green",
           "green",
           "green",
           "yellow",
           "yellow",
           "green",
           "yellow",
           "green",
           "green"
          ]
         },
         "type": "bar",
         "x": [
          "2023-05-31T19:21:22.372402",
          "2023-05-31T20:21:22.372402",
          "2023-05-31T21:21:22.372402",
          "2023-05-31T22:21:22.372402",
          "2023-05-31T23:21:22.372402",
          "2023-06-01T00:21:22.372402",
          "2023-06-01T01:21:22.372402",
          "2023-06-01T02:21:22.372402",
          "2023-06-01T03:21:22.372402",
          "2023-06-01T04:21:22.372402",
          "2023-06-01T05:21:22.372402",
          "2023-06-01T06:21:22.372402",
          "2023-06-01T07:21:22.372402",
          "2023-06-01T08:21:22.372402",
          "2023-06-01T09:21:22.372402",
          "2023-06-01T10:21:22.372402",
          "2023-06-01T11:21:22.372402",
          "2023-06-01T12:21:22.372402",
          "2023-06-01T13:21:22.372402",
          "2023-06-01T14:21:22.372402",
          "2023-06-01T15:21:22.372402",
          "2023-06-01T16:21:22.372402",
          "2023-06-01T17:21:22.372402",
          "2023-06-01T18:21:22.372402",
          "2023-06-01T19:21:22.372402",
          "2023-06-01T20:21:22.372402",
          "2023-06-01T21:21:22.372402",
          "2023-06-01T22:21:22.372402",
          "2023-06-01T23:21:22.372402",
          "2023-06-02T00:21:22.372402",
          "2023-06-02T01:21:22.372402",
          "2023-06-02T02:21:22.372402",
          "2023-06-02T03:21:22.372402",
          "2023-06-02T04:21:22.372402",
          "2023-06-02T05:21:22.372402",
          "2023-06-02T06:21:22.372402",
          "2023-06-02T07:21:22.372402",
          "2023-06-02T08:21:22.372402",
          "2023-06-02T09:21:22.372402",
          "2023-06-02T10:21:22.372402",
          "2023-06-02T11:21:22.372402",
          "2023-06-02T12:21:22.372402",
          "2023-06-02T13:21:22.372402",
          "2023-06-02T14:21:22.372402",
          "2023-06-02T15:21:22.372402",
          "2023-06-02T16:21:22.372402",
          "2023-06-02T17:21:22.372402",
          "2023-06-02T18:21:22.372402"
         ],
         "y": [
          1,
          0,
          1,
          0,
          1,
          0,
          0,
          0,
          0,
          0,
          0,
          0,
          0,
          0,
          0,
          0,
          0,
          0,
          1,
          1,
          0,
          2,
          0,
          0,
          0,
          0,
          1,
          0,
          0,
          0,
          0,
          0,
          0,
          0,
          0,
          0,
          0,
          0,
          0,
          0,
          0,
          0,
          1,
          1,
          0,
          1,
          0,
          0
         ]
        }
       ],
       "layout": {
        "template": {
         "data": {
          "candlestick": [
           {
            "decreasing": {
             "line": {
              "color": "#000033"
             }
            },
            "increasing": {
             "line": {
              "color": "#000032"
             }
            },
            "type": "candlestick"
           }
          ],
          "contour": [
           {
            "colorscale": [
             [
              0,
              "#000011"
             ],
             [
              0.1111111111111111,
              "#000012"
             ],
             [
              0.2222222222222222,
              "#000013"
             ],
             [
              0.3333333333333333,
              "#000014"
             ],
             [
              0.4444444444444444,
              "#000015"
             ],
             [
              0.5555555555555556,
              "#000016"
             ],
             [
              0.6666666666666666,
              "#000017"
             ],
             [
              0.7777777777777778,
              "#000018"
             ],
             [
              0.8888888888888888,
              "#000019"
             ],
             [
              1,
              "#000020"
             ]
            ],
            "type": "contour"
           }
          ],
          "contourcarpet": [
           {
            "colorscale": [
             [
              0,
              "#000011"
             ],
             [
              0.1111111111111111,
              "#000012"
             ],
             [
              0.2222222222222222,
              "#000013"
             ],
             [
              0.3333333333333333,
              "#000014"
             ],
             [
              0.4444444444444444,
              "#000015"
             ],
             [
              0.5555555555555556,
              "#000016"
             ],
             [
              0.6666666666666666,
              "#000017"
             ],
             [
              0.7777777777777778,
              "#000018"
             ],
             [
              0.8888888888888888,
              "#000019"
             ],
             [
              1,
              "#000020"
             ]
            ],
            "type": "contourcarpet"
           }
          ],
          "heatmap": [
           {
            "colorscale": [
             [
              0,
              "#000011"
             ],
             [
              0.1111111111111111,
              "#000012"
             ],
             [
              0.2222222222222222,
              "#000013"
             ],
             [
              0.3333333333333333,
              "#000014"
             ],
             [
              0.4444444444444444,
              "#000015"
             ],
             [
              0.5555555555555556,
              "#000016"
             ],
             [
              0.6666666666666666,
              "#000017"
             ],
             [
              0.7777777777777778,
              "#000018"
             ],
             [
              0.8888888888888888,
              "#000019"
             ],
             [
              1,
              "#000020"
             ]
            ],
            "type": "heatmap"
           }
          ],
          "histogram2d": [
           {
            "colorscale": [
             [
              0,
              "#000011"
             ],
             [
              0.1111111111111111,
              "#000012"
             ],
             [
              0.2222222222222222,
              "#000013"
             ],
             [
              0.3333333333333333,
              "#000014"
             ],
             [
              0.4444444444444444,
              "#000015"
             ],
             [
              0.5555555555555556,
              "#000016"
             ],
             [
              0.6666666666666666,
              "#000017"
             ],
             [
              0.7777777777777778,
              "#000018"
             ],
             [
              0.8888888888888888,
              "#000019"
             ],
             [
              1,
              "#000020"
             ]
            ],
            "type": "histogram2d"
           }
          ],
          "icicle": [
           {
            "textfont": {
             "color": "white"
            },
            "type": "icicle"
           }
          ],
          "sankey": [
           {
            "textfont": {
             "color": "#000036"
            },
            "type": "sankey"
           }
          ],
          "scatter": [
           {
            "marker": {
             "line": {
              "width": 0
             }
            },
            "type": "scatter"
           }
          ],
          "table": [
           {
            "cells": {
             "fill": {
              "color": "#000038"
             },
             "font": {
              "color": "#000037"
             },
             "line": {
              "color": "#000039"
             }
            },
            "header": {
             "fill": {
              "color": "#000040"
             },
             "font": {
              "color": "#000036"
             },
             "line": {
              "color": "#000039"
             }
            },
            "type": "table"
           }
          ],
          "waterfall": [
           {
            "connector": {
             "line": {
              "color": "#000036",
              "width": 2
             }
            },
            "decreasing": {
             "marker": {
              "color": "#000033"
             }
            },
            "increasing": {
             "marker": {
              "color": "#000032"
             }
            },
            "totals": {
             "marker": {
              "color": "#000034"
             }
            },
            "type": "waterfall"
           }
          ]
         },
         "layout": {
          "coloraxis": {
           "colorscale": [
            [
             0,
             "#000011"
            ],
            [
             0.1111111111111111,
             "#000012"
            ],
            [
             0.2222222222222222,
             "#000013"
            ],
            [
             0.3333333333333333,
             "#000014"
            ],
            [
             0.4444444444444444,
             "#000015"
            ],
            [
             0.5555555555555556,
             "#000016"
            ],
            [
             0.6666666666666666,
             "#000017"
            ],
            [
             0.7777777777777778,
             "#000018"
            ],
            [
             0.8888888888888888,
             "#000019"
            ],
            [
             1,
             "#000020"
            ]
           ]
          },
          "colorscale": {
           "diverging": [
            [
             0,
             "#000021"
            ],
            [
             0.1,
             "#000022"
            ],
            [
             0.2,
             "#000023"
            ],
            [
             0.3,
             "#000024"
            ],
            [
             0.4,
             "#000025"
            ],
            [
             0.5,
             "#000026"
            ],
            [
             0.6,
             "#000027"
            ],
            [
             0.7,
             "#000028"
            ],
            [
             0.8,
             "#000029"
            ],
            [
             0.9,
             "#000030"
            ],
            [
             1,
             "#000031"
            ]
           ],
           "sequential": [
            [
             0,
             "#000011"
            ],
            [
             0.1111111111111111,
             "#000012"
            ],
            [
             0.2222222222222222,
             "#000013"
            ],
            [
             0.3333333333333333,
             "#000014"
            ],
            [
             0.4444444444444444,
             "#000015"
            ],
            [
             0.5555555555555556,
             "#000016"
            ],
            [
             0.6666666666666666,
             "#000017"
            ],
            [
             0.7777777777777778,
             "#000018"
            ],
            [
             0.8888888888888888,
             "#000019"
            ],
            [
             1,
             "#000020"
            ]
           ],
           "sequentialminus": [
            [
             0,
             "#000011"
            ],
            [
             0.1111111111111111,
             "#000012"
            ],
            [
             0.2222222222222222,
             "#000013"
            ],
            [
             0.3333333333333333,
             "#000014"
            ],
            [
             0.4444444444444444,
             "#000015"
            ],
            [
             0.5555555555555556,
             "#000016"
            ],
            [
             0.6666666666666666,
             "#000017"
            ],
            [
             0.7777777777777778,
             "#000018"
            ],
            [
             0.8888888888888888,
             "#000019"
            ],
            [
             1,
             "#000020"
            ]
           ]
          },
          "colorway": [
           "#000001",
           "#000002",
           "#000003",
           "#000004",
           "#000005",
           "#000006",
           "#000007",
           "#000008",
           "#000009",
           "#000010"
          ]
         }
        },
        "title": {
         "text": "Relative Noise Levels in the Next 48 Hours"
        },
        "xaxis": {
         "title": {
          "text": "Hours"
         }
        },
        "yaxis": {
         "categoryarray": [
          "Low",
          "Intermediate",
          "High"
         ],
         "categoryorder": "array",
         "title": {
          "text": "Noise Level"
         }
        }
       }
      }
     },
     "metadata": {},
     "output_type": "display_data"
    }
   ],
   "source": [
    "\n",
    "start_time = datetime.now()\n",
    "hours_list = [start_time + timedelta(hours=x) for x in range(48)]\n",
    "#making a graph for the classifier\n",
    "colors = {0: \"green\", 1: \"yellow\", 2: \"red\"}\n",
    "category_order = [\"Low\", \"Intermediate\", \"High\"]\n",
    "fig_class = go.Figure(data=[go.Bar(x=hours_list,\n",
    "                            y=prediction_class,\n",
    "#                             marker=dict(color='red'),\n",
    "                            marker=dict(color=[colors[level] for level in prediction_class]),\n",
    "                            customdata=prediction_class,\n",
    "                            hovertemplate=\"Hour: %{x}<br>Noise Level: %{customdata}<extra></extra>\")])\n",
    "fig_class.update_xaxes(title_text=\"Hours\")\n",
    "fig_class.update_yaxes(title_text=\"Noise Level\", categoryorder=\"array\", categoryarray=category_order)\n",
    "fig_class.update_layout(title_text=\"Relative Noise Levels in the Next 48 Hours\")\n",
    "\n"
   ]
  },
  {
   "cell_type": "code",
   "execution_count": 28,
   "metadata": {},
   "outputs": [
    {
     "ename": "KeyError",
     "evalue": "1",
     "output_type": "error",
     "traceback": [
      "\u001b[1;31m---------------------------------------------------------------------------\u001b[0m",
      "\u001b[1;31mKeyError\u001b[0m                                  Traceback (most recent call last)",
      "Cell \u001b[1;32mIn[28], line 6\u001b[0m\n\u001b[0;32m      2\u001b[0m colors \u001b[39m=\u001b[39m {\u001b[39m\"\u001b[39m\u001b[39mLow\u001b[39m\u001b[39m\"\u001b[39m: \u001b[39m\"\u001b[39m\u001b[39mgreen\u001b[39m\u001b[39m\"\u001b[39m, \u001b[39m\"\u001b[39m\u001b[39mIntermediate\u001b[39m\u001b[39m\"\u001b[39m: \u001b[39m\"\u001b[39m\u001b[39myellow\u001b[39m\u001b[39m\"\u001b[39m, \u001b[39m\"\u001b[39m\u001b[39mHigh\u001b[39m\u001b[39m\"\u001b[39m: \u001b[39m\"\u001b[39m\u001b[39mred\u001b[39m\u001b[39m\"\u001b[39m}\n\u001b[0;32m      3\u001b[0m category_order \u001b[39m=\u001b[39m [\u001b[39m\"\u001b[39m\u001b[39mLow\u001b[39m\u001b[39m\"\u001b[39m, \u001b[39m\"\u001b[39m\u001b[39mIntermediate\u001b[39m\u001b[39m\"\u001b[39m, \u001b[39m\"\u001b[39m\u001b[39mHigh\u001b[39m\u001b[39m\"\u001b[39m]\n\u001b[0;32m      4\u001b[0m fig_class \u001b[39m=\u001b[39m go\u001b[39m.\u001b[39mFigure(data\u001b[39m=\u001b[39m[go\u001b[39m.\u001b[39mBar(x\u001b[39m=\u001b[39mforecast[\u001b[39m'\u001b[39m\u001b[39mhour\u001b[39m\u001b[39m'\u001b[39m],\n\u001b[0;32m      5\u001b[0m                             y\u001b[39m=\u001b[39mprediction_class,\n\u001b[1;32m----> 6\u001b[0m                             marker\u001b[39m=\u001b[39m\u001b[39mdict\u001b[39m(color\u001b[39m=\u001b[39m[colors[level] \u001b[39mfor\u001b[39;00m level \u001b[39min\u001b[39;00m prediction_class]),\n\u001b[0;32m      7\u001b[0m                             customdata\u001b[39m=\u001b[39mprediction_class,\n\u001b[0;32m      8\u001b[0m                             hovertemplate\u001b[39m=\u001b[39m\u001b[39m\"\u001b[39m\u001b[39mHour: \u001b[39m\u001b[39m%\u001b[39m\u001b[39m{x}\u001b[39;00m\u001b[39m<br>Noise Level: \u001b[39m\u001b[39m%\u001b[39m\u001b[39m{customdata}\u001b[39;00m\u001b[39m<extra></extra>\u001b[39m\u001b[39m\"\u001b[39m)])\n\u001b[0;32m      9\u001b[0m fig_class\u001b[39m.\u001b[39mupdate_xaxes(title_text\u001b[39m=\u001b[39m\u001b[39m\"\u001b[39m\u001b[39mHours\u001b[39m\u001b[39m\"\u001b[39m)\n\u001b[0;32m     10\u001b[0m fig_class\u001b[39m.\u001b[39mupdate_yaxes(title_text\u001b[39m=\u001b[39m\u001b[39m\"\u001b[39m\u001b[39mNoise Level\u001b[39m\u001b[39m\"\u001b[39m, categoryorder\u001b[39m=\u001b[39m\u001b[39m\"\u001b[39m\u001b[39marray\u001b[39m\u001b[39m\"\u001b[39m, categoryarray\u001b[39m=\u001b[39mcategory_order)\n",
      "Cell \u001b[1;32mIn[28], line 6\u001b[0m, in \u001b[0;36m<listcomp>\u001b[1;34m(.0)\u001b[0m\n\u001b[0;32m      2\u001b[0m colors \u001b[39m=\u001b[39m {\u001b[39m\"\u001b[39m\u001b[39mLow\u001b[39m\u001b[39m\"\u001b[39m: \u001b[39m\"\u001b[39m\u001b[39mgreen\u001b[39m\u001b[39m\"\u001b[39m, \u001b[39m\"\u001b[39m\u001b[39mIntermediate\u001b[39m\u001b[39m\"\u001b[39m: \u001b[39m\"\u001b[39m\u001b[39myellow\u001b[39m\u001b[39m\"\u001b[39m, \u001b[39m\"\u001b[39m\u001b[39mHigh\u001b[39m\u001b[39m\"\u001b[39m: \u001b[39m\"\u001b[39m\u001b[39mred\u001b[39m\u001b[39m\"\u001b[39m}\n\u001b[0;32m      3\u001b[0m category_order \u001b[39m=\u001b[39m [\u001b[39m\"\u001b[39m\u001b[39mLow\u001b[39m\u001b[39m\"\u001b[39m, \u001b[39m\"\u001b[39m\u001b[39mIntermediate\u001b[39m\u001b[39m\"\u001b[39m, \u001b[39m\"\u001b[39m\u001b[39mHigh\u001b[39m\u001b[39m\"\u001b[39m]\n\u001b[0;32m      4\u001b[0m fig_class \u001b[39m=\u001b[39m go\u001b[39m.\u001b[39mFigure(data\u001b[39m=\u001b[39m[go\u001b[39m.\u001b[39mBar(x\u001b[39m=\u001b[39mforecast[\u001b[39m'\u001b[39m\u001b[39mhour\u001b[39m\u001b[39m'\u001b[39m],\n\u001b[0;32m      5\u001b[0m                             y\u001b[39m=\u001b[39mprediction_class,\n\u001b[1;32m----> 6\u001b[0m                             marker\u001b[39m=\u001b[39m\u001b[39mdict\u001b[39m(color\u001b[39m=\u001b[39m[colors[level] \u001b[39mfor\u001b[39;00m level \u001b[39min\u001b[39;00m prediction_class]),\n\u001b[0;32m      7\u001b[0m                             customdata\u001b[39m=\u001b[39mprediction_class,\n\u001b[0;32m      8\u001b[0m                             hovertemplate\u001b[39m=\u001b[39m\u001b[39m\"\u001b[39m\u001b[39mHour: \u001b[39m\u001b[39m%\u001b[39m\u001b[39m{x}\u001b[39;00m\u001b[39m<br>Noise Level: \u001b[39m\u001b[39m%\u001b[39m\u001b[39m{customdata}\u001b[39;00m\u001b[39m<extra></extra>\u001b[39m\u001b[39m\"\u001b[39m)])\n\u001b[0;32m      9\u001b[0m fig_class\u001b[39m.\u001b[39mupdate_xaxes(title_text\u001b[39m=\u001b[39m\u001b[39m\"\u001b[39m\u001b[39mHours\u001b[39m\u001b[39m\"\u001b[39m)\n\u001b[0;32m     10\u001b[0m fig_class\u001b[39m.\u001b[39mupdate_yaxes(title_text\u001b[39m=\u001b[39m\u001b[39m\"\u001b[39m\u001b[39mNoise Level\u001b[39m\u001b[39m\"\u001b[39m, categoryorder\u001b[39m=\u001b[39m\u001b[39m\"\u001b[39m\u001b[39marray\u001b[39m\u001b[39m\"\u001b[39m, categoryarray\u001b[39m=\u001b[39mcategory_order)\n",
      "\u001b[1;31mKeyError\u001b[0m: 1"
     ]
    }
   ],
   "source": [
    "#making a graph for the classifier\n",
    "colors = {\"Low\": \"green\", \"Intermediate\": \"yellow\", \"High\": \"red\"}\n",
    "category_order = [\"Low\", \"Intermediate\", \"High\"]\n",
    "fig_class = go.Figure(data=[go.Bar(x=forecast['hour'],\n",
    "                            y=prediction_class,\n",
    "                            marker=dict(color=[colors[level] for level in prediction_class]),\n",
    "                            customdata=prediction_class,\n",
    "                            hovertemplate=\"Hour: %{x}<br>Noise Level: %{customdata}<extra></extra>\")])\n",
    "fig_class.update_xaxes(title_text=\"Hours\")\n",
    "fig_class.update_yaxes(title_text=\"Noise Level\", categoryorder=\"array\", categoryarray=category_order)\n",
    "fig_class.update_layout(title_text=\"Relative Noise Levels in the Next 48 Hours\")\n",
    "\n"
   ]
  },
  {
   "cell_type": "code",
   "execution_count": 48,
   "metadata": {},
   "outputs": [],
   "source": [
    "def pairwise(iterable):\n",
    "    # pairwise('ABCDEFG') --> AB BC CD DE EF FG\n",
    "    a, b = it.tee(iterable)\n",
    "    next(b, None)\n",
    "    return zip(a, b)"
   ]
  },
  {
   "cell_type": "code",
   "execution_count": 49,
   "metadata": {},
   "outputs": [],
   "source": []
  },
  {
   "cell_type": "code",
   "execution_count": 50,
   "metadata": {},
   "outputs": [
    {
     "name": "stdout",
     "output_type": "stream",
     "text": [
      "<zip object at 0x000002A342AC4580>\n"
     ]
    }
   ],
   "source": [
    "print(x_pairs)"
   ]
  },
  {
   "cell_type": "code",
   "execution_count": 51,
   "metadata": {},
   "outputs": [
    {
     "data": {
      "application/vnd.plotly.v1+json": {
       "config": {
        "plotlyServerURL": "https://plot.ly"
       },
       "data": [
        {
         "line": {
          "color": "blue"
         },
         "name": "Noise Forecast",
         "type": "scatter",
         "x": [
          "2023-05-31T18:49:26.738643",
          "2023-05-31T19:49:26.738643",
          "2023-05-31T20:49:26.738643",
          "2023-05-31T21:49:26.738643",
          "2023-05-31T22:49:26.738643",
          "2023-05-31T23:49:26.738643",
          "2023-06-01T00:49:26.738643",
          "2023-06-01T01:49:26.738643",
          "2023-06-01T02:49:26.738643",
          "2023-06-01T03:49:26.738643",
          "2023-06-01T04:49:26.738643",
          "2023-06-01T05:49:26.738643",
          "2023-06-01T06:49:26.738643",
          "2023-06-01T07:49:26.738643",
          "2023-06-01T08:49:26.738643",
          "2023-06-01T09:49:26.738643",
          "2023-06-01T10:49:26.738643",
          "2023-06-01T11:49:26.738643",
          "2023-06-01T12:49:26.738643",
          "2023-06-01T13:49:26.738643",
          "2023-06-01T14:49:26.738643",
          "2023-06-01T15:49:26.738643",
          "2023-06-01T16:49:26.738643",
          "2023-06-01T17:49:26.738643",
          "2023-06-01T18:49:26.738643",
          "2023-06-01T19:49:26.738643",
          "2023-06-01T20:49:26.738643",
          "2023-06-01T21:49:26.738643",
          "2023-06-01T22:49:26.738643",
          "2023-06-01T23:49:26.738643",
          "2023-06-02T00:49:26.738643",
          "2023-06-02T01:49:26.738643",
          "2023-06-02T02:49:26.738643",
          "2023-06-02T03:49:26.738643",
          "2023-06-02T04:49:26.738643",
          "2023-06-02T05:49:26.738643",
          "2023-06-02T06:49:26.738643",
          "2023-06-02T07:49:26.738643",
          "2023-06-02T08:49:26.738643",
          "2023-06-02T09:49:26.738643",
          "2023-06-02T10:49:26.738643",
          "2023-06-02T11:49:26.738643",
          "2023-06-02T12:49:26.738643",
          "2023-06-02T13:49:26.738643",
          "2023-06-02T14:49:26.738643",
          "2023-06-02T15:49:26.738643",
          "2023-06-02T16:49:26.738643",
          "2023-06-02T17:49:26.738643"
         ],
         "y": [
          58.18309476050579,
          58.94904188398938,
          58.39058890196424,
          59.158367829352976,
          57.63936452829085,
          55.015153294872626,
          56.72007323879732,
          55.001484956156915,
          50.32432083637502,
          51.61507794155052,
          48.487328847338986,
          51.4263906242604,
          55.52578505989902,
          62.52321148679796,
          62.746304558827475,
          63.07789593454034,
          63.931292048227114,
          61.318361945469384,
          61.2165759878896,
          61.189655053500246,
          60.84587762196599,
          59.716075912312746,
          59.83950484643485,
          59.78554224209067,
          59.83262590834397,
          60.619969659617226,
          60.81581333232605,
          61.59392318621908,
          59.091096088841226,
          58.16944103958973,
          55.96347751154606,
          54.84491071523454,
          48.59723565118963,
          49.09726756888006,
          47.15903827737392,
          47.18514647694275,
          53.836185560887586,
          59.474952163430245,
          62.582056517773445,
          60.97224324197522,
          62.26093656372933,
          61.96034779945798,
          61.29978399984086,
          60.62397102452395,
          60.622686312637995,
          60.161453291062244,
          59.35938619795145,
          59.36935570643168
         ]
        },
        {
         "line": {
          "color": "grey",
          "dash": "dash",
          "width": 3
         },
         "mode": "lines",
         "name": "Average Noise",
         "type": "scatter",
         "x": [
          "2023-05-31T18:49:26.738643",
          "2023-05-31T19:49:26.738643",
          "2023-05-31T20:49:26.738643",
          "2023-05-31T21:49:26.738643",
          "2023-05-31T22:49:26.738643",
          "2023-05-31T23:49:26.738643",
          "2023-06-01T00:49:26.738643",
          "2023-06-01T01:49:26.738643",
          "2023-06-01T02:49:26.738643",
          "2023-06-01T03:49:26.738643",
          "2023-06-01T04:49:26.738643",
          "2023-06-01T05:49:26.738643",
          "2023-06-01T06:49:26.738643",
          "2023-06-01T07:49:26.738643",
          "2023-06-01T08:49:26.738643",
          "2023-06-01T09:49:26.738643",
          "2023-06-01T10:49:26.738643",
          "2023-06-01T11:49:26.738643",
          "2023-06-01T12:49:26.738643",
          "2023-06-01T13:49:26.738643",
          "2023-06-01T14:49:26.738643",
          "2023-06-01T15:49:26.738643",
          "2023-06-01T16:49:26.738643",
          "2023-06-01T17:49:26.738643",
          "2023-06-01T18:49:26.738643",
          "2023-06-01T19:49:26.738643",
          "2023-06-01T20:49:26.738643",
          "2023-06-01T21:49:26.738643",
          "2023-06-01T22:49:26.738643",
          "2023-06-01T23:49:26.738643",
          "2023-06-02T00:49:26.738643",
          "2023-06-02T01:49:26.738643",
          "2023-06-02T02:49:26.738643",
          "2023-06-02T03:49:26.738643",
          "2023-06-02T04:49:26.738643",
          "2023-06-02T05:49:26.738643",
          "2023-06-02T06:49:26.738643",
          "2023-06-02T07:49:26.738643",
          "2023-06-02T08:49:26.738643",
          "2023-06-02T09:49:26.738643",
          "2023-06-02T10:49:26.738643",
          "2023-06-02T11:49:26.738643",
          "2023-06-02T12:49:26.738643",
          "2023-06-02T13:49:26.738643",
          "2023-06-02T14:49:26.738643",
          "2023-06-02T15:49:26.738643",
          "2023-06-02T16:49:26.738643",
          "2023-06-02T17:49:26.738643"
         ],
         "y": [
          59.33185,
          58.909625,
          58.026158333333335,
          56.83723333333333,
          56.128600000000006,
          54.288491666666665,
          52.58981209150327,
          49.68248366013072,
          46.58238562091503,
          45.80816993464053,
          45.368039215686274,
          46.39508986928104,
          53.49889705882353,
          58.81632352941177,
          60.67437908496732,
          60.17069444444444,
          61.18348856209151,
          60.602222222222224,
          59.8840931372549,
          60.20049836601307,
          59.603169934640526,
          59.36482026143791,
          58.678823529411765,
          59.037148692810455,
          59.5965522875817,
          59.45377450980392,
          58.523325163398695,
          57.11071078431373,
          56.40453431372549,
          54.72063725490196,
          53.17849358974359,
          50.78258814102564,
          48.14600961538462,
          46.63621794871795,
          45.941506410256416,
          46.06777243589743,
          52.33423878205129,
          57.01283653846154,
          59.346017628205125,
          59.50788461538461,
          60.0547435897436,
          59.64836538461539,
          59.39120993589744,
          59.35206730769231,
          59.202532051282056,
          59.14114583333333,
          59.0448717948718,
          59.240088141025645
         ]
        },
        {
         "customdata": [
          1,
          0,
          1,
          0,
          1,
          0,
          0,
          0,
          0,
          0,
          0,
          0,
          0,
          0,
          0,
          0,
          0,
          0,
          1,
          1,
          0,
          2,
          0,
          0,
          0,
          0,
          1,
          0,
          0,
          0,
          0,
          0,
          0,
          0,
          0,
          0,
          0,
          0,
          0,
          0,
          0,
          0,
          1,
          1,
          0,
          1,
          0,
          0
         ],
         "hovertemplate": "Hour: %{x}<br>Noise Level: %{customdata}<extra></extra>",
         "marker": {
          "color": [
           "yellow",
           "green",
           "yellow",
           "green",
           "yellow",
           "green",
           "green",
           "green",
           "green",
           "green",
           "green",
           "green",
           "green",
           "green",
           "green",
           "green",
           "green",
           "green",
           "yellow",
           "yellow",
           "green",
           "red",
           "green",
           "green",
           "green",
           "green",
           "yellow",
           "green",
           "green",
           "green",
           "green",
           "green",
           "green",
           "green",
           "green",
           "green",
           "green",
           "green",
           "green",
           "green",
           "green",
           "green",
           "yellow",
           "yellow",
           "green",
           "yellow",
           "green",
           "green"
          ],
          "opacity": 0.2
         },
         "showlegend": false,
         "type": "bar",
         "x": [
          "2023-05-31T19:21:22.372402",
          "2023-05-31T20:21:22.372402",
          "2023-05-31T21:21:22.372402",
          "2023-05-31T22:21:22.372402",
          "2023-05-31T23:21:22.372402",
          "2023-06-01T00:21:22.372402",
          "2023-06-01T01:21:22.372402",
          "2023-06-01T02:21:22.372402",
          "2023-06-01T03:21:22.372402",
          "2023-06-01T04:21:22.372402",
          "2023-06-01T05:21:22.372402",
          "2023-06-01T06:21:22.372402",
          "2023-06-01T07:21:22.372402",
          "2023-06-01T08:21:22.372402",
          "2023-06-01T09:21:22.372402",
          "2023-06-01T10:21:22.372402",
          "2023-06-01T11:21:22.372402",
          "2023-06-01T12:21:22.372402",
          "2023-06-01T13:21:22.372402",
          "2023-06-01T14:21:22.372402",
          "2023-06-01T15:21:22.372402",
          "2023-06-01T16:21:22.372402",
          "2023-06-01T17:21:22.372402",
          "2023-06-01T18:21:22.372402",
          "2023-06-01T19:21:22.372402",
          "2023-06-01T20:21:22.372402",
          "2023-06-01T21:21:22.372402",
          "2023-06-01T22:21:22.372402",
          "2023-06-01T23:21:22.372402",
          "2023-06-02T00:21:22.372402",
          "2023-06-02T01:21:22.372402",
          "2023-06-02T02:21:22.372402",
          "2023-06-02T03:21:22.372402",
          "2023-06-02T04:21:22.372402",
          "2023-06-02T05:21:22.372402",
          "2023-06-02T06:21:22.372402",
          "2023-06-02T07:21:22.372402",
          "2023-06-02T08:21:22.372402",
          "2023-06-02T09:21:22.372402",
          "2023-06-02T10:21:22.372402",
          "2023-06-02T11:21:22.372402",
          "2023-06-02T12:21:22.372402",
          "2023-06-02T13:21:22.372402",
          "2023-06-02T14:21:22.372402",
          "2023-06-02T15:21:22.372402",
          "2023-06-02T16:21:22.372402",
          "2023-06-02T17:21:22.372402",
          "2023-06-02T18:21:22.372402"
         ],
         "y": [
          65,
          65,
          65,
          65,
          65,
          65,
          65,
          65,
          65,
          65,
          65,
          65,
          65,
          65,
          65,
          65,
          65,
          65,
          65,
          65,
          65,
          65,
          65,
          65,
          65,
          65,
          65,
          65,
          65,
          65,
          65,
          65,
          65,
          65,
          65,
          65,
          65,
          65,
          65,
          65,
          65,
          65,
          65,
          65,
          65,
          65,
          65,
          65
         ]
        }
       ],
       "layout": {
        "bargap": 0,
        "template": {
         "data": {
          "candlestick": [
           {
            "decreasing": {
             "line": {
              "color": "#000033"
             }
            },
            "increasing": {
             "line": {
              "color": "#000032"
             }
            },
            "type": "candlestick"
           }
          ],
          "contour": [
           {
            "colorscale": [
             [
              0,
              "#000011"
             ],
             [
              0.1111111111111111,
              "#000012"
             ],
             [
              0.2222222222222222,
              "#000013"
             ],
             [
              0.3333333333333333,
              "#000014"
             ],
             [
              0.4444444444444444,
              "#000015"
             ],
             [
              0.5555555555555556,
              "#000016"
             ],
             [
              0.6666666666666666,
              "#000017"
             ],
             [
              0.7777777777777778,
              "#000018"
             ],
             [
              0.8888888888888888,
              "#000019"
             ],
             [
              1,
              "#000020"
             ]
            ],
            "type": "contour"
           }
          ],
          "contourcarpet": [
           {
            "colorscale": [
             [
              0,
              "#000011"
             ],
             [
              0.1111111111111111,
              "#000012"
             ],
             [
              0.2222222222222222,
              "#000013"
             ],
             [
              0.3333333333333333,
              "#000014"
             ],
             [
              0.4444444444444444,
              "#000015"
             ],
             [
              0.5555555555555556,
              "#000016"
             ],
             [
              0.6666666666666666,
              "#000017"
             ],
             [
              0.7777777777777778,
              "#000018"
             ],
             [
              0.8888888888888888,
              "#000019"
             ],
             [
              1,
              "#000020"
             ]
            ],
            "type": "contourcarpet"
           }
          ],
          "heatmap": [
           {
            "colorscale": [
             [
              0,
              "#000011"
             ],
             [
              0.1111111111111111,
              "#000012"
             ],
             [
              0.2222222222222222,
              "#000013"
             ],
             [
              0.3333333333333333,
              "#000014"
             ],
             [
              0.4444444444444444,
              "#000015"
             ],
             [
              0.5555555555555556,
              "#000016"
             ],
             [
              0.6666666666666666,
              "#000017"
             ],
             [
              0.7777777777777778,
              "#000018"
             ],
             [
              0.8888888888888888,
              "#000019"
             ],
             [
              1,
              "#000020"
             ]
            ],
            "type": "heatmap"
           }
          ],
          "histogram2d": [
           {
            "colorscale": [
             [
              0,
              "#000011"
             ],
             [
              0.1111111111111111,
              "#000012"
             ],
             [
              0.2222222222222222,
              "#000013"
             ],
             [
              0.3333333333333333,
              "#000014"
             ],
             [
              0.4444444444444444,
              "#000015"
             ],
             [
              0.5555555555555556,
              "#000016"
             ],
             [
              0.6666666666666666,
              "#000017"
             ],
             [
              0.7777777777777778,
              "#000018"
             ],
             [
              0.8888888888888888,
              "#000019"
             ],
             [
              1,
              "#000020"
             ]
            ],
            "type": "histogram2d"
           }
          ],
          "icicle": [
           {
            "textfont": {
             "color": "white"
            },
            "type": "icicle"
           }
          ],
          "sankey": [
           {
            "textfont": {
             "color": "#000036"
            },
            "type": "sankey"
           }
          ],
          "scatter": [
           {
            "marker": {
             "line": {
              "width": 0
             }
            },
            "type": "scatter"
           }
          ],
          "table": [
           {
            "cells": {
             "fill": {
              "color": "#000038"
             },
             "font": {
              "color": "#000037"
             },
             "line": {
              "color": "#000039"
             }
            },
            "header": {
             "fill": {
              "color": "#000040"
             },
             "font": {
              "color": "#000036"
             },
             "line": {
              "color": "#000039"
             }
            },
            "type": "table"
           }
          ],
          "waterfall": [
           {
            "connector": {
             "line": {
              "color": "#000036",
              "width": 2
             }
            },
            "decreasing": {
             "marker": {
              "color": "#000033"
             }
            },
            "increasing": {
             "marker": {
              "color": "#000032"
             }
            },
            "totals": {
             "marker": {
              "color": "#000034"
             }
            },
            "type": "waterfall"
           }
          ]
         },
         "layout": {
          "coloraxis": {
           "colorscale": [
            [
             0,
             "#000011"
            ],
            [
             0.1111111111111111,
             "#000012"
            ],
            [
             0.2222222222222222,
             "#000013"
            ],
            [
             0.3333333333333333,
             "#000014"
            ],
            [
             0.4444444444444444,
             "#000015"
            ],
            [
             0.5555555555555556,
             "#000016"
            ],
            [
             0.6666666666666666,
             "#000017"
            ],
            [
             0.7777777777777778,
             "#000018"
            ],
            [
             0.8888888888888888,
             "#000019"
            ],
            [
             1,
             "#000020"
            ]
           ]
          },
          "colorscale": {
           "diverging": [
            [
             0,
             "#000021"
            ],
            [
             0.1,
             "#000022"
            ],
            [
             0.2,
             "#000023"
            ],
            [
             0.3,
             "#000024"
            ],
            [
             0.4,
             "#000025"
            ],
            [
             0.5,
             "#000026"
            ],
            [
             0.6,
             "#000027"
            ],
            [
             0.7,
             "#000028"
            ],
            [
             0.8,
             "#000029"
            ],
            [
             0.9,
             "#000030"
            ],
            [
             1,
             "#000031"
            ]
           ],
           "sequential": [
            [
             0,
             "#000011"
            ],
            [
             0.1111111111111111,
             "#000012"
            ],
            [
             0.2222222222222222,
             "#000013"
            ],
            [
             0.3333333333333333,
             "#000014"
            ],
            [
             0.4444444444444444,
             "#000015"
            ],
            [
             0.5555555555555556,
             "#000016"
            ],
            [
             0.6666666666666666,
             "#000017"
            ],
            [
             0.7777777777777778,
             "#000018"
            ],
            [
             0.8888888888888888,
             "#000019"
            ],
            [
             1,
             "#000020"
            ]
           ],
           "sequentialminus": [
            [
             0,
             "#000011"
            ],
            [
             0.1111111111111111,
             "#000012"
            ],
            [
             0.2222222222222222,
             "#000013"
            ],
            [
             0.3333333333333333,
             "#000014"
            ],
            [
             0.4444444444444444,
             "#000015"
            ],
            [
             0.5555555555555556,
             "#000016"
            ],
            [
             0.6666666666666666,
             "#000017"
            ],
            [
             0.7777777777777778,
             "#000018"
            ],
            [
             0.8888888888888888,
             "#000019"
            ],
            [
             1,
             "#000020"
            ]
           ]
          },
          "colorway": [
           "#000001",
           "#000002",
           "#000003",
           "#000004",
           "#000005",
           "#000006",
           "#000007",
           "#000008",
           "#000009",
           "#000010"
          ]
         }
        },
        "title": {
         "text": "Noise Forecast vs Avarage for the next 48 hours"
        },
        "xaxis": {
         "title": {
          "text": "Hours"
         }
        },
        "yaxis": {
         "range": [
          38,
          65
         ],
         "showticklabels": true,
         "title": {
          "text": "dB"
         }
        }
       }
      }
     },
     "metadata": {},
     "output_type": "display_data"
    }
   ],
   "source": [
    "\n",
    "#making a graph for the regressor\n",
    "\n",
    "# create coordinate  pairs\n",
    "x_pairs = pairwise(time_range)\n",
    "y_pairs = pairwise(prediction_reg)\n",
    "\n",
    "# generate color list\n",
    "# colors=['red' if any([i < cutoff for i in y_values]) else 'blue' for y_values in it.pairwise(y)]\n",
    "colors_list=[colors[level] for level in prediction_class]\n",
    "\n",
    "fig_reg = go.Figure()\n",
    "\n",
    "# add traces (line segments)\n",
    "for x, y, color in zip(x_pairs, y_pairs, colors_list):\n",
    "    fig_reg.add_trace(\n",
    "        go.Scatter(\n",
    "            x=x,\n",
    "            y=y, \n",
    "            mode='lines', \n",
    "            line={'color': color, 'width':7},\n",
    "        showlegend=False\n",
    "        )\n",
    "    )\n",
    "# fig_reg.add_trace(go.Scatter(x=time_range, y=prediction_reg, name='Noise Forecast', line={'color':'red'}))\n",
    "fig_reg.add_trace(go.Scatter(x=time_range, y=time_range_df['avg'], mode='lines', name='Average Noise',\n",
    "    line=dict(dash='dash', color='grey', width=3)))\n",
    "\n",
    "fig_reg.update_xaxes(title_text=\"Hours\")\n",
    "fig_reg.update_yaxes(title_text=\"dB\")\n",
    "fig_reg.update_layout(title_text=\"Noise Forecast vs Avarage for the next 48 hours\")\n",
    "\n",
    "\n",
    "\n",
    "\n",
    "# fig_reg_2 = make_subplots(specs=[[{\"secondary_y\": True}]])\n",
    "\n",
    "\n",
    "trace1 = go.Scatter(x=time_range, y=prediction_reg, name='Noise Forecast', line={'color':'blue'})\n",
    "trace2 = go.Scatter(x=time_range, y=time_range_df['avg'], mode='lines', name='Average Noise',\n",
    "    line=dict(dash='dash', color='grey', width=3))\n",
    "trace3 = go.Bar(x=hours_list,\n",
    "                            y=[65]*48,\n",
    "                            # marker=dict(color='red'),\n",
    "                            marker=dict(color=colors_list, opacity=0.2),\n",
    "                            customdata=prediction_class,\n",
    "                            hovertemplate=\"Hour: %{x}<br>Noise Level: %{customdata}<extra></extra>\",\n",
    "                            showlegend=False)\n",
    "fig_reg_2 = go.Figure(data = [trace1, trace2, trace3])\n",
    "\n",
    "# fig_reg_2.add_trace(go.Scatter(x=time_range, y=prediction_reg, name='Noise Forecast', line={'color':'blue'}))\n",
    "# fig_reg_2.add_trace(go.Scatter(x=time_range, y=time_range_df['avg'], mode='lines', name='Average Noise',\n",
    "#     line=dict(dash='dash', color='grey', width=3)))\n",
    "\n",
    "# fig_reg_2.add_trace(go.Bar(x=hours_list,\n",
    "#                             y=[1]*48,\n",
    "#                             # marker=dict(color='red'),\n",
    "#                             marker=dict(color=[colors[level] for level in prediction_class], opacity=0.2),\n",
    "#                             customdata=prediction_class,\n",
    "#                             hovertemplate=\"Hour: %{x}<br>Noise Level: %{customdata}<extra></extra>\",\n",
    "#                             showlegend=False),\n",
    "#                     secondary_y = True)\n",
    "fig_reg_2.layout.bargap = 0.\n",
    "fig_reg_2.update_yaxes(showticklabels=True)\n",
    "fig_reg_2.update_layout(yaxis_range=[38,65])\n",
    "\n",
    "fig_reg_2.update_xaxes(title_text=\"Hours\")\n",
    "fig_reg_2.update_yaxes(title_text=\"dB\")\n",
    "fig_reg_2.update_layout(title_text=\"Noise Forecast vs Avarage for the next 48 hours\")\n",
    "\n"
   ]
  },
  {
   "cell_type": "code",
   "execution_count": 35,
   "metadata": {},
   "outputs": [
    {
     "ename": "AttributeError",
     "evalue": "'ColumnTransformer' object has no attribute '_name_to_fitted_passthrough'",
     "output_type": "error",
     "traceback": [
      "\u001b[1;31m---------------------------------------------------------------------------\u001b[0m",
      "\u001b[1;31mAttributeError\u001b[0m                            Traceback (most recent call last)",
      "Cell \u001b[1;32mIn[35], line 2\u001b[0m\n\u001b[0;32m      1\u001b[0m \u001b[39m#making prediction on unseen data\u001b[39;00m\n\u001b[1;32m----> 2\u001b[0m prediction_reg \u001b[39m=\u001b[39m hgr\u001b[39m.\u001b[39;49mpredict(forecast)\n\u001b[0;32m      4\u001b[0m prediction_class \u001b[39m=\u001b[39m rfc\u001b[39m.\u001b[39mpredict(forecast)\n\u001b[0;32m      6\u001b[0m \u001b[39m#making a graph for the classifier\u001b[39;00m\n",
      "File \u001b[1;32mc:\\Users\\joaod\\anaconda3\\envs\\MDA\\lib\\site-packages\\sklearn\\pipeline.py:480\u001b[0m, in \u001b[0;36mpredict\u001b[1;34m(self, X, **predict_params)\u001b[0m\n\u001b[0;32m    472\u001b[0m \u001b[39m@available_if\u001b[39m(_final_estimator_has(\u001b[39m\"\u001b[39m\u001b[39mfit_predict\u001b[39m\u001b[39m\"\u001b[39m))\n\u001b[0;32m    473\u001b[0m \u001b[39mdef\u001b[39;00m \u001b[39mfit_predict\u001b[39m(\u001b[39mself\u001b[39m, X, y\u001b[39m=\u001b[39m\u001b[39mNone\u001b[39;00m, \u001b[39m*\u001b[39m\u001b[39m*\u001b[39mfit_params):\n\u001b[0;32m    474\u001b[0m \u001b[39m    \u001b[39m\u001b[39m\"\"\"Transform the data, and apply `fit_predict` with the final estimator.\u001b[39;00m\n\u001b[0;32m    475\u001b[0m \n\u001b[0;32m    476\u001b[0m \u001b[39m    Call `fit_transform` of each transformer in the pipeline. The\u001b[39;00m\n\u001b[0;32m    477\u001b[0m \u001b[39m    transformed data are finally passed to the final estimator that calls\u001b[39;00m\n\u001b[0;32m    478\u001b[0m \u001b[39m    `fit_predict` method. Only valid if the final estimator implements\u001b[39;00m\n\u001b[0;32m    479\u001b[0m \u001b[39m    `fit_predict`.\u001b[39;00m\n\u001b[1;32m--> 480\u001b[0m \n\u001b[0;32m    481\u001b[0m \u001b[39m    Parameters\u001b[39;00m\n\u001b[0;32m    482\u001b[0m \u001b[39m    ----------\u001b[39;00m\n\u001b[0;32m    483\u001b[0m \u001b[39m    X : iterable\u001b[39;00m\n\u001b[0;32m    484\u001b[0m \u001b[39m        Training data. Must fulfill input requirements of first step of\u001b[39;00m\n\u001b[0;32m    485\u001b[0m \u001b[39m        the pipeline.\u001b[39;00m\n\u001b[0;32m    486\u001b[0m \n\u001b[0;32m    487\u001b[0m \u001b[39m    y : iterable, default=None\u001b[39;00m\n\u001b[0;32m    488\u001b[0m \u001b[39m        Training targets. Must fulfill label requirements for all steps\u001b[39;00m\n\u001b[0;32m    489\u001b[0m \u001b[39m        of the pipeline.\u001b[39;00m\n\u001b[0;32m    490\u001b[0m \n\u001b[0;32m    491\u001b[0m \u001b[39m    **fit_params : dict of string -> object\u001b[39;00m\n\u001b[0;32m    492\u001b[0m \u001b[39m        Parameters passed to the ``fit`` method of each step, where\u001b[39;00m\n\u001b[0;32m    493\u001b[0m \u001b[39m        each parameter name is prefixed such that parameter ``p`` for step\u001b[39;00m\n\u001b[0;32m    494\u001b[0m \u001b[39m        ``s`` has key ``s__p``.\u001b[39;00m\n\u001b[0;32m    495\u001b[0m \n\u001b[0;32m    496\u001b[0m \u001b[39m    Returns\u001b[39;00m\n\u001b[0;32m    497\u001b[0m \u001b[39m    -------\u001b[39;00m\n\u001b[0;32m    498\u001b[0m \u001b[39m    y_pred : ndarray\u001b[39;00m\n\u001b[0;32m    499\u001b[0m \u001b[39m        Result of calling `fit_predict` on the final estimator.\u001b[39;00m\n\u001b[0;32m    500\u001b[0m \u001b[39m    \"\"\"\u001b[39;00m\n\u001b[0;32m    501\u001b[0m     fit_params_steps \u001b[39m=\u001b[39m \u001b[39mself\u001b[39m\u001b[39m.\u001b[39m_check_fit_params(\u001b[39m*\u001b[39m\u001b[39m*\u001b[39mfit_params)\n\u001b[0;32m    502\u001b[0m     Xt \u001b[39m=\u001b[39m \u001b[39mself\u001b[39m\u001b[39m.\u001b[39m_fit(X, y, \u001b[39m*\u001b[39m\u001b[39m*\u001b[39mfit_params_steps)\n",
      "File \u001b[1;32mc:\\Users\\joaod\\anaconda3\\envs\\MDA\\lib\\site-packages\\sklearn\\utils\\_set_output.py:140\u001b[0m, in \u001b[0;36mwrapped\u001b[1;34m(self, X, *args, **kwargs)\u001b[0m\n",
      "File \u001b[1;32mc:\\Users\\joaod\\anaconda3\\envs\\MDA\\lib\\site-packages\\sklearn\\compose\\_column_transformer.py:800\u001b[0m, in \u001b[0;36mtransform\u001b[1;34m(self, X)\u001b[0m\n\u001b[0;32m    796\u001b[0m \u001b[39melif\u001b[39;00m \u001b[39mhasattr\u001b[39m(\u001b[39mself\u001b[39m, \u001b[39m\"\u001b[39m\u001b[39m_remainder\u001b[39m\u001b[39m\"\u001b[39m):\n\u001b[0;32m    797\u001b[0m     remainder_columns \u001b[39m=\u001b[39m \u001b[39mself\u001b[39m\u001b[39m.\u001b[39m_remainder[\u001b[39m2\u001b[39m]\n\u001b[0;32m    798\u001b[0m     \u001b[39mif\u001b[39;00m (\n\u001b[0;32m    799\u001b[0m         \u001b[39mhasattr\u001b[39m(\u001b[39mself\u001b[39m, \u001b[39m\"\u001b[39m\u001b[39mfeature_names_in_\u001b[39m\u001b[39m\"\u001b[39m)\n\u001b[1;32m--> 800\u001b[0m         \u001b[39mand\u001b[39;00m remainder_columns\n\u001b[0;32m    801\u001b[0m         \u001b[39mand\u001b[39;00m \u001b[39mnot\u001b[39;00m \u001b[39mall\u001b[39m(\u001b[39misinstance\u001b[39m(col, \u001b[39mstr\u001b[39m) \u001b[39mfor\u001b[39;00m col \u001b[39min\u001b[39;00m remainder_columns)\n\u001b[0;32m    802\u001b[0m     ):\n\u001b[0;32m    803\u001b[0m         remainder_columns \u001b[39m=\u001b[39m \u001b[39mself\u001b[39m\u001b[39m.\u001b[39mfeature_names_in_[remainder_columns]\u001b[39m.\u001b[39mtolist()\n\u001b[0;32m    804\u001b[0m     transformers \u001b[39m=\u001b[39m chain(\n\u001b[0;32m    805\u001b[0m         \u001b[39mself\u001b[39m\u001b[39m.\u001b[39mtransformers, [(\u001b[39m\"\u001b[39m\u001b[39mremainder\u001b[39m\u001b[39m\"\u001b[39m, \u001b[39mself\u001b[39m\u001b[39m.\u001b[39mremainder, remainder_columns)]\n\u001b[0;32m    806\u001b[0m     )\n",
      "File \u001b[1;32mc:\\Users\\joaod\\anaconda3\\envs\\MDA\\lib\\site-packages\\sklearn\\compose\\_column_transformer.py:652\u001b[0m, in \u001b[0;36m_fit_transform\u001b[1;34m(self, X, y, func, fitted, column_as_strings)\u001b[0m\n\u001b[0;32m    645\u001b[0m \u001b[39mdef\u001b[39;00m \u001b[39mfit_transform\u001b[39m(\u001b[39mself\u001b[39m, X, y\u001b[39m=\u001b[39m\u001b[39mNone\u001b[39;00m):\n\u001b[0;32m    646\u001b[0m \u001b[39m    \u001b[39m\u001b[39m\"\"\"Fit all transformers, transform the data and concatenate results.\u001b[39;00m\n\u001b[0;32m    647\u001b[0m \n\u001b[0;32m    648\u001b[0m \u001b[39m    Parameters\u001b[39;00m\n\u001b[0;32m    649\u001b[0m \u001b[39m    ----------\u001b[39;00m\n\u001b[0;32m    650\u001b[0m \u001b[39m    X : {array-like, dataframe} of shape (n_samples, n_features)\u001b[39;00m\n\u001b[0;32m    651\u001b[0m \u001b[39m        Input data, of which specified subsets are used to fit the\u001b[39;00m\n\u001b[1;32m--> 652\u001b[0m \u001b[39m        transformers.\u001b[39;00m\n\u001b[0;32m    653\u001b[0m \n\u001b[0;32m    654\u001b[0m \u001b[39m    y : array-like of shape (n_samples,), default=None\u001b[39;00m\n\u001b[0;32m    655\u001b[0m \u001b[39m        Targets for supervised learning.\u001b[39;00m\n\u001b[0;32m    656\u001b[0m \n\u001b[0;32m    657\u001b[0m \u001b[39m    Returns\u001b[39;00m\n\u001b[0;32m    658\u001b[0m \u001b[39m    -------\u001b[39;00m\n\u001b[0;32m    659\u001b[0m \u001b[39m    X_t : {array-like, sparse matrix} of \\\u001b[39;00m\n\u001b[0;32m    660\u001b[0m \u001b[39m            shape (n_samples, sum_n_components)\u001b[39;00m\n\u001b[0;32m    661\u001b[0m \u001b[39m        Horizontally stacked results of transformers. sum_n_components is the\u001b[39;00m\n\u001b[0;32m    662\u001b[0m \u001b[39m        sum of n_components (output dimension) over transformers. If\u001b[39;00m\n\u001b[0;32m    663\u001b[0m \u001b[39m        any result is a sparse matrix, everything will be converted to\u001b[39;00m\n\u001b[0;32m    664\u001b[0m \u001b[39m        sparse matrices.\u001b[39;00m\n\u001b[0;32m    665\u001b[0m \u001b[39m    \"\"\"\u001b[39;00m\n\u001b[0;32m    666\u001b[0m     \u001b[39mself\u001b[39m\u001b[39m.\u001b[39m_check_feature_names(X, reset\u001b[39m=\u001b[39m\u001b[39mTrue\u001b[39;00m)\n\u001b[0;32m    668\u001b[0m     X \u001b[39m=\u001b[39m _check_X(X)\n",
      "File \u001b[1;32mc:\\Users\\joaod\\anaconda3\\envs\\MDA\\lib\\site-packages\\sklearn\\compose\\_column_transformer.py:349\u001b[0m, in \u001b[0;36m_iter\u001b[1;34m(self, fitted, replace_strings, column_as_strings)\u001b[0m\n\u001b[0;32m    347\u001b[0m transformer_to_input_indices \u001b[39m=\u001b[39m {}\n\u001b[0;32m    348\u001b[0m \u001b[39mfor\u001b[39;00m name, _, columns \u001b[39min\u001b[39;00m \u001b[39mself\u001b[39m\u001b[39m.\u001b[39mtransformers:\n\u001b[1;32m--> 349\u001b[0m     \u001b[39mif\u001b[39;00m callable(columns):\n\u001b[0;32m    350\u001b[0m         columns \u001b[39m=\u001b[39m columns(X)\n\u001b[0;32m    351\u001b[0m     all_columns\u001b[39m.\u001b[39mappend(columns)\n",
      "File \u001b[1;32mc:\\Users\\joaod\\anaconda3\\envs\\MDA\\lib\\site-packages\\sklearn\\compose\\_column_transformer.py:350\u001b[0m, in \u001b[0;36m<listcomp>\u001b[1;34m(.0)\u001b[0m\n\u001b[0;32m    348\u001b[0m \u001b[39mfor\u001b[39;00m name, _, columns \u001b[39min\u001b[39;00m \u001b[39mself\u001b[39m\u001b[39m.\u001b[39mtransformers:\n\u001b[0;32m    349\u001b[0m     \u001b[39mif\u001b[39;00m callable(columns):\n\u001b[1;32m--> 350\u001b[0m         columns \u001b[39m=\u001b[39m columns(X)\n\u001b[0;32m    351\u001b[0m     all_columns\u001b[39m.\u001b[39mappend(columns)\n\u001b[0;32m    352\u001b[0m     transformer_to_input_indices[name] \u001b[39m=\u001b[39m _get_column_indices(X, columns)\n",
      "File \u001b[1;32mc:\\Users\\joaod\\anaconda3\\envs\\MDA\\lib\\site-packages\\sklearn\\compose\\_column_transformer.py:345\u001b[0m, in \u001b[0;36mreplace_passthrough\u001b[1;34m(name, trans, columns)\u001b[0m\n\u001b[0;32m    342\u001b[0m \u001b[39mdef\u001b[39;00m \u001b[39m_validate_column_callables\u001b[39m(\u001b[39mself\u001b[39m, X):\n\u001b[0;32m    343\u001b[0m \u001b[39m    \u001b[39m\u001b[39m\"\"\"\u001b[39;00m\n\u001b[0;32m    344\u001b[0m \u001b[39m    Converts callable column specifications.\u001b[39;00m\n\u001b[1;32m--> 345\u001b[0m \u001b[39m    \"\"\"\u001b[39;00m\n\u001b[0;32m    346\u001b[0m     all_columns \u001b[39m=\u001b[39m []\n\u001b[0;32m    347\u001b[0m     transformer_to_input_indices \u001b[39m=\u001b[39m {}\n",
      "\u001b[1;31mAttributeError\u001b[0m: 'ColumnTransformer' object has no attribute '_name_to_fitted_passthrough'"
     ]
    }
   ],
   "source": [
    "\n",
    "\n",
    "\n",
    "#making a graph for the regressor\n",
    "fig_reg = go.Figure()\n",
    "fig_reg.add_trace(data=go.Scatter(x=forecast['hour'], y=prediction_reg, name='Noise Forecast'))\n",
    "fig_reg.add_trace(go.Scatter(x=time_range, y=filtered_data['AverageNoise'], mode='lines', name='Average Noise',line=dict(dash='dash')))\n",
    "\n",
    "fig_reg.update_xaxes(title_text=\"Hours\")\n",
    "fig_reg.update_yaxes(title_text=\"dB\")\n",
    "fig_reg.update_layout(title_text=\"Noise Forecast vs Avarage for the next 48 hours\")\n",
    "\n",
    "\n"
   ]
  }
 ],
 "metadata": {
  "kernelspec": {
   "display_name": "MDA",
   "language": "python",
   "name": "python3"
  },
  "language_info": {
   "codemirror_mode": {
    "name": "ipython",
    "version": 3
   },
   "file_extension": ".py",
   "mimetype": "text/x-python",
   "name": "python",
   "nbconvert_exporter": "python",
   "pygments_lexer": "ipython3",
   "version": "3.9.5"
  },
  "orig_nbformat": 4
 },
 "nbformat": 4,
 "nbformat_minor": 2
}
