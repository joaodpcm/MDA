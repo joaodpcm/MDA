{
 "cells": [
  {
   "cell_type": "code",
   "execution_count": null,
   "id": "d16794d2",
   "metadata": {},
   "outputs": [],
   "source": [
    "import numpy as np\n",
    "import pandas as pd\n",
    "import matplotlib.pyplot as plt"
   ]
  },
  {
   "cell_type": "code",
   "execution_count": null,
   "id": "ca22f753",
   "metadata": {},
   "outputs": [],
   "source": [
    "metadata_path = './dataverse_files/01_Metadata_v2.csv'\n",
    "metadata_df = pd.read_csv(metadata_path)\n",
    "metadata_df.head()"
   ]
  },
  {
   "cell_type": "code",
   "execution_count": null,
   "id": "03af1c41",
   "metadata": {},
   "outputs": [],
   "source": [
    "noise_address = pd.DataFrame(columns=['address', 'lat', 'lon'])\n",
    "noise_address['id'] = ['35', '57', '62', '76', 'Calvarie_chapel', 'Parkstraat', '81', 'kiosk', 'vrijthof']\n",
    "noise_address['station'] = ['noise'] * 9\n",
    "noise_address['lat'] = [50.877110, 50.876272, 50.875809, 50.875240, 50.87448858209784, 50.874201158344476, 50.87382419383752, 50.87527944058457, 50.878698]\n",
    "noise_address['lon'] = [4.700840, 4.7010152, 4.700110, 4.700070, 4.700037163774517, 4.6999727902243436, 4.699906597600979, 4.701542231794327,  4.70112]\n",
    "\n",
    "\n",
    "meteo_small_df = pd.DataFrame()\n",
    "meteo_small_df['lat'] = metadata_df.LAT\n",
    "meteo_small_df['lon'] = metadata_df.LON\n",
    "meteo_small_df['station'] = ['meteo'] * len(metadata_df)\n",
    "meteo_small_df['id'] = metadata_df.ID\n",
    "\n",
    "tot_df = noise_address.append(meteo_small_df, ignore_index=True)\n",
    "tot_df"
   ]
  },
  {
   "cell_type": "code",
   "execution_count": null,
   "id": "4966919d",
   "metadata": {},
   "outputs": [],
   "source": [
    "import plotly.express as px\n",
    "import pandas as pd\n",
    "\n",
    "\n",
    "# fig = px.scatter_geo(noise_address,lat='lat',lon='lon', hover_name=\"address\")\n",
    "fig = px.scatter_geo(tot_df,lat='lat',lon='lon', hover_name=\"id\", color='station')\n",
    "fig.update_layout(title = 'Leuven', title_x=0.5,\n",
    "        geo = dict(\n",
    "        lonaxis = dict(\n",
    "            showgrid = True,\n",
    "            gridwidth = 0.5,\n",
    "            range= [4.69, 4.71],\n",
    "            dtick = 5\n",
    "        ),\n",
    "        lataxis = dict (\n",
    "            showgrid = True,\n",
    "            gridwidth = 0.5,\n",
    "            range= [50.868, 50.880],\n",
    "            dtick = 5\n",
    "        )))\n",
    "fig.show()"
   ]
  },
  {
   "cell_type": "code",
   "execution_count": null,
   "id": "e995a0c2",
   "metadata": {},
   "outputs": [],
   "source": []
  }
 ],
 "metadata": {
  "kernelspec": {
   "display_name": "moderndata",
   "language": "python",
   "name": "moderndata"
  },
  "language_info": {
   "codemirror_mode": {
    "name": "ipython",
    "version": 3
   },
   "file_extension": ".py",
   "mimetype": "text/x-python",
   "name": "python",
   "nbconvert_exporter": "python",
   "pygments_lexer": "ipython3",
   "version": "3.11.3"
  }
 },
 "nbformat": 4,
 "nbformat_minor": 5
}
