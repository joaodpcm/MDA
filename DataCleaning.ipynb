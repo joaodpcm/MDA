{
 "cells": [
  {
   "cell_type": "markdown",
   "metadata": {},
   "source": [
    "# Importing Packages"
   ]
  },
  {
   "cell_type": "code",
   "execution_count": null,
   "metadata": {},
   "outputs": [],
   "source": [
    "import pandas as pd\n",
    "%pip install PyDrive google-auth google-auth-oauthlib google-auth-httplib2\n",
    "from pydrive.auth import GoogleAuth\n",
    "from pydrive.drive import GoogleDrive"
   ]
  },
  {
   "attachments": {},
   "cell_type": "markdown",
   "metadata": {},
   "source": [
    "# Loading Meteo data"
   ]
  },
  {
   "cell_type": "code",
   "execution_count": 12,
   "metadata": {},
   "outputs": [
    {
     "ename": "InvalidConfigError",
     "evalue": "Invalid client secrets file ('Error opening file', 'client_secrets.json', 'No such file or directory', 2)",
     "output_type": "error",
     "traceback": [
      "\u001b[1;31m---------------------------------------------------------------------------\u001b[0m",
      "\u001b[1;31mFileNotFoundError\u001b[0m                         Traceback (most recent call last)",
      "File \u001b[1;32mc:\\Users\\joaod\\anaconda3\\envs\\MDA\\lib\\site-packages\\oauth2client\\clientsecrets.py:121\u001b[0m, in \u001b[0;36m_loadfile\u001b[1;34m(filename)\u001b[0m\n\u001b[0;32m    120\u001b[0m \u001b[39mtry\u001b[39;00m:\n\u001b[1;32m--> 121\u001b[0m     \u001b[39mwith\u001b[39;00m \u001b[39mopen\u001b[39;49m(filename, \u001b[39m'\u001b[39;49m\u001b[39mr\u001b[39;49m\u001b[39m'\u001b[39;49m) \u001b[39mas\u001b[39;00m fp:\n\u001b[0;32m    122\u001b[0m         obj \u001b[39m=\u001b[39m json\u001b[39m.\u001b[39mload(fp)\n",
      "\u001b[1;31mFileNotFoundError\u001b[0m: [Errno 2] No such file or directory: 'client_secrets.json'",
      "\nDuring handling of the above exception, another exception occurred:\n",
      "\u001b[1;31mInvalidClientSecretsError\u001b[0m                 Traceback (most recent call last)",
      "File \u001b[1;32mc:\\Users\\joaod\\anaconda3\\envs\\MDA\\lib\\site-packages\\pydrive\\auth.py:386\u001b[0m, in \u001b[0;36mGoogleAuth.LoadClientConfigFile\u001b[1;34m(self, client_config_file)\u001b[0m\n\u001b[0;32m    385\u001b[0m \u001b[39mtry\u001b[39;00m:\n\u001b[1;32m--> 386\u001b[0m   client_type, client_info \u001b[39m=\u001b[39m clientsecrets\u001b[39m.\u001b[39;49mloadfile(client_config_file)\n\u001b[0;32m    387\u001b[0m \u001b[39mexcept\u001b[39;00m clientsecrets\u001b[39m.\u001b[39mInvalidClientSecretsError \u001b[39mas\u001b[39;00m error:\n",
      "File \u001b[1;32mc:\\Users\\joaod\\anaconda3\\envs\\MDA\\lib\\site-packages\\oauth2client\\clientsecrets.py:165\u001b[0m, in \u001b[0;36mloadfile\u001b[1;34m(filename, cache)\u001b[0m\n\u001b[0;32m    164\u001b[0m \u001b[39mif\u001b[39;00m \u001b[39mnot\u001b[39;00m cache:\n\u001b[1;32m--> 165\u001b[0m     \u001b[39mreturn\u001b[39;00m _loadfile(filename)\n\u001b[0;32m    167\u001b[0m obj \u001b[39m=\u001b[39m cache\u001b[39m.\u001b[39mget(filename, namespace\u001b[39m=\u001b[39m_SECRET_NAMESPACE)\n",
      "File \u001b[1;32mc:\\Users\\joaod\\anaconda3\\envs\\MDA\\lib\\site-packages\\oauth2client\\clientsecrets.py:124\u001b[0m, in \u001b[0;36m_loadfile\u001b[1;34m(filename)\u001b[0m\n\u001b[0;32m    123\u001b[0m \u001b[39mexcept\u001b[39;00m \u001b[39mIOError\u001b[39;00m \u001b[39mas\u001b[39;00m exc:\n\u001b[1;32m--> 124\u001b[0m     \u001b[39mraise\u001b[39;00m InvalidClientSecretsError(\u001b[39m'\u001b[39m\u001b[39mError opening file\u001b[39m\u001b[39m'\u001b[39m, exc\u001b[39m.\u001b[39mfilename,\n\u001b[0;32m    125\u001b[0m                                     exc\u001b[39m.\u001b[39mstrerror, exc\u001b[39m.\u001b[39merrno)\n\u001b[0;32m    126\u001b[0m \u001b[39mreturn\u001b[39;00m _validate_clientsecrets(obj)\n",
      "\u001b[1;31mInvalidClientSecretsError\u001b[0m: ('Error opening file', 'client_secrets.json', 'No such file or directory', 2)",
      "\nDuring handling of the above exception, another exception occurred:\n",
      "\u001b[1;31mInvalidConfigError\u001b[0m                        Traceback (most recent call last)",
      "Cell \u001b[1;32mIn[12], line 7\u001b[0m\n\u001b[0;32m      1\u001b[0m \u001b[39m# Set up a project in the Google API Console and enable the Google Drive API.\u001b[39;00m\n\u001b[0;32m      2\u001b[0m \n\u001b[0;32m      3\u001b[0m \u001b[39m# Install the PyDrive library using pip: `pip install PyDrive`\u001b[39;00m\n\u001b[0;32m      4\u001b[0m \n\u001b[0;32m      5\u001b[0m \u001b[39m# Authenticate with your Google account.\u001b[39;00m\n\u001b[0;32m      6\u001b[0m gauth \u001b[39m=\u001b[39m GoogleAuth()\n\u001b[1;32m----> 7\u001b[0m gauth\u001b[39m.\u001b[39;49mLocalWebserverAuth()  \u001b[39m# Follow the instructions to authenticate with your Google account\u001b[39;00m\n\u001b[0;32m      9\u001b[0m \u001b[39m# Step 4: Use the PyDrive client to retrieve the folder or file ID of the data you want to access.\u001b[39;00m\n\u001b[0;32m     10\u001b[0m drive \u001b[39m=\u001b[39m GoogleDrive(gauth)\n",
      "File \u001b[1;32mc:\\Users\\joaod\\anaconda3\\envs\\MDA\\lib\\site-packages\\pydrive\\auth.py:113\u001b[0m, in \u001b[0;36mCheckAuth.<locals>._decorated\u001b[1;34m(self, *args, **kwargs)\u001b[0m\n\u001b[0;32m    111\u001b[0m   \u001b[39mself\u001b[39m\u001b[39m.\u001b[39mLoadCredentials()\n\u001b[0;32m    112\u001b[0m \u001b[39mif\u001b[39;00m \u001b[39mself\u001b[39m\u001b[39m.\u001b[39mflow \u001b[39mis\u001b[39;00m \u001b[39mNone\u001b[39;00m:\n\u001b[1;32m--> 113\u001b[0m   \u001b[39mself\u001b[39;49m\u001b[39m.\u001b[39;49mGetFlow()\n\u001b[0;32m    114\u001b[0m \u001b[39mif\u001b[39;00m \u001b[39mself\u001b[39m\u001b[39m.\u001b[39mcredentials \u001b[39mis\u001b[39;00m \u001b[39mNone\u001b[39;00m:\n\u001b[0;32m    115\u001b[0m   code \u001b[39m=\u001b[39m decoratee(\u001b[39mself\u001b[39m, \u001b[39m*\u001b[39margs, \u001b[39m*\u001b[39m\u001b[39m*\u001b[39mkwargs)\n",
      "File \u001b[1;32mc:\\Users\\joaod\\anaconda3\\envs\\MDA\\lib\\site-packages\\pydrive\\auth.py:443\u001b[0m, in \u001b[0;36mGoogleAuth.GetFlow\u001b[1;34m(self)\u001b[0m\n\u001b[0;32m    437\u001b[0m \u001b[39m\u001b[39m\u001b[39m\"\"\"Gets Flow object from client configuration.\u001b[39;00m\n\u001b[0;32m    438\u001b[0m \n\u001b[0;32m    439\u001b[0m \u001b[39m:raises: InvalidConfigError\u001b[39;00m\n\u001b[0;32m    440\u001b[0m \u001b[39m\"\"\"\u001b[39;00m\n\u001b[0;32m    441\u001b[0m \u001b[39mif\u001b[39;00m \u001b[39mnot\u001b[39;00m \u001b[39mall\u001b[39m(config \u001b[39min\u001b[39;00m \u001b[39mself\u001b[39m\u001b[39m.\u001b[39mclient_config \\\n\u001b[0;32m    442\u001b[0m            \u001b[39mfor\u001b[39;00m config \u001b[39min\u001b[39;00m \u001b[39mself\u001b[39m\u001b[39m.\u001b[39mCLIENT_CONFIGS_LIST):\n\u001b[1;32m--> 443\u001b[0m   \u001b[39mself\u001b[39;49m\u001b[39m.\u001b[39;49mLoadClientConfig()\n\u001b[0;32m    444\u001b[0m constructor_kwargs \u001b[39m=\u001b[39m {\n\u001b[0;32m    445\u001b[0m     \u001b[39m'\u001b[39m\u001b[39mredirect_uri\u001b[39m\u001b[39m'\u001b[39m: \u001b[39mself\u001b[39m\u001b[39m.\u001b[39mclient_config[\u001b[39m'\u001b[39m\u001b[39mredirect_uri\u001b[39m\u001b[39m'\u001b[39m],\n\u001b[0;32m    446\u001b[0m     \u001b[39m'\u001b[39m\u001b[39mauth_uri\u001b[39m\u001b[39m'\u001b[39m: \u001b[39mself\u001b[39m\u001b[39m.\u001b[39mclient_config[\u001b[39m'\u001b[39m\u001b[39mauth_uri\u001b[39m\u001b[39m'\u001b[39m],\n\u001b[0;32m    447\u001b[0m     \u001b[39m'\u001b[39m\u001b[39mtoken_uri\u001b[39m\u001b[39m'\u001b[39m: \u001b[39mself\u001b[39m\u001b[39m.\u001b[39mclient_config[\u001b[39m'\u001b[39m\u001b[39mtoken_uri\u001b[39m\u001b[39m'\u001b[39m],\n\u001b[0;32m    448\u001b[0m }\n\u001b[0;32m    449\u001b[0m \u001b[39mif\u001b[39;00m \u001b[39mself\u001b[39m\u001b[39m.\u001b[39mclient_config[\u001b[39m'\u001b[39m\u001b[39mrevoke_uri\u001b[39m\u001b[39m'\u001b[39m] \u001b[39mis\u001b[39;00m \u001b[39mnot\u001b[39;00m \u001b[39mNone\u001b[39;00m:\n",
      "File \u001b[1;32mc:\\Users\\joaod\\anaconda3\\envs\\MDA\\lib\\site-packages\\pydrive\\auth.py:366\u001b[0m, in \u001b[0;36mGoogleAuth.LoadClientConfig\u001b[1;34m(self, backend)\u001b[0m\n\u001b[0;32m    364\u001b[0m     \u001b[39mraise\u001b[39;00m InvalidConfigError(\u001b[39m'\u001b[39m\u001b[39mPlease specify client config backend\u001b[39m\u001b[39m'\u001b[39m)\n\u001b[0;32m    365\u001b[0m \u001b[39mif\u001b[39;00m backend \u001b[39m==\u001b[39m \u001b[39m'\u001b[39m\u001b[39mfile\u001b[39m\u001b[39m'\u001b[39m:\n\u001b[1;32m--> 366\u001b[0m   \u001b[39mself\u001b[39;49m\u001b[39m.\u001b[39;49mLoadClientConfigFile()\n\u001b[0;32m    367\u001b[0m \u001b[39melif\u001b[39;00m backend \u001b[39m==\u001b[39m \u001b[39m'\u001b[39m\u001b[39msettings\u001b[39m\u001b[39m'\u001b[39m:\n\u001b[0;32m    368\u001b[0m   \u001b[39mself\u001b[39m\u001b[39m.\u001b[39mLoadClientConfigSettings()\n",
      "File \u001b[1;32mc:\\Users\\joaod\\anaconda3\\envs\\MDA\\lib\\site-packages\\pydrive\\auth.py:388\u001b[0m, in \u001b[0;36mGoogleAuth.LoadClientConfigFile\u001b[1;34m(self, client_config_file)\u001b[0m\n\u001b[0;32m    386\u001b[0m   client_type, client_info \u001b[39m=\u001b[39m clientsecrets\u001b[39m.\u001b[39mloadfile(client_config_file)\n\u001b[0;32m    387\u001b[0m \u001b[39mexcept\u001b[39;00m clientsecrets\u001b[39m.\u001b[39mInvalidClientSecretsError \u001b[39mas\u001b[39;00m error:\n\u001b[1;32m--> 388\u001b[0m   \u001b[39mraise\u001b[39;00m InvalidConfigError(\u001b[39m'\u001b[39m\u001b[39mInvalid client secrets file \u001b[39m\u001b[39m%s\u001b[39;00m\u001b[39m'\u001b[39m \u001b[39m%\u001b[39m error)\n\u001b[0;32m    389\u001b[0m \u001b[39mif\u001b[39;00m \u001b[39mnot\u001b[39;00m client_type \u001b[39min\u001b[39;00m (clientsecrets\u001b[39m.\u001b[39mTYPE_WEB,\n\u001b[0;32m    390\u001b[0m                        clientsecrets\u001b[39m.\u001b[39mTYPE_INSTALLED):\n\u001b[0;32m    391\u001b[0m   \u001b[39mraise\u001b[39;00m InvalidConfigError(\u001b[39m'\u001b[39m\u001b[39mUnknown client_type of client config file\u001b[39m\u001b[39m'\u001b[39m)\n",
      "\u001b[1;31mInvalidConfigError\u001b[0m: Invalid client secrets file ('Error opening file', 'client_secrets.json', 'No such file or directory', 2)"
     ]
    }
   ],
   "source": [
    "# Set up a project in the Google API Console and enable the Google Drive API.\n",
    "\n",
    "# Install the PyDrive library using pip: `pip install PyDrive`\n",
    "\n",
    "# Authenticate with your Google account.\n",
    "gauth = GoogleAuth()\n",
    "gauth.LocalWebserverAuth()  # Follow the instructions to authenticate with your Google account\n",
    "\n",
    "# Step 4: Use the PyDrive client to retrieve the folder or file ID of the data you want to access.\n",
    "drive = GoogleDrive(gauth)\n",
    "\n",
    "# specify folders links\n",
    "MeteoLink = \"https://drive.google.com/drive/folders/1KznKVQzrCpRLgXyXsI2Yz0o2xzqO2CZo?usp=share_link\"\n",
    "\n",
    "# getting folders id\n",
    "MeteoId = MeteoLink.split('/')[-1]\n",
    "\n",
    "# getting folder by id\n",
    "meteo = drive.CreateFile({'id': MeteoId})\n",
    "meteo.FetchMetadata()\n",
    "\n",
    "# getting files in the folders\n",
    "MeteoFileList = drive.ListFile({'q': \"'%s' in parents and trashed=false\" % MeteoId}).GetList()\n",
    "print (MeteoFileList[0])"
   ]
  },
  {
   "cell_type": "code",
   "execution_count": null,
   "metadata": {},
   "outputs": [],
   "source": [
    "\n",
    "\n"
   ]
  }
 ],
 "metadata": {
  "kernelspec": {
   "display_name": "Python 3",
   "language": "python",
   "name": "python3"
  },
  "language_info": {
   "codemirror_mode": {
    "name": "ipython",
    "version": 3
   },
   "file_extension": ".py",
   "mimetype": "text/x-python",
   "name": "python",
   "nbconvert_exporter": "python",
   "pygments_lexer": "ipython3",
   "version": "3.9.5"
  },
  "orig_nbformat": 4
 },
 "nbformat": 4,
 "nbformat_minor": 2
}
