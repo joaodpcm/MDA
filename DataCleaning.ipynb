{
 "cells": [
  {
   "cell_type": "markdown",
   "metadata": {},
   "source": [
    "# Importing Packages"
   ]
  },
  {
   "cell_type": "code",
   "execution_count": 3,
   "metadata": {},
   "outputs": [],
   "source": [
    "import pandas as pd\n",
    "from pydrive.auth import GoogleAuth\n",
    "from pydrive.drive import GoogleDrive\n",
    "import matplotlib.pyplot as plt"
   ]
  },
  {
   "attachments": {},
   "cell_type": "markdown",
   "metadata": {},
   "source": [
    "# Loading Meteo data"
   ]
  },
  {
   "cell_type": "code",
   "execution_count": 4,
   "metadata": {},
   "outputs": [],
   "source": [
    "#If local data\n",
    "#put the folder of the dataset in the same folder as the code with the name meteo_data\n",
    "\n",
    "Q1 = pd.read_csv('meteo_data/LC_2022Q1.csv')\n",
    "Q2 = pd.read_csv('meteo_data/LC_2022Q2.csv')\n",
    "Q3 = pd.read_csv('meteo_data/LC_2022Q3.csv')\n",
    "Q4 = pd.read_csv('meteo_data/LC_2022Q4.csv')"
   ]
  },
  {
   "cell_type": "code",
   "execution_count": null,
   "metadata": {},
   "outputs": [],
   "source": [
    "#If google drive\n",
    "# Set up a project in the Google API Console and enable the Google Drive API.\n",
    "\n",
    "# Install the PyDrive library using pip: `pip install PyDrive`\n",
    "\n",
    "# Authenticate with your Google account.\n",
    "gauth = GoogleAuth()\n",
    "gauth.LocalWebserverAuth()  # Follow the instructions to authenticate with your Google account\n",
    "\n",
    "# Step 4: Use the PyDrive client to retrieve the folder or file ID of the data you want to access.\n",
    "drive = GoogleDrive(gauth)\n",
    "\n",
    "# specify folders links\n",
    "MeteoLink = \"https://drive.google.com/drive/folders/1KznKVQzrCpRLgXyXsI2Yz0o2xzqO2CZo?usp=share_link\"\n",
    "\n",
    "# getting folders id\n",
    "MeteoId = MeteoLink.split('/')[-1]\n",
    "\n",
    "# getting folder by id\n",
    "meteo = drive.CreateFile({'id': MeteoId})\n",
    "meteo.FetchMetadata()\n",
    "\n",
    "# getting files in the folders\n",
    "MeteoFileList = drive.ListFile({'q': \"'%s' in parents and trashed=false\" % MeteoId}).GetList()\n",
    "print (MeteoFileList[0])"
   ]
  },
  {
   "attachments": {},
   "cell_type": "markdown",
   "metadata": {},
   "source": [
    "# Cleaning Data"
   ]
  },
  {
   "cell_type": "code",
   "execution_count": 5,
   "metadata": {},
   "outputs": [
    {
     "name": "stdout",
     "output_type": "stream",
     "text": [
      "DATEUTC         0.000000\n",
      "ID              0.000000\n",
      "LC_HUMIDITY     0.047140\n",
      "LC_DWPTEMP      0.047140\n",
      "LC_n            0.047140\n",
      "LC_RAD          0.047140\n",
      "LC_RAININ       0.047140\n",
      "LC_DAILYRAIN    0.047140\n",
      "LC_WINDDIR      0.047140\n",
      "LC_WINDSPEED    0.047140\n",
      "Date            0.000000\n",
      "Year            0.000000\n",
      "Month           0.000000\n",
      "Day             0.000000\n",
      "Hour            0.000000\n",
      "Minute          0.000000\n",
      "LC_RAD60        0.040993\n",
      "LC_TEMP_QCL0    0.047140\n",
      "LC_TEMP_QCL1    0.052611\n",
      "LC_TEMP_QCL2    0.052611\n",
      "LC_TEMP_QCL3    0.052611\n",
      "dtype: float64\n"
     ]
    }
   ],
   "source": [
    "#Identifying missing values of Q1\n",
    "\n",
    "Q1MissingValuesCount = Q1.isnull().sum()\n",
    "Q1MissingValuesRatio = Q1.isnull().mean()\n",
    "print(Q1MissingValuesRatio)\n"
   ]
  },
  {
   "cell_type": "code",
   "execution_count": 6,
   "metadata": {},
   "outputs": [
    {
     "name": "stdout",
     "output_type": "stream",
     "text": [
      "DATEUTC         0.000000\n",
      "ID              0.000000\n",
      "LC_HUMIDITY     0.087124\n",
      "LC_DWPTEMP      0.087124\n",
      "LC_n            0.087124\n",
      "LC_RAD          0.087124\n",
      "LC_RAININ       0.087124\n",
      "LC_DAILYRAIN    0.087124\n",
      "LC_WINDDIR      0.087124\n",
      "LC_WINDSPEED    0.087124\n",
      "Date            0.000000\n",
      "Year            0.000000\n",
      "Month           0.000000\n",
      "Day             0.000000\n",
      "Hour            0.000000\n",
      "Minute          0.000000\n",
      "LC_RAD60        0.080819\n",
      "LC_TEMP_QCL0    0.087124\n",
      "LC_TEMP_QCL1    0.091886\n",
      "LC_TEMP_QCL2    0.091886\n",
      "LC_TEMP_QCL3    0.091886\n",
      "dtype: float64\n"
     ]
    }
   ],
   "source": [
    "#Identifying missing values of Q2\n",
    "\n",
    "Q2MissingValuesCount = Q2.isnull().sum()\n",
    "Q2MissingValuesRatio = Q2.isnull().mean()\n",
    "print(Q2MissingValuesRatio)\n"
   ]
  },
  {
   "cell_type": "code",
   "execution_count": 7,
   "metadata": {},
   "outputs": [
    {
     "name": "stdout",
     "output_type": "stream",
     "text": [
      "DATEUTC         0.000000\n",
      "ID              0.000000\n",
      "LC_HUMIDITY     0.034030\n",
      "LC_DWPTEMP      0.034030\n",
      "LC_n            0.034030\n",
      "LC_RAD          0.034030\n",
      "LC_RAININ       0.034030\n",
      "LC_DAILYRAIN    0.034030\n",
      "LC_WINDDIR      0.034030\n",
      "LC_WINDSPEED    0.034030\n",
      "Date            0.000000\n",
      "Year            0.000000\n",
      "Month           0.000000\n",
      "Day             0.000000\n",
      "Hour            0.000000\n",
      "Minute          0.000000\n",
      "LC_RAD60        0.027298\n",
      "LC_TEMP_QCL0    0.034030\n",
      "LC_TEMP_QCL1    0.038538\n",
      "LC_TEMP_QCL2    0.038538\n",
      "LC_TEMP_QCL3    0.038538\n",
      "dtype: float64\n"
     ]
    }
   ],
   "source": [
    "#identifying missing values in Q3\n",
    "\n",
    "Q3MissingValuesCount = Q3.isnull().sum()\n",
    "Q3MissingValuesRatio = Q3.isnull().mean()\n",
    "print(Q3MissingValuesRatio)\n"
   ]
  },
  {
   "cell_type": "code",
   "execution_count": 8,
   "metadata": {},
   "outputs": [
    {
     "name": "stdout",
     "output_type": "stream",
     "text": [
      "DATEUTC         0.000000\n",
      "ID              0.000000\n",
      "LC_HUMIDITY     0.058037\n",
      "LC_DWPTEMP      0.058037\n",
      "LC_n            0.058037\n",
      "LC_RAD          0.058037\n",
      "LC_RAININ       0.058037\n",
      "LC_DAILYRAIN    0.058037\n",
      "LC_WINDDIR      0.058037\n",
      "LC_WINDSPEED    0.058037\n",
      "Date            0.000000\n",
      "Year            0.000000\n",
      "Month           0.000000\n",
      "Day             0.000000\n",
      "Hour            0.000000\n",
      "Minute          0.000000\n",
      "LC_RAD60        0.049988\n",
      "LC_TEMP_QCL0    0.058037\n",
      "LC_TEMP_QCL1    0.065340\n",
      "LC_TEMP_QCL2    0.065340\n",
      "LC_TEMP_QCL3    0.065340\n",
      "dtype: float64\n"
     ]
    }
   ],
   "source": [
    "#identifying missing values in Q4\n",
    "Q4MissingValuesCount = Q4.isnull().sum()\n",
    "Q4MissingValuesRatio = Q4.isnull().mean()\n",
    "print(Q4MissingValuesRatio)"
   ]
  },
  {
   "cell_type": "code",
   "execution_count": 9,
   "metadata": {},
   "outputs": [
    {
     "name": "stdout",
     "output_type": "stream",
     "text": [
      "DATEUTC              0\n",
      "ID                   0\n",
      "LC_HUMIDITY     314899\n",
      "LC_DWPTEMP      314899\n",
      "LC_n            314899\n",
      "LC_RAD          314899\n",
      "LC_RAININ       314899\n",
      "LC_DAILYRAIN    314899\n",
      "LC_WINDDIR      314899\n",
      "LC_WINDSPEED    314899\n",
      "Date                 0\n",
      "Year                 0\n",
      "Month                0\n",
      "Day                  0\n",
      "Hour                 0\n",
      "Minute               0\n",
      "LC_RAD60        277022\n",
      "LC_TEMP_QCL0    314899\n",
      "LC_TEMP_QCL1    345487\n",
      "LC_TEMP_QCL2    345487\n",
      "LC_TEMP_QCL3    345487\n",
      "dtype: int64\n",
      "DATEUTC         0.000000\n",
      "ID              0.000000\n",
      "LC_HUMIDITY     0.056770\n",
      "LC_DWPTEMP      0.056770\n",
      "LC_n            0.056770\n",
      "LC_RAD          0.056770\n",
      "LC_RAININ       0.056770\n",
      "LC_DAILYRAIN    0.056770\n",
      "LC_WINDDIR      0.056770\n",
      "LC_WINDSPEED    0.056770\n",
      "Date            0.000000\n",
      "Year            0.000000\n",
      "Month           0.000000\n",
      "Day             0.000000\n",
      "Hour            0.000000\n",
      "Minute          0.000000\n",
      "LC_RAD60        0.049942\n",
      "LC_TEMP_QCL0    0.056770\n",
      "LC_TEMP_QCL1    0.062285\n",
      "LC_TEMP_QCL2    0.062285\n",
      "LC_TEMP_QCL3    0.062285\n",
      "dtype: float64\n"
     ]
    }
   ],
   "source": [
    "#merging the four Qs\n",
    "\n",
    "year = pd.concat([Q1,Q2,Q3,Q4], ignore_index=True)\n",
    "yearMissingValuesCount = year.isnull().sum()\n",
    "yearMissingValuesRatio = year.isnull().mean()\n",
    "print(yearMissingValuesCount)\n",
    "print(yearMissingValuesRatio)"
   ]
  },
  {
   "cell_type": "code",
   "execution_count": 10,
   "metadata": {},
   "outputs": [
    {
     "name": "stdout",
     "output_type": "stream",
     "text": [
      "DATEUTC         0\n",
      "ID              0\n",
      "LC_HUMIDITY     0\n",
      "LC_DWPTEMP      0\n",
      "LC_n            0\n",
      "LC_RAD          0\n",
      "LC_RAININ       0\n",
      "LC_DAILYRAIN    0\n",
      "LC_WINDDIR      0\n",
      "LC_WINDSPEED    0\n",
      "Date            0\n",
      "Year            0\n",
      "Month           0\n",
      "Day             0\n",
      "Hour            0\n",
      "Minute          0\n",
      "LC_RAD60        0\n",
      "LC_TEMP_QCL0    0\n",
      "LC_TEMP_QCL1    0\n",
      "LC_TEMP_QCL2    0\n",
      "LC_TEMP_QCL3    0\n",
      "dtype: int64\n"
     ]
    }
   ],
   "source": [
    "yearMissingValuesRemoved = year.dropna()\n",
    "print(yearMissingValuesRemoved.isnull().sum())"
   ]
  },
  {
   "cell_type": "code",
   "execution_count": 17,
   "metadata": {},
   "outputs": [
    {
     "data": {
      "image/png": "[encoded data removed]",
      "text/plain": [
       "<Figure size 640x480 with 1 Axes>"
      ]
     },
     "metadata": {},
     "output_type": "display_data"
    }
   ],
   "source": [
    "plt.scatter(yearMissingValuesRemoved['Date'],yearMissingValuesRemoved['LC_HUMIDITY'], s=5)\n",
    "plt.xlabel('Date')\n",
    "plt.ylabel('Humidity')\n",
    "plt.show()"
   ]
  },
  {
   "cell_type": "code",
   "execution_count": 12,
   "metadata": {},
   "outputs": [],
   "source": [
    "Q1MissingValuesRemoved = Q1.dropna()\n",
    "Q2MissingValuesRemoved = Q2.dropna()\n",
    "Q3MissingValuesRemoved = Q3.dropna()\n",
    "Q4MissingValuesRemoved = Q4.dropna()"
   ]
  },
  {
   "cell_type": "code",
   "execution_count": 16,
   "metadata": {},
   "outputs": [
    {
     "data": {
      "image/png": "[encoded data removed]",
      "text/plain": [
       "<Figure size 640x480 with 1 Axes>"
      ]
     },
     "metadata": {},
     "output_type": "display_data"
    }
   ],
   "source": [
    "plt.scatter(Q1MissingValuesRemoved['Date'],Q1MissingValuesRemoved['LC_HUMIDITY'],s=5)\n",
    "plt.xlabel('Date')\n",
    "plt.ylabel('Humidity')\n",
    "plt.show()"
   ]
  },
  {
   "cell_type": "code",
   "execution_count": null,
   "metadata": {},
   "outputs": [],
   "source": []
  }
 ],
 "metadata": {
  "kernelspec": {
   "display_name": "Python 3",
   "language": "python",
   "name": "python3"
  },
  "language_info": {
   "codemirror_mode": {
    "name": "ipython",
    "version": 3
   },
   "file_extension": ".py",
   "mimetype": "text/x-python",
   "name": "python",
   "nbconvert_exporter": "python",
   "pygments_lexer": "ipython3",
   "version": "3.9.5"
  },
  "orig_nbformat": 4
 },
 "nbformat": 4,
 "nbformat_minor": 2
}
